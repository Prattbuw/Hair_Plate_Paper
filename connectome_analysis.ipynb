{
 "cells": [
  {
   "cell_type": "markdown",
   "id": "543bad67",
   "metadata": {},
   "source": [
    "# Hair-plate axon connectivity analysis and visualization\n",
    "\n",
    "### Brandon Pratt\n",
    "\n",
    "Connectivity analysis for CxHP8 and other hair plates. User needs to request access to the FANC dataset.\\\n",
    "Dryad repository:"
   ]
  },
  {
   "cell_type": "code",
   "execution_count": 1,
   "id": "a7ae1f29",
   "metadata": {},
   "outputs": [],
   "source": [
    "# Import libraries\n",
    "import os\n",
    "viz_method = 'vtk'\n",
    "\n",
    "'''This is the EM specific package for querying the FANC EM data'''\n",
    "from caveclient import CAVEclient\n",
    "\n",
    "# import some of our favorite packages\n",
    "import pandas as pd\n",
    "import numpy as np\n",
    "import os\n",
    "import seaborn as sea\n",
    "import matplotlib\n",
    "import matplotlib.pyplot as plt\n",
    "%matplotlib inline\n",
    "from sklearn.metrics.pairwise import cosine_similarity\n",
    "import networkx as nx\n",
    "from sklearn.cluster import AgglomerativeClustering\n",
    "import pathlib"
   ]
  },
  {
   "cell_type": "code",
   "execution_count": 2,
   "id": "1a73c777",
   "metadata": {},
   "outputs": [],
   "source": [
    "# save directory\n",
    "save_dir = pathlib.Path.cwd().parent.joinpath('figures', 'raw', 'EM_figs')\n",
    "save_path = str(save_dir)"
   ]
  },
  {
   "cell_type": "code",
   "execution_count": 3,
   "id": "c00e2fb9",
   "metadata": {},
   "outputs": [],
   "source": [
    "# load dataset\n",
    "client = CAVEclient()\n",
    "datastack_name = 'fanc_production_mar2021'\n",
    "client = CAVEclient(datastack_name)"
   ]
  },
  {
   "cell_type": "code",
   "execution_count": 4,
   "id": "9483e59f",
   "metadata": {},
   "outputs": [
    {
     "data": {
      "text/plain": [
       "['wing_motor_neuron_table_v0',\n",
       " 'soma_jan2022',\n",
       " 'synapses_nov2022',\n",
       " 'proofread_second_pass',\n",
       " 'motor_neuron_table_v7',\n",
       " 'somas_dec2022',\n",
       " 'upstream_feco_axons',\n",
       " 'downstream_feco_axons_v1',\n",
       " 'synapse_regions_v1',\n",
       " 'neuron_somas_dec2022',\n",
       " 'topo_23b_table_v0',\n",
       " 'downstream_10b_table_v0',\n",
       " 'downstream_hair_plate_axon_table_v0',\n",
       " 'peripheral_nerves',\n",
       " 'grooming_command_like_neurons_v1',\n",
       " 'feco_axons_v0',\n",
       " 'glia_somas_dec2022',\n",
       " 'gustatory_downstream_t1l',\n",
       " 'proofread_by_andrewcook',\n",
       " 'legcs_axons',\n",
       " 'upstream_hair_plate_axon_table_v0',\n",
       " 'neck_connective',\n",
       " 'abdominal_sensory_axon_table_v0',\n",
       " 'neurotransmitter_hemilineage_table',\n",
       " 'hair_plate_table',\n",
       " 'downstream_bristle_table_v0',\n",
       " 'bristle_axon_table',\n",
       " 'all_leg_motor_neuron_table_v0',\n",
       " 'haltere_motor_neuron_table_v0',\n",
       " 'nerve_bundle_fibers_v0',\n",
       " 'right_to_left_t1_mn_bound2tag_v0',\n",
       " 'neck_motor_neuron_table_v0',\n",
       " 'proofreading_status_table_v0',\n",
       " 'wing_premotor_v4',\n",
       " 'bristle_post_sensory_neurons_v0',\n",
       " 'downstream_cs_axons',\n",
       " 'left_t1_local_premotor_table_v6',\n",
       " 'post_wing_v0',\n",
       " 'bristle_axon_table_v2',\n",
       " 'leg_intersegmental_neuron_table_v0',\n",
       " 'left_t1_mn_nerve_segment_table_v0',\n",
       " 'cell_ids_v2',\n",
       " 'downstream_bristle_table_v2',\n",
       " 'proofread_first_pass',\n",
       " 'downstream_23b_table_v0',\n",
       " 'left_t1_intersegmental_premotor_table_v0',\n",
       " 'neuron_information',\n",
       " 'left_t1_intersegmental_pref_module_reftable_v0',\n",
       " 'neurite_bundle_cell_type_table_v0',\n",
       " 'leg_mn_cell_type_table_v0',\n",
       " 'leg_mn_order_reftable_v2',\n",
       " 'leg_mn_neuropil_reftable_v0',\n",
       " 'leg_mn_module_reftable_v0',\n",
       " 'leg_mn_nerve_reftable_v0',\n",
       " 'leg_mn_segment_reftable_v0',\n",
       " 'sensory_admn_left']"
      ]
     },
     "execution_count": 4,
     "metadata": {},
     "output_type": "execute_result"
    }
   ],
   "source": [
    "# annotation tables\n",
    "client.materialize.get_tables()"
   ]
  },
  {
   "cell_type": "markdown",
   "id": "6b71a1ce",
   "metadata": {},
   "source": [
    "### Load in hair-plate connectivity datasets"
   ]
  },
  {
   "cell_type": "markdown",
   "id": "b0dc5aa4",
   "metadata": {},
   "source": [
    "#### Hair-plate axons in T1L"
   ]
  },
  {
   "cell_type": "code",
   "execution_count": 5,
   "id": "0c26c52e",
   "metadata": {},
   "outputs": [
    {
     "name": "stdout",
     "output_type": "stream",
     "text": [
      "Number of T1L Hair-Plates =  33\n"
     ]
    }
   ],
   "source": [
    "# Hair Axons\n",
    "hp_table = client.materialize.query_table('hair_plate_table')\n",
    "\n",
    "# isolate just T1L hair-plates\n",
    "t1l_hp_name = []\n",
    "t1l_hp_id = []\n",
    "\n",
    "for j in range(len(hp_table)):\n",
    "    if hp_table['classification_system'].values[j][0:3] == 'T1L' and hp_table['cell_type'].values[j]!='Type A CS':\n",
    "        t1l_hp_name.append(hp_table['cell_type'].values[j])\n",
    "        t1l_hp_id.append(hp_table['pt_root_id'].values[j])\n",
    "\n",
    "# sort names \n",
    "sort_idx = np.argsort(t1l_hp_name)\n",
    "Lhp_names = np.array(t1l_hp_name)[sort_idx].tolist()\n",
    "for j in range(len(Lhp_names)):\n",
    "    if Lhp_names[j][0] =='U':\n",
    "        Lhp_names[j] = Lhp_names[j].rsplit('_')[-1]\n",
    "Lhp_ids = np.array(t1l_hp_id)[sort_idx].tolist()\n",
    "\n",
    "print('Number of T1L Hair-Plates = ', len(Lhp_ids))"
   ]
  },
  {
   "cell_type": "markdown",
   "id": "ca297b65",
   "metadata": {},
   "source": [
    "#### Dowstream neurons of hair-plate axons"
   ]
  },
  {
   "cell_type": "code",
   "execution_count": 6,
   "id": "76748559",
   "metadata": {},
   "outputs": [
    {
     "name": "stdout",
     "output_type": "stream",
     "text": [
      "Number of Downstream Partners =  586\n"
     ]
    }
   ],
   "source": [
    "# downstream connectivity\n",
    "downstream_table = client.materialize.query_table('downstream_hair_plate_axon_table_v0')\n",
    "\n",
    "# arrays for storaging the relevant information\n",
    "downstream_ids = []\n",
    "downstream_hemilineage = []\n",
    "downstream_cell_class = []\n",
    "\n",
    "# extract unique ids and cell type information \n",
    "unique_neuron_ids = np.unique(downstream_table['pt_root_id'].values) # likely proofreading resulted in some of the fragments to be connected\n",
    "for j in range(len(unique_neuron_ids)):\n",
    "    neuron_idxs = np.where(downstream_table['pt_root_id'].values == unique_neuron_ids[j])[0]\n",
    "    downstream_ids.append(unique_neuron_ids[j])\n",
    "    if len(neuron_idxs) == 1: # unique neuron\n",
    "        hemilineage, cell_type = downstream_table['cell_type'].values[neuron_idxs[0]].rsplit('_',1)\n",
    "        downstream_hemilineage.append(hemilineage)\n",
    "        downstream_cell_class.append(cell_type)\n",
    "    else: # through proofreading, multiple fragements were combined\n",
    "        temp_cell_type = []\n",
    "        temp_hemilineage = []\n",
    "        for i in neuron_idxs.tolist():\n",
    "            hemilineage, cell_type = downstream_table['cell_type'].values[i].rsplit('_',1)\n",
    "            temp_cell_type.append(cell_type)\n",
    "            temp_hemilineage.append(hemilineage)\n",
    "        \n",
    "        # for cell-type choose the most popular one\n",
    "        unqiue_cells, cell_counts = np.unique(temp_cell_type, return_counts=True)\n",
    "        downstream_cell_class.append(unqiue_cells[np.argmax(cell_counts)])\n",
    "        \n",
    "        # for hemilinege see if one is present\n",
    "        hemilineage_classification = np.array(temp_hemilineage)[np.array(temp_hemilineage) != 'unknown']\n",
    "        if len(hemilineage_classification) > 0:\n",
    "            downstream_hemilineage.append(hemilineage_classification[0])\n",
    "        else:\n",
    "            downstream_hemilineage.append('unknown')\n",
    "            \n",
    "print('Number of Downstream Partners = ', len(downstream_ids))"
   ]
  },
  {
   "cell_type": "markdown",
   "id": "55f388ec",
   "metadata": {},
   "source": [
    "### Motor modules\n",
    "#### Instead of showing motor neurons - show their functional role"
   ]
  },
  {
   "cell_type": "code",
   "execution_count": 7,
   "id": "756a023f",
   "metadata": {},
   "outputs": [],
   "source": [
    "'''Old table'''\n",
    "# module_table = client.materialize.query_table('left_t1_mn_order_module_table_v1')\n",
    "# mod_ids = module_table['pt_root_id'].values\n",
    "# mod_names = module_table['tag2'].values\n",
    "\n",
    "'''New table'''\n",
    "module_table = client.materialize.query_table('leg_mn_module_reftable_v0')\n",
    "mod_ids = module_table['pt_root_id'].values\n",
    "mod_names = module_table['tag'].values\n",
    "\n",
    "# motor neuron neuropil locations\n",
    "mm_neuropil = client.materialize.query_table('leg_mn_neuropil_reftable_v0')\n",
    "neuropil_assc = mm_neuropil['tag'].values\n",
    "\n",
    "# isolate only t1l mms\n",
    "mod_ids = mod_ids[neuropil_assc == 'left_t1']\n",
    "mod_names = mod_names[neuropil_assc == 'left_t1']\n",
    "\n",
    "# reference the hair-plate downstream table and replace hemilineage names\n",
    "for j in range(len(downstream_ids)):\n",
    "    if downstream_ids[j] in mod_ids.tolist():\n",
    "        idx = np.where(mod_ids == downstream_ids[j])[0]\n",
    "        downstream_hemilineage[j] = mod_names[idx][0]"
   ]
  },
  {
   "cell_type": "markdown",
   "id": "e108e224",
   "metadata": {},
   "source": [
    "#### Load in hemilineage neurotransmitter information"
   ]
  },
  {
   "cell_type": "code",
   "execution_count": 9,
   "id": "29708c94",
   "metadata": {},
   "outputs": [
    {
     "name": "stdout",
     "output_type": "stream",
     "text": [
      "Inhibitory Hemilineages =  ['16B', '1B', '2A', '15B', '8A', '9A', '9B', '14A', '13A', '13B', '21A', '24B', '6A', '6B', '5B', '12B', '19A', '3B', '11B', '0A']\n",
      "Excitatory Hemilineages =  ['1A', '10B', '18B', '17A', '4B', '7B', '8B', '20A', '22A', '12A', '19B', '3A', '11A', '23B']\n"
     ]
    }
   ],
   "source": [
    "'''The user needs to point to where the file below is located'''\n",
    "hm_class = pd.read_csv('LacinHLTable - HL table.csv') # cell type identity (hemilineages)\n",
    "\n",
    "# inhibitory hemilineages\n",
    "inhibitory_idxs = np.logical_or(hm_class['NT'].values.astype(str) == 'GABA', hm_class['NT'].values.astype(str) == 'Glu')\n",
    "inhibitory_hms = hm_class['HL'][inhibitory_idxs].values.tolist()\n",
    "print('Inhibitory Hemilineages = ', inhibitory_hms)\n",
    "\n",
    "# excitatory hemilineages\n",
    "excitatory_idxs = hm_class['NT'].values.astype(str) == 'Ach'\n",
    "excitatory_hms = hm_class['HL'][excitatory_idxs].values.tolist()\n",
    "print('Excitatory Hemilineages = ', excitatory_hms)"
   ]
  },
  {
   "cell_type": "code",
   "execution_count": 10,
   "id": "4ea22f53",
   "metadata": {},
   "outputs": [],
   "source": [
    "# load in all hemilineage tables and cross reference table\n",
    "# updated t1l premotor table\n",
    "t1l_premotors = client.materialize.query_table('left_t1_local_premotor_table_v6')\n",
    "\n",
    "# remove zeros from names\n",
    "corrected_hm_ids = []\n",
    "for j in t1l_premotors['classification_system'].values.tolist():\n",
    "    if j[0] == '0':\n",
    "        corrected_hm_ids.append(j[1::])\n",
    "    else:\n",
    "        corrected_hm_ids.append(j)\n",
    "        \n",
    "# create new premotor df with corrected names\n",
    "premotor_info = t1l_premotors[['pt_root_id']]\n",
    "premotor_info.insert(0, 'cell_type', corrected_hm_ids, True)\n",
    "\n",
    "hm_table = client.materialize.query_table('neurotransmitter_hemilineage_table')\n",
    "hm_info = hm_table[['cell_type', 'pt_root_id']]\n",
    "\n",
    "DN_feco = client.materialize.query_table('downstream_feco_axons_v1')\n",
    "DN_feco_info = DN_feco [['cell_type', 'pt_root_id']]\n",
    "\n",
    "up_feco = client.materialize.query_table('upstream_feco_axons')\n",
    "up_feco_info = up_feco [['cell_type', 'pt_root_id']]\n",
    "\n",
    "DN_10b = client.materialize.query_table('downstream_10b_table_v0')\n",
    "DN_10b_info = DN_10b [['cell_type', 'pt_root_id']]\n",
    "\n",
    "# concatenate dataframes\n",
    "cat_info = pd.concat([premotor_info, hm_info, DN_feco_info, up_feco_info, DN_10b_info], ignore_index=True)\n",
    "\n",
    "# remove Nans, fragments, and unknowns\n",
    "cat_info = cat_info[cat_info['cell_type'].values.astype(str) != 'nan']\n",
    "cat_info =  cat_info[cat_info['cell_type'].values != 'fragment']\n",
    "cat_info =  cat_info[cat_info['cell_type'].values != 'unknown']\n",
    "cat_info =  cat_info[cat_info['cell_type'].values != 'sensory']\n",
    "cat_info =  cat_info[cat_info['cell_type'].values != 'descending']\n",
    "cat_info =  cat_info[cat_info['cell_type'].values != 'MN']\n",
    "cat_info =  cat_info[cat_info['cell_type'].values != 'Rcore_']\n",
    "cat_info =  cat_info[cat_info['cell_type'].values != '10B-like']\n",
    "cat_info =  cat_info[cat_info['cell_type'].values != 'RVD']\n",
    "cat_info =  cat_info[cat_info['cell_type'].values != 'ascending']\n",
    "\n",
    "# remove repeated neurons\n",
    "_, unique_idxs = np.unique(cat_info['pt_root_id'].values, return_index=True)\n",
    "cat_info = cat_info.iloc[unique_idxs].reset_index(drop=True)\n",
    "\n",
    "hm_cells = cat_info['cell_type'].values\n",
    "e_i_u_type = np.zeros(len(hm_cells)).astype(str)\n",
    "for j in range(len(hm_cells)):\n",
    "    curr_hm = hm_cells[j]\n",
    "    \n",
    "    # inhibitory\n",
    "    if curr_hm in inhibitory_hms:\n",
    "        e_i_u_type[j] = 'I'\n",
    "    # excitatory\n",
    "    elif curr_hm in excitatory_hms:\n",
    "        e_i_u_type[j] = 'E'\n",
    "    else:  # Unknown\n",
    "        e_i_u_type[j] = 'U'\n",
    "        \n",
    "# remove unknown neurons\n",
    "cat_info['IEU_type'] = e_i_u_type\n",
    "cat_info = cat_info[cat_info['IEU_type'] != 'U']\n",
    "cat_info = cat_info.reset_index(drop = True)"
   ]
  },
  {
   "cell_type": "code",
   "execution_count": 11,
   "id": "2dee72b2",
   "metadata": {},
   "outputs": [],
   "source": [
    "hm_cell_ids = cat_info['pt_root_id'].values\n",
    "hm_cell_classes = cat_info['cell_type'].values\n",
    "\n",
    "downstream_EI = []\n",
    "# reference the hair-plate downstream table and replace hemilineage names\n",
    "for j in range(len(downstream_ids)):\n",
    "    if downstream_ids[j] in hm_cell_ids.tolist():\n",
    "        idx = np.where(hm_cell_ids == downstream_ids[j])[0]\n",
    "        downstream_hemilineage[j] = hm_cell_classes[idx][0]\n",
    "        downstream_EI.append(cat_info['IEU_type'].values[idx][0])\n",
    "    else:\n",
    "        downstream_EI.append('U')"
   ]
  },
  {
   "cell_type": "code",
   "execution_count": 12,
   "id": "edfb5b74",
   "metadata": {},
   "outputs": [],
   "source": [
    "# update hemilineage excitatory and inhibitory table for motor and sensory neurons\n",
    "for j in range(len(downstream_cell_class)):\n",
    "    if downstream_cell_class[j] == 'sensory neuron' or downstream_cell_class[j] == 'leg motor neuron':\n",
    "        downstream_EI[j] = 'E'"
   ]
  },
  {
   "cell_type": "markdown",
   "id": "95fa017f",
   "metadata": {},
   "source": [
    "#### Upstream neurons of hair-plate neurons"
   ]
  },
  {
   "cell_type": "code",
   "execution_count": 18,
   "id": "9d118d46",
   "metadata": {},
   "outputs": [
    {
     "name": "stdout",
     "output_type": "stream",
     "text": [
      "Number of Upstream Partners =  92\n"
     ]
    }
   ],
   "source": [
    "# upstream connectivity\n",
    "upstream_table = client.materialize.query_table('upstream_hair_plate_axon_table_v0')\n",
    "\n",
    "# arrays for storaging the relevant information\n",
    "upstream_ids = []\n",
    "upstream_hemilineage = []\n",
    "upstream_cell_class = []\n",
    "\n",
    "# extract unique ids and cell type information \n",
    "unique_neuron_ids = np.unique(upstream_table['pt_root_id'].values) # likely proofreading resulted in some of the fragments to be connected\n",
    "for j in range(len(unique_neuron_ids)):\n",
    "    neuron_idxs = np.where(upstream_table['pt_root_id'].values == unique_neuron_ids[j])[0]\n",
    "    upstream_ids.append(unique_neuron_ids[j])\n",
    "    if len(neuron_idxs) == 1: # unique neuron\n",
    "        hemilineage, cell_type = upstream_table['cell_type'].values[neuron_idxs[0]].rsplit('_',1)\n",
    "        upstream_hemilineage.append(hemilineage)\n",
    "        upstream_cell_class.append(cell_type)\n",
    "    else: # through proofreading, multiple fragements were combined\n",
    "        temp_cell_type = []\n",
    "        temp_hemilineage = []\n",
    "        for i in neuron_idxs.tolist():\n",
    "            hemilineage, cell_type = upstream_table['cell_type'].values[i].rsplit('_',1)\n",
    "            temp_cell_type.append(cell_type)\n",
    "            temp_hemilineage.append(hemilineage)\n",
    "        \n",
    "        # for cell-type choose the most popular one\n",
    "        unqiue_cells, cell_counts = np.unique(temp_cell_type, return_counts=True)\n",
    "        upstream_cell_class.append(unqiue_cells[np.argmax(cell_counts)])\n",
    "        \n",
    "        # for hemilinege see if one is present\n",
    "        hemilineage_classification = np.array(temp_hemilineage)[np.array(temp_hemilineage) != 'unknown']\n",
    "        if len(hemilineage_classification) > 0:\n",
    "            upstream_hemilineage.append(hemilineage_classification[0])\n",
    "        else:\n",
    "            upstream_hemilineage.append('unknown')\n",
    "            \n",
    "print('Number of Upstream Partners = ', len(upstream_ids))"
   ]
  },
  {
   "cell_type": "code",
   "execution_count": 19,
   "id": "7ad4a2dd",
   "metadata": {},
   "outputs": [],
   "source": [
    "# update upstream sensory neurons to best guess identites\n",
    "for j in range(len(upstream_ids)):\n",
    "    if upstream_ids[j] in Lhp_ids:\n",
    "        idx = np.where(np.array(Lhp_ids) == upstream_ids[j])[0][0]\n",
    "        upstream_hemilineage[j] = np.array(Lhp_names)[idx]"
   ]
  },
  {
   "cell_type": "code",
   "execution_count": 20,
   "id": "8fa7e759",
   "metadata": {},
   "outputs": [],
   "source": [
    "hm_cell_ids = cat_info['pt_root_id'].values\n",
    "hm_cell_classes = cat_info['cell_type'].values\n",
    "\n",
    "upstream_EI = []\n",
    "# reference the hair-plate upstream table and replace hemilineage names\n",
    "for j in range(len(upstream_ids)):\n",
    "    if upstream_ids[j] in hm_cell_ids.tolist():\n",
    "        idx = np.where(hm_cell_ids == upstream_ids[j])[0]\n",
    "        upstream_hemilineage[j] = hm_cell_classes[idx][0]\n",
    "        upstream_EI.append(cat_info['IEU_type'].values[idx][0])\n",
    "    else:\n",
    "        upstream_EI.append('U')\n",
    "        \n",
    "# update hemilineage excitatory and inhibitory table for motor and sensory neurons\n",
    "for j in range(len(upstream_cell_class)):\n",
    "    if upstream_cell_class[j] == 'sensory neuron':\n",
    "        upstream_EI[j] = 'E'"
   ]
  },
  {
   "cell_type": "markdown",
   "id": "2426586a",
   "metadata": {},
   "source": [
    "### Query downstream connectivity of each T1L hair-plate axon"
   ]
  },
  {
   "cell_type": "code",
   "execution_count": 13,
   "id": "97d7fe41",
   "metadata": {},
   "outputs": [
    {
     "name": "stdout",
     "output_type": "stream",
     "text": [
      "downstream matrix shape =  (33, 586)\n"
     ]
    }
   ],
   "source": [
    "syn_threshold = 3\n",
    "downstream_connectivity_matrix = np.zeros((len(Lhp_ids), len(downstream_ids)))\n",
    "sensory_df = client.materialize.synapse_query(pre_ids = Lhp_ids) # query T1L HP connectivity\n",
    "neuron_cnt = -1\n",
    "dwn_syn_counts = np.zeros(len(Lhp_ids))\n",
    "\n",
    "for j in Lhp_ids: \n",
    "    neuron_cnt += 1\n",
    "    \n",
    "    # hair plate specific data frame sorted by the strongest synapse\n",
    "    dwn_df = sensory_df[sensory_df['pre_pt_root_id'] == j]\n",
    "    dwn_synapses = dwn_df .groupby(['pre_pt_root_id','post_pt_root_id'])['post_pt_root_id'].count().reset_index(name=\"number_of_synapses\").sort_values(by=['number_of_synapses'], ascending=False).reset_index(drop=True)\n",
    "    dwn_syn_counts[neuron_cnt] = np.sum(dwn_synapses['number_of_synapses'].values)\n",
    "    dwn_synapses = dwn_synapses[dwn_synapses['number_of_synapses'] > syn_threshold]\n",
    "    \n",
    "    # iterate downstream neurons and fill in synapses counts into connectivity table\n",
    "    dw_cnt = -1\n",
    "    for dw_neuron in downstream_ids:\n",
    "        dw_cnt += 1\n",
    "        if dw_neuron in dwn_synapses['post_pt_root_id'].values.tolist():\n",
    "            n_idx = np.where(dwn_synapses['post_pt_root_id'].values==dw_neuron)[0]\n",
    "            downstream_connectivity_matrix[neuron_cnt, dw_cnt] = dwn_synapses['number_of_synapses'].values[n_idx]\n",
    "            \n",
    "print('downstream matrix shape = ', downstream_connectivity_matrix.shape)"
   ]
  },
  {
   "cell_type": "code",
   "execution_count": 14,
   "id": "e48ce93f",
   "metadata": {},
   "outputs": [],
   "source": [
    "# filter out downstream neurons if they don't recieve any output synapes from T1L hps\n",
    "syn_filt_idxs = np.where(np.sum(downstream_connectivity_matrix, axis =0)!=0)[0]\n",
    "\n",
    "# Filter relevants downstream neuron arrays\n",
    "downstream_ids = np.array(downstream_ids)[syn_filt_idxs].tolist()\n",
    "downstream_hemilineage = np.array(downstream_hemilineage)[syn_filt_idxs].tolist()\n",
    "downstream_EI = np.array(downstream_EI)[syn_filt_idxs].tolist()\n",
    "downstream_connectivity_matrix = downstream_connectivity_matrix[:,syn_filt_idxs]\n",
    "downstream_cell_class = np.array(downstream_cell_class)[syn_filt_idxs].tolist()"
   ]
  },
  {
   "cell_type": "code",
   "execution_count": 15,
   "id": "914a21b3",
   "metadata": {},
   "outputs": [],
   "source": [
    "# convert unidentified hps into actual T1L HPs\n",
    "for j in range(len(downstream_ids)):\n",
    "    if downstream_ids[j] in Lhp_ids:\n",
    "        idx = np.where(np.array(Lhp_ids) == downstream_ids[j])[0]\n",
    "        downstream_hemilineage[j] = np.array(Lhp_names)[idx][0]"
   ]
  },
  {
   "cell_type": "code",
   "execution_count": 16,
   "id": "97df8fb5",
   "metadata": {},
   "outputs": [
    {
     "name": "stdout",
     "output_type": "stream",
     "text": [
      "filter DN mat size = (33, 491)\n"
     ]
    }
   ],
   "source": [
    "print(f'filter DN mat size = {downstream_connectivity_matrix.shape}')"
   ]
  },
  {
   "cell_type": "markdown",
   "id": "e4ef774f",
   "metadata": {},
   "source": [
    "### CXHP8 specific connectivity"
   ]
  },
  {
   "cell_type": "code",
   "execution_count": 17,
   "id": "a815d401",
   "metadata": {},
   "outputs": [],
   "source": [
    "cxhp8_partners_syns = np.sum(downstream_connectivity_matrix[7:15,:], axis =0) \n",
    "cxhp8_locs = np.where(cxhp8_partners_syns >0)[0]\n",
    "cxhp8_partners_syns_filt = cxhp8_partners_syns[cxhp8_locs]\n",
    "partner_ids = np.array(downstream_ids)[cxhp8_locs]\n",
    "\n",
    "# determine the percent of them that are premotor or motor neurons\n",
    "tot_synapses = 0\n",
    "mn_syn_cnt = 0\n",
    "pre_mn_cnt = 0\n",
    "other_cnt = 0\n",
    "for j in range(len(partner_ids)):\n",
    "    curr_syn = cxhp8_partners_syns_filt[j]\n",
    "    tot_synapses += curr_syn\n",
    "    if partner_ids[j] in premotor_info['pt_root_id'].values.tolist(): \n",
    "        pre_mn_cnt += curr_syn\n",
    "    elif partner_ids[j] in mod_ids.tolist():\n",
    "        mn_syn_cnt += curr_syn\n",
    "    else:\n",
    "        other_cnt += curr_syn\n",
    "    \n",
    "    "
   ]
  },
  {
   "cell_type": "code",
   "execution_count": 18,
   "id": "5768c412",
   "metadata": {},
   "outputs": [
    {
     "data": {
      "image/png": "[encoded data removed]",
      "text/plain": [
       "<Figure size 360x360 with 1 Axes>"
      ]
     },
     "metadata": {},
     "output_type": "display_data"
    }
   ],
   "source": [
    "# make piechart showing the difference\n",
    "fig = plt.figure(1, figsize = [5,5])\n",
    "labels = ['Motor Neuron', 'Premotor', 'Non-Motor']\n",
    "\n",
    "data = [mn_syn_cnt/tot_synapses, pre_mn_cnt/tot_synapses, other_cnt/tot_synapses]\n",
    "\n",
    "#define Seaborn color palette to use\n",
    "colors = sea.color_palette('pastel')[0:5]\n",
    "\n",
    "#create pie chart\n",
    "plt.pie(data, labels = labels, colors = colors, autopct='%.0f%%')\n",
    "plt.tight_layout()\n",
    "plt.show()\n",
    "\n",
    "# fig.savefig(save_path+'cxhp8_motor.png', dpi=300)\n",
    "# fig.savefig(save_path+'cxhp8_motor.pdf', dpi=300)"
   ]
  },
  {
   "cell_type": "code",
   "execution_count": 28,
   "id": "f16f4f54",
   "metadata": {},
   "outputs": [
    {
     "name": "stdout",
     "output_type": "stream",
     "text": [
      "average_hp_synapses 481.50816127559045\n"
     ]
    }
   ],
   "source": [
    "hp_idxs = np.where(np.array(Lhp_names)=='CoHP8')[0]\n",
    "    \n",
    "# plot hps\n",
    "y = np.std(dwn_syn_counts[hp_idxs])\n",
    "\n",
    "print('average_hp_synapses', y)"
   ]
  },
  {
   "cell_type": "markdown",
   "id": "94724908",
   "metadata": {},
   "source": [
    "#### CxHP8 motor neuron connectivity"
   ]
  },
  {
   "cell_type": "code",
   "execution_count": 21,
   "id": "49abee64",
   "metadata": {},
   "outputs": [],
   "source": [
    "# sort motor modules (~MNs) along the proximal-distal axis of the leg\n",
    "# mm_order = ['coxa_posterior', 'coxa_promotion', 'coxa_rotator_adductor', 'trochanter_flex', \n",
    "#            'trochanter_extend', 'femur_reduct', 'tibia_ta_flex_A', 'tibia_ta_flex_B', 'tibia_ta_flex_C',\n",
    "#            'tibia_extend', 'tarsus_depressor_ventralU']\n",
    "\n",
    "'''New naming scheme'''\n",
    "mm_order = ['coxa_posterior', 'coxa_anterior', 'coxa_promote',\n",
    "       'coxa_rotate_adduct', 'trochanter_extend', 'trochanter_flex', 'femur_reduct', \n",
    "       'tibia_extend','tibia_ta_flex_A', 'tibia_ta_flex_B', 'tibia_ta_flex_C',\n",
    "       'tarsus_depress_medial', 'tarsus_depress_ventralU','ltm_A', 'ltm_B']\n",
    "mm_idxs = np.where(np.array(downstream_cell_class) == 'leg motor neuron')[0]\n",
    "mm_names = np.array(downstream_hemilineage)[mm_idxs]\n",
    "\n",
    "for j in range(len(mm_order)):\n",
    "    curr_mm_ids = np.where(np.array(downstream_hemilineage) == mm_order[j])[0]\n",
    "    if len(curr_mm_ids)>1:\n",
    "        temp_mat = downstream_connectivity_matrix[:, curr_mm_ids]\n",
    "        # cosine similarity to find structure\n",
    "        sim_mat = cosine_similarity(np.transpose(temp_mat))\n",
    "        model = AgglomerativeClustering(distance_threshold=0, n_clusters=None).fit(sim_mat)\n",
    "        clustered_order = plot_dendrogram(model, truncate_mode=\"level\", p=temp_mat.shape[1]) # p truncate mode\n",
    "        clustered_order = np.array(clustered_order).astype(int) # convert strins into integers\n",
    "    \n",
    "        if j ==0:\n",
    "            id_order = curr_mm_ids[clustered_order]\n",
    "            mm_name_store = np.repeat(mm_order[j], len(curr_mm_ids))\n",
    "        else:\n",
    "            id_order = np.concatenate((id_order, curr_mm_ids[clustered_order]))\n",
    "            mm_name_store = np.concatenate((mm_name_store, np.repeat(mm_order[j], len(curr_mm_ids))))\n",
    "    else:\n",
    "        if j ==0:\n",
    "            id_order = curr_mm_ids\n",
    "            mm_name_store = np.repeat(mm_order[j], len(curr_mm_ids))\n",
    "        else:\n",
    "            id_order = np.concatenate((id_order, curr_mm_ids))\n",
    "            mm_name_store = np.concatenate((mm_name_store, np.repeat(mm_order[j], len(curr_mm_ids))))"
   ]
  },
  {
   "cell_type": "code",
   "execution_count": 22,
   "id": "aa2afcc1",
   "metadata": {},
   "outputs": [
    {
     "data": {
      "text/plain": [
       "(8, 11)"
      ]
     },
     "execution_count": 22,
     "metadata": {},
     "output_type": "execute_result"
    }
   ],
   "source": [
    "mm_mat = downstream_connectivity_matrix[7:15, id_order]\n",
    "\n",
    "# remove columns that don't have connectivity\n",
    "filt_idxs = np.where(np.sum(mm_mat, axis = 0)> 0)[0]\n",
    "mm_mat_filt = mm_mat[:, filt_idxs]\n",
    "filt_mm_name = mm_name_store[filt_idxs] \n",
    "mm_mat_filt.shape"
   ]
  },
  {
   "cell_type": "markdown",
   "id": "137edd4f",
   "metadata": {},
   "source": [
    "### Just CxHP8"
   ]
  },
  {
   "cell_type": "code",
   "execution_count": 23,
   "id": "6809d8f7",
   "metadata": {},
   "outputs": [
    {
     "data": {
      "image/png": "[encoded data removed]",
      "text/plain": [
       "<Figure size 720x576 with 2 Axes>"
      ]
     },
     "metadata": {
      "needs_background": "light"
     },
     "output_type": "display_data"
    }
   ],
   "source": [
    "# visualize connectivity matrix\n",
    "fig = plt.figure(1, figsize = [10,8])\n",
    "ax = sea.heatmap(mm_mat_filt, xticklabels=filt_mm_name.tolist(), yticklabels=np.array(Lhp_names)[7:15].tolist(), cmap='Greys', vmin=0, vmax=40) #parula_map \n",
    "cbar = ax.collections[0].colorbar\n",
    "cbar.ax.tick_params(labelsize=14)\n",
    "cbar.set_label(label = 'Number of Synapses', size=20, fontname ='Arial')\n",
    "plt.xlabel('Motor Module', fontsize =16, fontname ='Arial')\n",
    "plt.ylabel('Hair Plate Neurons', fontsize =16, fontname ='Arial')\n",
    "plt.yticks(fontsize = 12, fontname = 'Arial')\n",
    "plt.xticks(fontsize = 12, fontname = 'Arial')\n",
    "plt.show()\n",
    "# fig.savefig(save_dir.joinpath('02232025_cxhp8_motor_module_connectivity_matrix.png'), dpi = 300, bbox_inches = 'tight')\n",
    "# fig.savefig(save_dir.joinpath('02232025_cxhp8_motor_module_connectivity_matrix.pdf'), dpi = 300, bbox_inches = 'tight')"
   ]
  },
  {
   "cell_type": "markdown",
   "id": "0f3d4e0d",
   "metadata": {},
   "source": [
    "### All Hair Plates"
   ]
  },
  {
   "cell_type": "code",
   "execution_count": 24,
   "id": "33987970",
   "metadata": {},
   "outputs": [
    {
     "data": {
      "image/png": "[encoded data removed]",
      "text/plain": [
       "<Figure size 1080x720 with 2 Axes>"
      ]
     },
     "metadata": {
      "needs_background": "light"
     },
     "output_type": "display_data"
    }
   ],
   "source": [
    "'''New naming scheme that are based on Sankey plots'''\n",
    "mm_order = ['coxa_anterior', 'coxa_rotate_adduct','coxa_promote', 'coxa_posterior', 'trochanter_flex', 'trochanter_extend', \n",
    "            'femur_reduct', 'tibia_ta_flex_A', 'tibia_ta_flex_B', \n",
    "            'tibia_ta_flex_C', 'tibia_extend','tarsus_depress_medial', 'tarsus_depress_ventralU',\n",
    "            'ltm_A', 'ltm_B']\n",
    "mm_idxs = np.where(np.array(downstream_cell_class) == 'leg motor neuron')[0]\n",
    "mm_names = np.array(downstream_hemilineage)[mm_idxs]\n",
    "\n",
    "for j in range(len(mm_order)):\n",
    "    curr_mm_ids = np.where(np.array(downstream_hemilineage) == mm_order[j])[0]\n",
    "    if len(curr_mm_ids)>1:\n",
    "        temp_mat = downstream_connectivity_matrix[:, curr_mm_ids]\n",
    "        # cosine similarity to find structure\n",
    "        sim_mat = cosine_similarity(np.transpose(temp_mat))\n",
    "        model = AgglomerativeClustering(distance_threshold=0, n_clusters=None).fit(sim_mat)\n",
    "        clustered_order = plot_dendrogram(model, truncate_mode=\"level\", p=temp_mat.shape[1]) # p truncate mode\n",
    "        clustered_order = np.array(clustered_order).astype(int) # convert strins into integers\n",
    "    \n",
    "        if j ==0:\n",
    "            id_order = curr_mm_ids[clustered_order]\n",
    "            mm_name_store = np.repeat(mm_order[j], len(curr_mm_ids))\n",
    "        else:\n",
    "            id_order = np.concatenate((id_order, curr_mm_ids[clustered_order]))\n",
    "            mm_name_store = np.concatenate((mm_name_store, np.repeat(mm_order[j], len(curr_mm_ids))))\n",
    "    else:\n",
    "        if j ==0:\n",
    "            id_order = curr_mm_ids\n",
    "            mm_name_store = np.repeat(mm_order[j], len(curr_mm_ids))\n",
    "        else:\n",
    "            id_order = np.concatenate((id_order, curr_mm_ids))\n",
    "            mm_name_store = np.concatenate((mm_name_store, np.repeat(mm_order[j], len(curr_mm_ids))))\n",
    "\n",
    "\n",
    "\n",
    "# visualize connectivity matrix\n",
    "# reorder connectivity matrix so that CxHP4 comes before CxHP3\n",
    "swap_idx = np.arange(downstream_connectivity_matrix.shape[0])\n",
    "swap_idx[0:4] = np.array([3,4,5,6])\n",
    "swap_idx[4:7] = np.array([0,1,2])\n",
    "swapped_downstream_connectivity_matrix = downstream_connectivity_matrix[swap_idx,:] # reorder so that CxHP4 comes first\n",
    "\n",
    "# filter the hair plate to motor module\n",
    "swapped_mm_mat = swapped_downstream_connectivity_matrix[:, id_order]\n",
    "swapped_filt_idxs = np.where(np.sum(swapped_mm_mat, axis = 0)> 0)[0]\n",
    "swapped_mm_mat_filt = swapped_mm_mat[:, swapped_filt_idxs]\n",
    "filt_mm_name = mm_name_store[swapped_filt_idxs] \n",
    "\n",
    "# plot direct motor neuron connectivity\n",
    "fig = plt.figure(1, figsize = [15,10])\n",
    "ax = sea.heatmap(swapped_mm_mat_filt, xticklabels=filt_mm_name.tolist(), yticklabels=np.array(Lhp_names)[swap_idx].tolist(), cmap='Greys', vmin=0, vmax=40) #parula_map \n",
    "cbar = ax.collections[0].colorbar\n",
    "cbar.ax.tick_params(labelsize=14)\n",
    "cbar.set_label(label = 'Number of Synapses', size=20, fontname ='Arial')\n",
    "plt.xlabel('Motor Module', fontsize =16, fontname ='Arial')\n",
    "plt.ylabel('Hair Plate Neurons', fontsize =16, fontname ='Arial')\n",
    "plt.yticks(fontsize = 12, fontname = 'Arial')\n",
    "plt.xticks(fontsize = 12, fontname = 'Arial')\n",
    "plt.show()\n",
    "# fig.savefig(save_dir.joinpath('03302025_hp_motor_module_connectivity_matrix.png'), dpi = 300, bbox_inches = 'tight')\n",
    "# fig.savefig(save_dir.joinpath('03302025_hp_motor_module_connectivity_matrix.pdf'), dpi = 300, bbox_inches = 'tight')"
   ]
  },
  {
   "cell_type": "markdown",
   "id": "fc76ab71",
   "metadata": {},
   "source": [
    "### plot the number of input synapes of CxHP8 onto motor modules"
   ]
  },
  {
   "cell_type": "code",
   "execution_count": 31,
   "id": "fd880ba1",
   "metadata": {},
   "outputs": [],
   "source": [
    "# compute the average fraction of direct synapses of CxHP8 neurons onto motor modules\n",
    "unique_mm = np.unique(mod_names) \n",
    "tot_mm_syns = np.sum(mm_mat, axis=1)\n",
    "mean_mm_syn = np.zeros(unique_mm.shape[0])\n",
    "std_mm_syn = np.zeros(unique_mm.shape[0])\n",
    "\n",
    "for i, mm in enumerate(unique_mm):\n",
    "    # all mm that cxhp8 synapes onto\n",
    "    if mm in mm_name_store:\n",
    "        idxs = np.where(mm_name_store == mm)[0]\n",
    "        fraction_mm_output = np.sum(mm_mat[:, idxs], axis=1)/tot_mm_syns   # synapses of all mns\n",
    "        mean_mm_syn[i] = np.mean(fraction_mm_output)\n",
    "        std_mm_syn[i] = np.std(fraction_mm_output)\n",
    "        \n",
    "# rank values\n",
    "mm_sort_idxs = np.argsort(mean_mm_syn)[::-1]\n",
    "mm_names_sorted = unique_mm[mm_sort_idxs]\n",
    "mean_mm_syn_sorted = mean_mm_syn[mm_sort_idxs]\n",
    "std_mm_syn_sorted = std_mm_syn[mm_sort_idxs]"
   ]
  },
  {
   "cell_type": "code",
   "execution_count": 32,
   "id": "2da53578",
   "metadata": {},
   "outputs": [
    {
     "data": {
      "image/png": "[encoded data removed]",
      "text/plain": [
       "<Figure size 216x432 with 1 Axes>"
      ]
     },
     "metadata": {
      "needs_background": "light"
     },
     "output_type": "display_data"
    }
   ],
   "source": [
    "# plot fraction CxHP8 output\n",
    "fig = plt.figure(1, figsize=[3,6])\n",
    "plt.errorbar(np.arange(unique_mm.shape[0])[0:5], mean_mm_syn_sorted[0:5], yerr=std_mm_syn_sorted[0:5], color='k', linewidth=1.5, marker='.', markersize=8, elinewidth=3)\n",
    "plt.xticks(np.arange(unique_mm.shape[0])[0:5], mm_names_sorted[0:5], rotation=90)\n",
    "plt.ylabel('fraction of input synapses onto motor neurons')\n",
    "plt.xlabel('motor module')\n",
    "plt.tight_layout()\n",
    "plt.show()\n",
    "\n",
    "fig.savefig(save_dir.joinpath('CxHP_input_motor_modules.png'), dpi=200)\n",
    "fig.savefig(save_dir.joinpath('CxHP_input_motor_modules.pdf'), dpi=200)"
   ]
  },
  {
   "cell_type": "markdown",
   "id": "10020fa2",
   "metadata": {},
   "source": [
    "#### CxHP8 premotor connectivity"
   ]
  },
  {
   "cell_type": "code",
   "execution_count": 25,
   "id": "a9e83de6",
   "metadata": {},
   "outputs": [],
   "source": [
    "# correct cell class labels\n",
    "downstream_cell_class[np.where(np.array(downstream_cell_class)=='local?')[0][0]] = 'orphan fragment'\n",
    "\n",
    "# # remove unknown cell class because it is a result of T1R being damaged\n",
    "# downstream_ids = np.array(downstream_ids)[np.array(downstream_cell_class)!='unknown'].tolist()\n",
    "# downstream_hemilineage = np.array(downstream_hemilineage)[np.array(downstream_cell_class)!='unknown'].tolist()\n",
    "# downstream_EI = np.array(downstream_EI)[np.array(downstream_cell_class)!='unknown'].tolist()\n",
    "# downstream_connectivity_matrix = downstream_connectivity_matrix[:,np.array(downstream_cell_class)!='unknown']\n",
    "# downstream_cell_class = np.array(downstream_cell_class)[np.array(downstream_cell_class)!='unknown'].tolist()"
   ]
  },
  {
   "cell_type": "code",
   "execution_count": 26,
   "id": "c1c7749e",
   "metadata": {},
   "outputs": [],
   "source": [
    "# split local into local premotor and local non-premotor\n",
    "for j in range(len(downstream_ids)):\n",
    "    if downstream_ids[j] in premotor_info['pt_root_id'].values.tolist():\n",
    "        idx = np.where(premotor_info['pt_root_id'].values == downstream_ids[j])[0]\n",
    "        downstream_cell_class[j] = 'local premotor'"
   ]
  },
  {
   "cell_type": "code",
   "execution_count": 27,
   "id": "3e566ffc",
   "metadata": {},
   "outputs": [
    {
     "data": {
      "text/plain": [
       "array(['ascending', 'descending', 'glia', 'intersegmental',\n",
       "       'leg motor neuron', 'local', 'local premotor', 'orphan fragment',\n",
       "       'sensory neuron'], dtype='<U16')"
      ]
     },
     "execution_count": 27,
     "metadata": {},
     "output_type": "execute_result"
    }
   ],
   "source": [
    "np.unique(downstream_cell_class)"
   ]
  },
  {
   "cell_type": "code",
   "execution_count": 28,
   "id": "e398676f",
   "metadata": {},
   "outputs": [],
   "source": [
    "# seperate inhibitory and excitatory premotor neurons\n",
    "syn_threshold = 3\n",
    "# inhibitory\n",
    "iin_order = ['6A', '8A', '9A', '12B', '13A', '13B', '14A', '16B', '19A', '21A']\n",
    "iin_pre_idxs = np.where(np.logical_and(np.array(downstream_cell_class) == 'local premotor', np.array(downstream_EI) == 'I') == True)[0]\n",
    "iin_names = np.array(downstream_hemilineage)[iin_pre_idxs]\n",
    "\n",
    "for j in range(len(iin_order)):\n",
    "    curr_ids = iin_pre_idxs[np.where(np.array(iin_names) == iin_order[j])[0]]\n",
    "    if len(curr_ids)>1:\n",
    "        temp_mat = downstream_connectivity_matrix[:, curr_ids]\n",
    "        # cosine similarity to find structure\n",
    "        sim_mat = cosine_similarity(np.transpose(temp_mat))\n",
    "        model = AgglomerativeClustering(distance_threshold=0, n_clusters=None).fit(sim_mat)\n",
    "        clustered_order = plot_dendrogram(model, truncate_mode=\"level\", p=temp_mat.shape[1]) # p truncate mode\n",
    "        clustered_order = np.array(clustered_order).astype(int) # convert strins into integers\n",
    "\n",
    "        if j ==0:\n",
    "            iin_id_order = curr_ids[clustered_order]\n",
    "            iin_name_store = np.repeat(iin_order[j], len(curr_ids))\n",
    "            cnt = 1\n",
    "        else:\n",
    "            iin_id_order = np.concatenate((iin_id_order, curr_ids[clustered_order]))\n",
    "            iin_name_store = np.concatenate((iin_name_store, np.repeat(iin_order[j], len(curr_ids))))\n",
    "    else:\n",
    "        if j ==0:\n",
    "            iin_id_order = curr_ids\n",
    "            iin_name_store = np.repeat(iin_order[j], len(curr_ids))\n",
    "            cnt = 1\n",
    "        else:\n",
    "            iin_id_order = np.concatenate((iin_id_order, curr_ids))\n",
    "            iin_name_store = np.concatenate((iin_name_store, np.repeat(iin_order[j], len(curr_ids))))\n",
    "\n",
    "\n",
    "# excitatory\n",
    "ein_order = ['1A', '3A', '4B', '7B', '17A', '19B', '20A', '22A', '23B']\n",
    "ein_pre_idxs = np.where(np.logical_and(np.array(downstream_cell_class) == 'local premotor', np.array(downstream_EI) == 'E') == True)[0]\n",
    "ein_names = np.array(downstream_hemilineage)[ein_pre_idxs]\n",
    "for j in range(len(ein_order)):\n",
    "    curr_ids = ein_pre_idxs[np.where(np.array(ein_names) == ein_order[j])[0]]\n",
    "    if len(curr_ids)>1:\n",
    "        temp_mat = downstream_connectivity_matrix[:, curr_ids]\n",
    "        # cosine similarity to find structure\n",
    "        sim_mat = cosine_similarity(np.transpose(temp_mat))\n",
    "        model = AgglomerativeClustering(distance_threshold=0, n_clusters=None).fit(sim_mat)\n",
    "        clustered_order = plot_dendrogram(model, truncate_mode=\"level\", p=temp_mat.shape[1]) # p truncate mode\n",
    "        clustered_order = np.array(clustered_order).astype(int) # convert strins into integers\n",
    "\n",
    "        if j ==0:\n",
    "            ein_id_order = curr_ids[clustered_order]\n",
    "            ein_name_store = np.repeat(ein_order[j], len(curr_ids))\n",
    "            cnt = 1\n",
    "        else:\n",
    "            ein_id_order = np.concatenate((ein_id_order, curr_ids[clustered_order]))\n",
    "            ein_name_store = np.concatenate((ein_name_store, np.repeat(ein_order[j], len(curr_ids))))\n",
    "    else:\n",
    "        if j ==0:\n",
    "            ein_id_order = curr_ids\n",
    "            ein_name_store = np.repeat(ein_order[j], len(curr_ids))\n",
    "            cnt = 1\n",
    "        else:\n",
    "            ein_id_order = np.concatenate((ein_id_order, curr_ids))\n",
    "            ein_name_store = np.concatenate((ein_name_store, np.repeat(ein_order[j], len(curr_ids))))"
   ]
  },
  {
   "cell_type": "code",
   "execution_count": 30,
   "id": "b6eff83a",
   "metadata": {
    "scrolled": true
   },
   "outputs": [
    {
     "data": {
      "image/png": "[encoded data removed]",
      "text/plain": [
       "<Figure size 2160x720 with 2 Axes>"
      ]
     },
     "metadata": {
      "needs_background": "light"
     },
     "output_type": "display_data"
    }
   ],
   "source": [
    "# combine ein and iin matrices and visualize\n",
    "cat_in_ids = np.concatenate((ein_id_order, iin_id_order))\n",
    "cat_in_names = np.concatenate((ein_name_store, iin_name_store))\n",
    "\n",
    "# extract out motor module connectivity matrix\n",
    "in_mat = downstream_connectivity_matrix[7:15, cat_in_ids]   # set rows to all for premotor connectivity of every hp\n",
    "\n",
    "# visualize connectivity matrix\n",
    "fig = plt.figure(1, figsize = [30,10])\n",
    "ax = sea.heatmap(in_mat, xticklabels = cat_in_names.tolist(), yticklabels=np.array(Lhp_names)[7:15].tolist(), cmap='Greys',vmin=0, vmax=40) #\n",
    "cbar = ax.collections[0].colorbar\n",
    "cbar.ax.tick_params(labelsize=14)\n",
    "cbar.set_label(label = 'Number of Synapses', size=20, fontname ='Arial')\n",
    "plt.xlabel('Premotor INs', fontsize =16, fontname ='Arial')\n",
    "plt.ylabel('Hair Plate Neurons', fontsize =16, fontname ='Arial')\n",
    "plt.yticks(fontsize = 12, fontname = 'Arial')\n",
    "plt.xticks(fontsize = 8, fontname = 'Arial')\n",
    "plt.show()\n",
    "\n",
    "# fig.savefig(save_dir.joinpath('02232025_cxhp8_premotor_connectivity_matrix.png'), dpi = 300, bbox_inches = 'tight')\n",
    "# fig.savefig(save_dir.joinpath('02232025_cxhp8_premotor_connectivity_matrix.pdf'), dpi = 300, bbox_inches = 'tight')"
   ]
  },
  {
   "cell_type": "markdown",
   "id": "0e888c6d",
   "metadata": {},
   "source": [
    "### Number of output synapses per hair-plate class"
   ]
  },
  {
   "cell_type": "code",
   "execution_count": 45,
   "id": "7c6c78bd",
   "metadata": {},
   "outputs": [],
   "source": [
    "save_path = 'H:/.shortcut-targets-by-id/10pxdlRXtzFB-abwDGi0jOGOFFNm3pmFK/Tuthill Lab Shared/manuscripts/hairplates_2024/figures/raw/EM_figs/'"
   ]
  },
  {
   "cell_type": "code",
   "execution_count": 46,
   "id": "05240748",
   "metadata": {},
   "outputs": [
    {
     "data": {
      "image/png": "[encoded data removed]",
      "text/plain": [
       "<Figure size 252x360 with 1 Axes>"
      ]
     },
     "metadata": {
      "needs_background": "light"
     },
     "output_type": "display_data"
    }
   ],
   "source": [
    "# unique hair-plates\n",
    "hp_types = np.array(['CoHP4', 'CoHP3', 'CoHP8', 'TrHP5', 'TrHP6', 'TrHP7'])\n",
    "hp_colors = ['tab:red', 'tab:green', 'tab:blue', 'tab:orange', 'tab:pink', 'tab:purple']\n",
    "fig = plt.figure(1, figsize = [3.5,5])\n",
    "w = 0.3\n",
    "for j in range(len(hp_types)):\n",
    "    # find hps \n",
    "    hp_idxs = np.where(np.array(Lhp_names)==hp_types[j])[0]\n",
    "    \n",
    "    # plot hps\n",
    "    x = j*np.ones(len(hp_idxs)) + np.random.choice([-1,1], size=len(hp_idxs))*np.random.uniform(low=0.0, high=0.15, size=len(hp_idxs))\n",
    "    y = dwn_syn_counts[hp_idxs]\n",
    "#     plt.plot(x,y, marker ='.', linestyle = 'none', markersize = 8, color = 'gray', alpha = 0.75, zorder = 10)\n",
    "    plt.plot(x,y, marker ='.', linestyle = 'none', markersize = 8, color = hp_colors[j], alpha = 1, zorder = 1)\n",
    "    \n",
    "    # plot average\n",
    "#     plt.plot(np.array([j-w, j+w]), np.array([np.mean(y), np.mean(y)]), color = 'black', linewidth = 4, zorder = 1)\n",
    "    plt.plot(np.array([j-w, j+w]), np.array([np.mean(y), np.mean(y)]), color = hp_colors[j], linewidth = 4, zorder = 10, alpha = 0.75)\n",
    "\n",
    "plt.xticks(np.arange(0, len(hp_types)), hp_types, fontsize = 16, rotation = 90, fontname = 'Arial')\n",
    "plt.yticks(fontsize = 16, fontname = 'Arial')\n",
    "plt.xlabel('Hair-Plate', fontsize = 18, fontname = 'Arial')\n",
    "plt.ylabel('Number of Output Synapses', fontsize = 18, fontname = 'Arial')\n",
    "plt.ylim([0,6000])\n",
    "plt.tight_layout()\n",
    "plt.show()\n",
    "# fig.savefig(save_path+'hairplate_output_synapses.png', dpi=300)\n",
    "# fig.savefig(save_path+'hairplate_output_synapses.svg', dpi=300)\n",
    "\n"
   ]
  },
  {
   "cell_type": "markdown",
   "id": "9addb58d",
   "metadata": {},
   "source": [
    "#### Top cell-classes downstream of hair-plate neurons"
   ]
  },
  {
   "cell_type": "code",
   "execution_count": 47,
   "id": "bb5e1eee",
   "metadata": {},
   "outputs": [],
   "source": [
    "# find the proportion of hair-plate input onto each unique cell class\n",
    "cell_classes = np.unique(downstream_cell_class)\n",
    "proportion_input = np.zeros((downstream_connectivity_matrix.shape[0], len(cell_classes))) # n hair-plates x n cell classes\n",
    "for i in range(len(Lhp_ids)): # hps\n",
    "    dwn_cells = np.array(downstream_cell_class)[downstream_connectivity_matrix[i,:]>0]\n",
    "    for j in range(len(cell_classes)): # cell classes\n",
    "        proportion_input[i,j] = len(np.where(dwn_cells==cell_classes[j])[0])\n",
    "    proportion_input[i,:] = proportion_input[i,:]/np.sum(proportion_input[i,:])\n",
    "        \n",
    "# average downstream proportionality\n",
    "ave_dwn_cell_classes = np.mean(proportion_input,axis=0)\n",
    "sorting_idxs = np.flip(np.argsort(ave_dwn_cell_classes))\n",
    "ave_cell_classes_sorted = ave_dwn_cell_classes[sorting_idxs]\n",
    "cell_classes_sorted = cell_classes[sorting_idxs]\n",
    "proportion_syn_sorted = proportion_input[:,sorting_idxs]\n",
    "std_cell_classes = np.std(proportion_syn_sorted, axis=0)#1.96*(np.std(proportion_syn_sorted, axis=0)/np.sqrt(proportion_syn_sorted.shape[0]))"
   ]
  },
  {
   "cell_type": "code",
   "execution_count": 39,
   "id": "3b6b191e",
   "metadata": {},
   "outputs": [
    {
     "ename": "NameError",
     "evalue": "name 'proportion_syn_sorted' is not defined",
     "output_type": "error",
     "traceback": [
      "\u001b[1;31m---------------------------------------------------------------------------\u001b[0m",
      "\u001b[1;31mNameError\u001b[0m                                 Traceback (most recent call last)",
      "\u001b[1;32m~\\AppData\\Local\\Temp/ipykernel_17968/1794971842.py\u001b[0m in \u001b[0;36m<module>\u001b[1;34m\u001b[0m\n\u001b[0;32m     16\u001b[0m \u001b[1;31m#     plt.plot(np.arange(1, proportion_syn_sorted.shape[1]+1),np.mean(proportion_syn_sorted[hp_idxs,:], axis =0), color = hp_colors[j], linewidth = 1.25, label = hps[j])\u001b[0m\u001b[1;33m\u001b[0m\u001b[1;33m\u001b[0m\u001b[0m\n\u001b[0;32m     17\u001b[0m \u001b[1;33m\u001b[0m\u001b[0m\n\u001b[1;32m---> 18\u001b[1;33m     \u001b[0mplt\u001b[0m\u001b[1;33m.\u001b[0m\u001b[0mplot\u001b[0m\u001b[1;33m(\u001b[0m\u001b[0mnp\u001b[0m\u001b[1;33m.\u001b[0m\u001b[0marange\u001b[0m\u001b[1;33m(\u001b[0m\u001b[1;36m1\u001b[0m\u001b[1;33m,\u001b[0m \u001b[0mproportion_syn_sorted\u001b[0m\u001b[1;33m.\u001b[0m\u001b[0mshape\u001b[0m\u001b[1;33m[\u001b[0m\u001b[1;36m1\u001b[0m\u001b[1;33m]\u001b[0m\u001b[1;33m+\u001b[0m\u001b[1;36m1\u001b[0m\u001b[1;33m)\u001b[0m\u001b[1;33m,\u001b[0m\u001b[0mnp\u001b[0m\u001b[1;33m.\u001b[0m\u001b[0mmean\u001b[0m\u001b[1;33m(\u001b[0m\u001b[0mproportion_syn_sorted\u001b[0m\u001b[1;33m[\u001b[0m\u001b[0mhp_idxs\u001b[0m\u001b[1;33m,\u001b[0m\u001b[1;33m:\u001b[0m\u001b[1;33m]\u001b[0m\u001b[1;33m,\u001b[0m \u001b[0maxis\u001b[0m \u001b[1;33m=\u001b[0m\u001b[1;36m0\u001b[0m\u001b[1;33m)\u001b[0m\u001b[1;33m,\u001b[0m \u001b[0mcolor\u001b[0m \u001b[1;33m=\u001b[0m \u001b[0mhp_colors\u001b[0m\u001b[1;33m[\u001b[0m\u001b[0mj\u001b[0m\u001b[1;33m]\u001b[0m\u001b[1;33m,\u001b[0m \u001b[0mlinestyle\u001b[0m \u001b[1;33m=\u001b[0m \u001b[1;34m'none'\u001b[0m\u001b[1;33m,\u001b[0m \u001b[0mmarker\u001b[0m \u001b[1;33m=\u001b[0m \u001b[1;34m'.'\u001b[0m\u001b[1;33m,\u001b[0m \u001b[0mmarkersize\u001b[0m \u001b[1;33m=\u001b[0m \u001b[1;36m10\u001b[0m\u001b[1;33m,\u001b[0m \u001b[0mlabel\u001b[0m \u001b[1;33m=\u001b[0m \u001b[0mhps\u001b[0m\u001b[1;33m[\u001b[0m\u001b[0mj\u001b[0m\u001b[1;33m]\u001b[0m\u001b[1;33m,\u001b[0m \u001b[0malpha\u001b[0m \u001b[1;33m=\u001b[0m \u001b[1;36m1\u001b[0m\u001b[1;33m)\u001b[0m\u001b[1;33m\u001b[0m\u001b[0m\n\u001b[0m\u001b[0;32m     19\u001b[0m \u001b[1;33m\u001b[0m\u001b[0m\n\u001b[0;32m     20\u001b[0m \u001b[1;31m# plot total mean\u001b[0m\u001b[1;33m\u001b[0m\u001b[1;33m\u001b[0m\u001b[0m\n",
      "\u001b[1;31mNameError\u001b[0m: name 'proportion_syn_sorted' is not defined"
     ]
    },
    {
     "data": {
      "text/plain": [
       "<Figure size 216x432 with 0 Axes>"
      ]
     },
     "metadata": {},
     "output_type": "display_data"
    }
   ],
   "source": [
    "# plot the fraction of synapses onto downstream cell classes\n",
    "hps = np.array(['CoHP4', 'CoHP3', 'CoHP8', 'TrHP5', 'TrHP6', 'TrHP7'])\n",
    "hp_colors = ['tab:red', 'tab:green', 'tab:blue', 'tab:orange', 'tab:pink', 'tab:purple']\n",
    "fig = plt.figure(1, figsize = [3,6])\n",
    "for j in range(len(hps)):\n",
    "    # find hps \n",
    "    hp_idxs = np.where(np.array(Lhp_names)==hps[j])[0]\n",
    "    \n",
    "    # plot hps\n",
    "#     for i in range(len(hp_idxs)):\n",
    "#         x = np.arange(1, proportion_syn_sorted.shape[1]+1) + np.random.choice([-1,1])*np.random.uniform(low=0.0, high=0.15)\n",
    "#         y = proportion_syn_sorted[hp_idxs[i],:] \n",
    "#         plt.plot(x,y, marker ='.', linestyle = 'none', markersize = 8, color = hp_colors[j], alpha = 0.8, zorder =5)\n",
    "    \n",
    "    # plot average\n",
    "#     plt.plot(np.arange(1, proportion_syn_sorted.shape[1]+1),np.mean(proportion_syn_sorted[hp_idxs,:], axis =0), color = hp_colors[j], linewidth = 1.25, label = hps[j])\n",
    "    \n",
    "    plt.plot(np.arange(1, proportion_syn_sorted.shape[1]+1),np.mean(proportion_syn_sorted[hp_idxs,:], axis =0), color = hp_colors[j], linestyle = 'none', marker = '.', markersize = 10, label = hps[j], alpha = 1)\n",
    "    \n",
    "# plot total mean       \n",
    "plt.errorbar(np.arange(1, proportion_syn_sorted.shape[1]+1)+0.15, ave_cell_classes_sorted, yerr=std_cell_classes, color ='black', markersize = 15, linewidth = 3, zorder =1)\n",
    "plt.xticks(np.arange(1, proportion_syn_sorted.shape[1]+1), cell_classes_sorted, fontsize = 16, rotation = 90, fontname = 'Arial')\n",
    "plt.yticks(fontsize = 16, fontname = 'Arial')\n",
    "plt.xlabel('Cell Class', fontsize = 20, fontname = 'Arial')\n",
    "plt.ylabel('Fraction of Output Synapses', fontsize = 20, fontname = 'Arial')\n",
    "plt.legend(fontsize = 12)\n",
    "plt.ylim([-0.05,0.7])\n",
    "plt.tight_layout()\n",
    "plt.show()\n",
    "# fig.savefig(save_path+'03302025_downstream_cell_classes.png', dpi=300)\n",
    "# fig.savefig(save_path+'03302025_downstream_cell_classes.pdf', dpi=300)"
   ]
  },
  {
   "cell_type": "markdown",
   "id": "57bfc35f",
   "metadata": {},
   "source": [
    "### Recurrent connectivity of CxHP8 reflex circuit"
   ]
  },
  {
   "cell_type": "code",
   "execution_count": 179,
   "id": "087c61a6",
   "metadata": {},
   "outputs": [],
   "source": [
    "# recurrent connectivity graph of CxHP8 and other hair plates\n",
    "node_name = 'TrHP7'\n",
    "hp_name = 'TrHP7'\n",
    "hp_idxs = np.where(np.array(Lhp_names) == hp_name)[0]\n",
    "n_hp_neurons = hp_idxs.shape[0]\n",
    "mm_mat = downstream_connectivity_matrix[hp_idxs[0]:hp_idxs[-1]+1, id_order]\n",
    "\n",
    "# remove columns that don't have connectivity\n",
    "filt_idxs = np.where(np.sum(mm_mat, axis = 0)> 0)[0]\n",
    "mm_mat_filt = mm_mat[:, filt_idxs]\n",
    "filt_mm_name = mm_name_store[filt_idxs] \n",
    "mm_mat_filt.shape\n",
    "\n",
    "# Sankey plot info -- feed forward reflex circuit\n",
    "max_synapses =[] # store max synapses for normalizing across hps\n",
    "plot_info = [] # store info for each hair-plate plot\n",
    "alpha = 0.5\n",
    "cell_cnt = 1\n",
    "source_num = []\n",
    "target_num = []\n",
    "source_target_synapses = []\n",
    "source_color = []\n",
    "identity_array = []\n",
    "identity_array.append(hp_name)\n",
    "\n",
    "# intialize directed network graph\n",
    "syn_threshold_multiplier = 4 # on average, each neuron must make atleast 5 synapes\n",
    "G = nx.DiGraph()\n",
    "\n",
    "'''Motor Module Connectivity'''\n",
    "hp_mn_syns = np.sum(mm_mat_filt, axis = 0)\n",
    "\n",
    "# combine synapses for each motor module\n",
    "unique_modules = np.unique(filt_mm_name)\n",
    "for i, mod_name in enumerate(unique_modules):\n",
    "    tot_hp_mm_syns = np.sum(hp_mn_syns[filt_mm_name == mod_name])\n",
    "#     print(f'{mod_name} = {tot_hp_mm_syns}')\n",
    "    \n",
    "    # add network edges\n",
    "    if  tot_hp_mm_syns >= (syn_threshold_multiplier * n_hp_neurons): # \n",
    "        G.add_edge(node_name, mod_name, weight = tot_hp_mm_syns)\n",
    "        \n",
    "        # sankey plot\n",
    "        if mod_name is not identity_array:\n",
    "            identity_array.append(mod_name)\n",
    "            source_num.append(0)\n",
    "            target_num.append(cell_cnt)\n",
    "            source_target_synapses.append(int(tot_hp_mm_syns))\n",
    "            source_color.append('rgba(237,28,36,'+str(alpha)+')')  # excitatory\n",
    "#             source_color.append('rgba(0,0,0,'+str(alpha+0.3)+')')\n",
    "            cell_cnt += 1\n",
    "        \n",
    "'''CxHP8 or other Hair plate to interneuron connectivity'''\n",
    "hp_in_mat = downstream_connectivity_matrix[hp_idxs[0]:hp_idxs[-1]+1, :]\n",
    "ein_order = ['1A', '3A', '4B', '7B', '12A', '17A', '19B', '20A', '22A', '23B']\n",
    "in_ids = np.array(['10B', '12A', '12B', '13A', '13B', '14A', '16B', '17A', '18B',\n",
    "       '19A', '19B', '1A', '1B', '20A', '21A', '22A', '23B', '3A', '4B',\n",
    "       '6A', '7B', '8A', '9A'])\n",
    "\n",
    "# only store the ids of the interneurons that had the strongest connectivity\n",
    "in_ids_filtered = []\n",
    "in_name_filtered = []\n",
    "\n",
    "for i, in_name in enumerate(in_ids):\n",
    "    in_idxs = np.where(np.array(downstream_hemilineage) == in_name)[0]\n",
    "    \n",
    "    # filter out the interneurons without connections\n",
    "    curr_in_hp_mat = hp_in_mat[:, in_idxs]\n",
    "    in_idxs = in_idxs[np.where(np.sum(curr_in_hp_mat, axis=0) > 0)[0]]\n",
    "    \n",
    "    if len(in_idxs) > 0:\n",
    "        curr_in_hp_mat = hp_in_mat[:, in_idxs]  # recalculate with the filter indices\n",
    "        tot_hp_in_syns = np.sum(curr_in_hp_mat)\n",
    "\n",
    "        # add hp to in edges\n",
    "        if tot_hp_in_syns >= (syn_threshold_multiplier * n_hp_neurons):\n",
    "            in_name_filtered.append(in_name)\n",
    "            in_ids_filtered.append(np.array(downstream_ids)[in_idxs])\n",
    "            G.add_edge(node_name, in_name, weight = tot_hp_in_syns)\n",
    "\n",
    "            # Sankey plot\n",
    "            if in_name is not identity_array:\n",
    "                identity_array.append(in_name)\n",
    "                source_num.append(0)\n",
    "                target_num.append(cell_cnt)\n",
    "                source_target_synapses.append(int(tot_hp_in_syns))\n",
    "                source_color.append('rgba(237,28,36,'+str(alpha)+')')  # excitatory\n",
    "#                 source_color.append('rgba(0,0,0,'+str(alpha+0.1)+')') # org. 0.5\n",
    "                cell_cnt += 1\n",
    "            else:\n",
    "                source_num.append(0)\n",
    "                target_num.append(int(np.where(np.array(identity_array)==in_name)[0]))\n",
    "                source_target_synapses.append(int(tot_hp_in_syns))\n",
    "                source_color.append('rgba(237,28,36,'+str(alpha)+')')  # excitatory\n",
    "#                 source_color.append('rgba(0,0,0,'+str(alpha+0.1)+')')\n",
    "            \n",
    "'''Interneuron to motor and hair plate connectivity'''\n",
    "store_mm_ids = []\n",
    "for i, interneuron in enumerate(in_name_filtered):\n",
    "    interneuron_df = client.materialize.synapse_query(pre_ids=in_ids_filtered[i])\n",
    "    dwn_synapses = interneuron_df.groupby(['post_pt_root_id'])['post_pt_root_id'].count().reset_index(name=\"number_of_synapses\").sort_values(by=['number_of_synapses'], ascending=False).reset_index(drop=True)\n",
    "    dwn_synapses = dwn_synapses[dwn_synapses['number_of_synapses'] > (len(in_ids_filtered[i]) * syn_threshold_multiplier)]\n",
    "    dwn_ids = dwn_synapses['post_pt_root_id'].values\n",
    "    \n",
    "    # iterate through motor neurons\n",
    "    in_mm_syns = np.zeros(len(mod_ids))\n",
    "    for j, mm_id in enumerate(mod_ids):\n",
    "        if mm_id in dwn_ids:\n",
    "            store_mm_ids.append(mm_id)\n",
    "            in_mm_syns[j] = dwn_synapses['number_of_synapses'].values[dwn_ids == mm_id]\n",
    "            \n",
    "    # add connections based on motor module\n",
    "    unique_in_modules = np.unique(mod_names)\n",
    "    for j, in_mod in enumerate(unique_in_modules):\n",
    "        tot_mod_synapses = np.sum(in_mm_syns[mod_names == in_mod])\n",
    "        if tot_mod_synapses > 4:  # was 10\n",
    "            G.add_edge(interneuron, in_mod, weight=tot_mod_synapses)\n",
    "            \n",
    "            if in_mod in identity_array:\n",
    "                source_num.append(int(np.where(np.array(identity_array)==interneuron)[0]))\n",
    "                target_num.append(int(np.where(np.array(identity_array)==in_mod)[0]))\n",
    "                source_target_synapses.append(int(tot_mod_synapses))\n",
    "                if interneuron in ein_order:\n",
    "                    source_color.append('rgba(237,28,36,'+str(alpha)+')')\n",
    "                else:\n",
    "                    source_color.append('rgba(28,117,188,'+str(alpha)+')')\n",
    "            else:\n",
    "                identity_array.append(in_mod)\n",
    "                source_num.append(int(np.where(np.array(identity_array)==interneuron)[0]))\n",
    "                target_num.append(cell_cnt)\n",
    "                source_target_synapses.append(int(tot_mod_synapses))\n",
    "                if interneuron in ein_order:\n",
    "                    source_color.append('rgba(237,28,36,'+str(alpha)+')')  # excitatory\n",
    "                else:\n",
    "                    source_color.append('rgba(28,117,188,'+str(alpha)+')')  # inhibitory\n",
    "                cell_cnt += 1\n",
    "            \n",
    "    # iterate through CxHP8 neurons\n",
    "    cxhp8_ids = np.array(Lhp_ids)[np.array(Lhp_names)==hp_name]\n",
    "    in_hp_syns = np.zeros(len(cxhp8_ids))\n",
    "    for j, hp_id in enumerate(cxhp8_ids):\n",
    "        if hp_id in dwn_ids:\n",
    "            in_hp_syns[j] = dwn_synapses['number_of_synapses'].values[dwn_ids == hp_id]\n",
    "            \n",
    "    # total synapses onto hair plate\n",
    "    tot_in_hp_syns = np.sum(in_hp_syns)\n",
    "    if tot_in_hp_syns > 4:  # was 5\n",
    "        G.add_edge(interneuron, node_name, weight=tot_in_hp_syns)\n",
    "                \n",
    "            \n",
    "    # interneuron to interneuron recurrent connectivity    \n",
    "    for j, interneuron_2 in enumerate(in_name_filtered):\n",
    "        curr_interneuron_ids = in_ids_filtered[j]\n",
    "        syn_cnt = 0\n",
    "        \n",
    "        for neuron_id in curr_interneuron_ids:\n",
    "            if neuron_id in dwn_ids:\n",
    "                n_synapses = dwn_synapses['number_of_synapses'].values[dwn_ids == neuron_id]\n",
    "                syn_cnt += n_synapses\n",
    "                \n",
    "        if syn_cnt > 4:  # was 10\n",
    "            G.add_edge(interneuron, interneuron_2, weight=syn_cnt[0])\n",
    "            \n",
    "# find the ids of motor modules within the identity array\n",
    "in_identity_ids = []\n",
    "in_idenitity_name = []\n",
    "for i, identity in enumerate(identity_array):\n",
    "    if identity in in_ids:\n",
    "        # find the interneurons that aren't sources (i.e. no input to motor neurons)\n",
    "        if ~np.isin(i, source_num):\n",
    "            filter_idxs = np.where(np.array(target_num) != i)[0]\n",
    "            \n",
    "            # filter variables \n",
    "            source_num = np.array(source_num)[filter_idxs]\n",
    "            target_num = np.array(target_num)[filter_idxs]\n",
    "            source_num[source_num > i] = source_num[source_num > i] - 1\n",
    "            target_num[target_num > i] = target_num[target_num > i] - 1\n",
    "            source_num = source_num.tolist()\n",
    "            target_num = target_num.tolist()\n",
    "            source_target_synapses = np.array(source_target_synapses)[filter_idxs].tolist()\n",
    "            source_color = np.array(source_color)[filter_idxs].tolist()\n",
    "            identity_array.remove(identity)\n",
    "            G.remove_node(identity) # remove from network graph\n",
    "\n",
    "# save Sankey plots for each hp\n",
    "# max_synapses.append(np.max(np.array(source_target_synapses)))\n",
    "source_target_synapses = np.array(source_target_synapses) #/np.max(source_target_synapses)\n",
    "plot_info.append([identity_array, source_num, target_num, source_target_synapses, source_color])\n",
    "\n",
    "# export networkx graph so that it can be visualized using cytoscape\n",
    "# save_path = pathlib.Path.cwd().joinpath(f'Recurrent_connectivity_{node_name}_reflex_circuit.graphml')\n",
    "# nx.write_graphml(G, save_path + f'03252025_Recurrent_connectivity_{node_name}_reflex_circuit.graphml')\n",
    "\n",
    "        "
   ]
  },
  {
   "cell_type": "code",
   "execution_count": 144,
   "id": "3fb094ff",
   "metadata": {},
   "outputs": [
    {
     "data": {
      "text/plain": [
       "'H:\\\\.shortcut-targets-by-id\\\\10pxdlRXtzFB-abwDGi0jOGOFFNm3pmFK\\\\Tuthill Lab Shared\\\\manuscripts\\\\hairplates_2024\\\\figures\\\\raw\\\\EM_figs03252025_Recurrent_connectivity_TrHP6_reflex_circuit.graphml'"
      ]
     },
     "execution_count": 144,
     "metadata": {},
     "output_type": "execute_result"
    }
   ],
   "source": [
    "save_path + f'03252025_Recurrent_connectivity_{node_name}_reflex_circuit.graphml'"
   ]
  },
  {
   "cell_type": "code",
   "execution_count": 180,
   "id": "38739f79",
   "metadata": {},
   "outputs": [
    {
     "data": {
      "application/vnd.plotly.v1+json": {
       "config": {
        "plotlyServerURL": "https://plot.ly"
       },
       "data": [
        {
         "arrangement": "snap",
         "link": {
          "color": [
           "rgba(237,28,36,0.5)",
           "rgba(237,28,36,0.5)",
           "rgba(237,28,36,0.5)",
           "rgba(237,28,36,0.5)",
           "rgba(237,28,36,0.5)",
           "rgba(237,28,36,0.5)",
           "rgba(237,28,36,0.5)",
           "rgba(237,28,36,0.5)",
           "rgba(237,28,36,0.5)",
           "rgba(237,28,36,0.5)",
           "rgba(237,28,36,0.5)",
           "rgba(237,28,36,0.5)",
           "rgba(237,28,36,0.5)",
           "rgba(237,28,36,0.5)",
           "rgba(28,117,188,0.5)",
           "rgba(28,117,188,0.5)",
           "rgba(28,117,188,0.5)",
           "rgba(28,117,188,0.5)",
           "rgba(28,117,188,0.5)",
           "rgba(28,117,188,0.5)",
           "rgba(28,117,188,0.5)",
           "rgba(28,117,188,0.5)",
           "rgba(28,117,188,0.5)",
           "rgba(28,117,188,0.5)",
           "rgba(28,117,188,0.5)",
           "rgba(28,117,188,0.5)",
           "rgba(28,117,188,0.5)",
           "rgba(28,117,188,0.5)",
           "rgba(28,117,188,0.5)",
           "rgba(28,117,188,0.5)",
           "rgba(28,117,188,0.5)",
           "rgba(28,117,188,0.5)",
           "rgba(28,117,188,0.5)",
           "rgba(28,117,188,0.5)",
           "rgba(28,117,188,0.5)",
           "rgba(28,117,188,0.5)",
           "rgba(28,117,188,0.5)",
           "rgba(28,117,188,0.5)",
           "rgba(237,28,36,0.5)",
           "rgba(237,28,36,0.5)",
           "rgba(28,117,188,0.5)",
           "rgba(237,28,36,0.5)",
           "rgba(237,28,36,0.5)",
           "rgba(237,28,36,0.5)",
           "rgba(237,28,36,0.5)",
           "rgba(28,117,188,0.5)",
           "rgba(28,117,188,0.5)",
           "rgba(28,117,188,0.5)",
           "rgba(28,117,188,0.5)",
           "rgba(28,117,188,0.5)",
           "rgba(28,117,188,0.5)",
           "rgba(28,117,188,0.5)",
           "rgba(28,117,188,0.5)",
           "rgba(237,28,36,0.5)",
           "rgba(237,28,36,0.5)",
           "rgba(237,28,36,0.5)",
           "rgba(237,28,36,0.5)",
           "rgba(237,28,36,0.5)",
           "rgba(237,28,36,0.5)",
           "rgba(237,28,36,0.5)",
           "rgba(237,28,36,0.5)",
           "rgba(237,28,36,0.5)",
           "rgba(237,28,36,0.5)",
           "rgba(28,117,188,0.5)",
           "rgba(28,117,188,0.5)",
           "rgba(28,117,188,0.5)"
          ],
          "source": [
           0,
           0,
           0,
           0,
           0,
           0,
           0,
           0,
           0,
           0,
           0,
           0,
           0,
           0,
           2,
           2,
           2,
           2,
           2,
           2,
           2,
           2,
           3,
           3,
           3,
           3,
           3,
           3,
           4,
           4,
           5,
           5,
           5,
           5,
           5,
           6,
           6,
           6,
           7,
           7,
           8,
           9,
           9,
           9,
           9,
           10,
           10,
           10,
           10,
           10,
           10,
           10,
           10,
           11,
           11,
           12,
           12,
           12,
           12,
           12,
           12,
           12,
           13,
           14,
           14,
           14
          ],
          "target": [
           1,
           2,
           3,
           4,
           5,
           6,
           7,
           8,
           9,
           10,
           11,
           12,
           13,
           14,
           15,
           16,
           17,
           18,
           19,
           20,
           21,
           1,
           15,
           17,
           18,
           19,
           20,
           21,
           22,
           21,
           23,
           16,
           24,
           22,
           20,
           17,
           19,
           21,
           23,
           21,
           1,
           15,
           16,
           17,
           1,
           23,
           15,
           16,
           17,
           18,
           24,
           21,
           1,
           16,
           21,
           23,
           15,
           16,
           17,
           24,
           20,
           1,
           21,
           15,
           17,
           1
          ],
          "value": [
           288,
           200,
           973,
           239,
           46,
           69,
           54,
           597,
           131,
           578,
           28,
           88,
           89,
           33,
           109,
           25,
           22,
           13,
           206,
           17,
           449,
           150,
           366,
           571,
           153,
           743,
           181,
           1538,
           17,
           392,
           32,
           57,
           875,
           14,
           26,
           249,
           46,
           305,
           23,
           37,
           98,
           468,
           642,
           98,
           148,
           61,
           522,
           1152,
           465,
           360,
           662,
           1136,
           2613,
           51,
           890,
           539,
           137,
           120,
           252,
           301,
           415,
           242,
           28,
           55,
           19,
           381
          ]
         },
         "node": {
          "color": [
           "gray",
           "gray",
           "gray",
           "gray",
           "gray",
           "gray",
           "gray",
           "gray",
           "gray",
           "gray",
           "gray",
           "gray",
           "gray",
           "gray",
           "gray",
           "gray",
           "gray",
           "gray",
           "gray",
           "gray",
           "gray",
           "gray",
           "gray",
           "gray",
           "gray"
          ],
          "label": [
           "TrHP7",
           "trochanter_flex",
           "12B",
           "13A",
           "13B",
           "14A",
           "16B",
           "17A",
           "19A",
           "20A",
           "21A",
           "22A",
           "3A",
           "7B",
           "9A",
           "coxa_promote",
           "coxa_rotate_adduct",
           "femur_reduct",
           "ltm_B",
           "tibia_extend",
           "tibia_ta_flex_C",
           "trochanter_extend",
           "tibia_ta_flex_B",
           "coxa_posterior",
           "tibia_ta_flex_A"
          ],
          "line": {
           "color": "gray",
           "width": 0.5
          },
          "pad": 15,
          "thickness": 20,
          "x": [
           0.1,
           0.9,
           0.5,
           0.5,
           0.5,
           0.5,
           0.5,
           0.5,
           0.5,
           0.5,
           0.5,
           0.5,
           0.5,
           0.5,
           0.5,
           0.9,
           0.9,
           0.9,
           0.9,
           0.9,
           0.9,
           0.9,
           0.9,
           0.9,
           0.9
          ],
          "y": [
           0.5,
           0.33999999999999997,
           0.5,
           0.5666666666666667,
           0.6333333333333333,
           0.7,
           0.7666666666666666,
           0.23333333333333334,
           0.8333333333333333,
           0.30000000000000004,
           0.9,
           0.3666666666666667,
           0.1,
           0.16666666666666669,
           0.43333333333333335,
           0.18,
           0.1,
           0.5,
           0.9,
           0.82,
           0.74,
           0.42000000000000004,
           0.66,
           0.26,
           0.58
          ]
         },
         "type": "sankey"
        }
       ],
       "layout": {
        "font": {
         "family": "Arial Bold",
         "size": 16
        },
        "template": {
         "data": {
          "bar": [
           {
            "error_x": {
             "color": "#2a3f5f"
            },
            "error_y": {
             "color": "#2a3f5f"
            },
            "marker": {
             "line": {
              "color": "#E5ECF6",
              "width": 0.5
             }
            },
            "type": "bar"
           }
          ],
          "barpolar": [
           {
            "marker": {
             "line": {
              "color": "#E5ECF6",
              "width": 0.5
             }
            },
            "type": "barpolar"
           }
          ],
          "carpet": [
           {
            "aaxis": {
             "endlinecolor": "#2a3f5f",
             "gridcolor": "white",
             "linecolor": "white",
             "minorgridcolor": "white",
             "startlinecolor": "#2a3f5f"
            },
            "baxis": {
             "endlinecolor": "#2a3f5f",
             "gridcolor": "white",
             "linecolor": "white",
             "minorgridcolor": "white",
             "startlinecolor": "#2a3f5f"
            },
            "type": "carpet"
           }
          ],
          "choropleth": [
           {
            "colorbar": {
             "outlinewidth": 0,
             "ticks": ""
            },
            "type": "choropleth"
           }
          ],
          "contour": [
           {
            "colorbar": {
             "outlinewidth": 0,
             "ticks": ""
            },
            "colorscale": [
             [
              0,
              "#0d0887"
             ],
             [
              0.1111111111111111,
              "#46039f"
             ],
             [
              0.2222222222222222,
              "#7201a8"
             ],
             [
              0.3333333333333333,
              "#9c179e"
             ],
             [
              0.4444444444444444,
              "#bd3786"
             ],
             [
              0.5555555555555556,
              "#d8576b"
             ],
             [
              0.6666666666666666,
              "#ed7953"
             ],
             [
              0.7777777777777778,
              "#fb9f3a"
             ],
             [
              0.8888888888888888,
              "#fdca26"
             ],
             [
              1,
              "#f0f921"
             ]
            ],
            "type": "contour"
           }
          ],
          "contourcarpet": [
           {
            "colorbar": {
             "outlinewidth": 0,
             "ticks": ""
            },
            "type": "contourcarpet"
           }
          ],
          "heatmap": [
           {
            "colorbar": {
             "outlinewidth": 0,
             "ticks": ""
            },
            "colorscale": [
             [
              0,
              "#0d0887"
             ],
             [
              0.1111111111111111,
              "#46039f"
             ],
             [
              0.2222222222222222,
              "#7201a8"
             ],
             [
              0.3333333333333333,
              "#9c179e"
             ],
             [
              0.4444444444444444,
              "#bd3786"
             ],
             [
              0.5555555555555556,
              "#d8576b"
             ],
             [
              0.6666666666666666,
              "#ed7953"
             ],
             [
              0.7777777777777778,
              "#fb9f3a"
             ],
             [
              0.8888888888888888,
              "#fdca26"
             ],
             [
              1,
              "#f0f921"
             ]
            ],
            "type": "heatmap"
           }
          ],
          "heatmapgl": [
           {
            "colorbar": {
             "outlinewidth": 0,
             "ticks": ""
            },
            "colorscale": [
             [
              0,
              "#0d0887"
             ],
             [
              0.1111111111111111,
              "#46039f"
             ],
             [
              0.2222222222222222,
              "#7201a8"
             ],
             [
              0.3333333333333333,
              "#9c179e"
             ],
             [
              0.4444444444444444,
              "#bd3786"
             ],
             [
              0.5555555555555556,
              "#d8576b"
             ],
             [
              0.6666666666666666,
              "#ed7953"
             ],
             [
              0.7777777777777778,
              "#fb9f3a"
             ],
             [
              0.8888888888888888,
              "#fdca26"
             ],
             [
              1,
              "#f0f921"
             ]
            ],
            "type": "heatmapgl"
           }
          ],
          "histogram": [
           {
            "marker": {
             "colorbar": {
              "outlinewidth": 0,
              "ticks": ""
             }
            },
            "type": "histogram"
           }
          ],
          "histogram2d": [
           {
            "colorbar": {
             "outlinewidth": 0,
             "ticks": ""
            },
            "colorscale": [
             [
              0,
              "#0d0887"
             ],
             [
              0.1111111111111111,
              "#46039f"
             ],
             [
              0.2222222222222222,
              "#7201a8"
             ],
             [
              0.3333333333333333,
              "#9c179e"
             ],
             [
              0.4444444444444444,
              "#bd3786"
             ],
             [
              0.5555555555555556,
              "#d8576b"
             ],
             [
              0.6666666666666666,
              "#ed7953"
             ],
             [
              0.7777777777777778,
              "#fb9f3a"
             ],
             [
              0.8888888888888888,
              "#fdca26"
             ],
             [
              1,
              "#f0f921"
             ]
            ],
            "type": "histogram2d"
           }
          ],
          "histogram2dcontour": [
           {
            "colorbar": {
             "outlinewidth": 0,
             "ticks": ""
            },
            "colorscale": [
             [
              0,
              "#0d0887"
             ],
             [
              0.1111111111111111,
              "#46039f"
             ],
             [
              0.2222222222222222,
              "#7201a8"
             ],
             [
              0.3333333333333333,
              "#9c179e"
             ],
             [
              0.4444444444444444,
              "#bd3786"
             ],
             [
              0.5555555555555556,
              "#d8576b"
             ],
             [
              0.6666666666666666,
              "#ed7953"
             ],
             [
              0.7777777777777778,
              "#fb9f3a"
             ],
             [
              0.8888888888888888,
              "#fdca26"
             ],
             [
              1,
              "#f0f921"
             ]
            ],
            "type": "histogram2dcontour"
           }
          ],
          "mesh3d": [
           {
            "colorbar": {
             "outlinewidth": 0,
             "ticks": ""
            },
            "type": "mesh3d"
           }
          ],
          "parcoords": [
           {
            "line": {
             "colorbar": {
              "outlinewidth": 0,
              "ticks": ""
             }
            },
            "type": "parcoords"
           }
          ],
          "pie": [
           {
            "automargin": true,
            "type": "pie"
           }
          ],
          "scatter": [
           {
            "marker": {
             "colorbar": {
              "outlinewidth": 0,
              "ticks": ""
             }
            },
            "type": "scatter"
           }
          ],
          "scatter3d": [
           {
            "line": {
             "colorbar": {
              "outlinewidth": 0,
              "ticks": ""
             }
            },
            "marker": {
             "colorbar": {
              "outlinewidth": 0,
              "ticks": ""
             }
            },
            "type": "scatter3d"
           }
          ],
          "scattercarpet": [
           {
            "marker": {
             "colorbar": {
              "outlinewidth": 0,
              "ticks": ""
             }
            },
            "type": "scattercarpet"
           }
          ],
          "scattergeo": [
           {
            "marker": {
             "colorbar": {
              "outlinewidth": 0,
              "ticks": ""
             }
            },
            "type": "scattergeo"
           }
          ],
          "scattergl": [
           {
            "marker": {
             "colorbar": {
              "outlinewidth": 0,
              "ticks": ""
             }
            },
            "type": "scattergl"
           }
          ],
          "scattermapbox": [
           {
            "marker": {
             "colorbar": {
              "outlinewidth": 0,
              "ticks": ""
             }
            },
            "type": "scattermapbox"
           }
          ],
          "scatterpolar": [
           {
            "marker": {
             "colorbar": {
              "outlinewidth": 0,
              "ticks": ""
             }
            },
            "type": "scatterpolar"
           }
          ],
          "scatterpolargl": [
           {
            "marker": {
             "colorbar": {
              "outlinewidth": 0,
              "ticks": ""
             }
            },
            "type": "scatterpolargl"
           }
          ],
          "scatterternary": [
           {
            "marker": {
             "colorbar": {
              "outlinewidth": 0,
              "ticks": ""
             }
            },
            "type": "scatterternary"
           }
          ],
          "surface": [
           {
            "colorbar": {
             "outlinewidth": 0,
             "ticks": ""
            },
            "colorscale": [
             [
              0,
              "#0d0887"
             ],
             [
              0.1111111111111111,
              "#46039f"
             ],
             [
              0.2222222222222222,
              "#7201a8"
             ],
             [
              0.3333333333333333,
              "#9c179e"
             ],
             [
              0.4444444444444444,
              "#bd3786"
             ],
             [
              0.5555555555555556,
              "#d8576b"
             ],
             [
              0.6666666666666666,
              "#ed7953"
             ],
             [
              0.7777777777777778,
              "#fb9f3a"
             ],
             [
              0.8888888888888888,
              "#fdca26"
             ],
             [
              1,
              "#f0f921"
             ]
            ],
            "type": "surface"
           }
          ],
          "table": [
           {
            "cells": {
             "fill": {
              "color": "#EBF0F8"
             },
             "line": {
              "color": "white"
             }
            },
            "header": {
             "fill": {
              "color": "#C8D4E3"
             },
             "line": {
              "color": "white"
             }
            },
            "type": "table"
           }
          ]
         },
         "layout": {
          "annotationdefaults": {
           "arrowcolor": "#2a3f5f",
           "arrowhead": 0,
           "arrowwidth": 1
          },
          "autotypenumbers": "strict",
          "coloraxis": {
           "colorbar": {
            "outlinewidth": 0,
            "ticks": ""
           }
          },
          "colorscale": {
           "diverging": [
            [
             0,
             "#8e0152"
            ],
            [
             0.1,
             "#c51b7d"
            ],
            [
             0.2,
             "#de77ae"
            ],
            [
             0.3,
             "#f1b6da"
            ],
            [
             0.4,
             "#fde0ef"
            ],
            [
             0.5,
             "#f7f7f7"
            ],
            [
             0.6,
             "#e6f5d0"
            ],
            [
             0.7,
             "#b8e186"
            ],
            [
             0.8,
             "#7fbc41"
            ],
            [
             0.9,
             "#4d9221"
            ],
            [
             1,
             "#276419"
            ]
           ],
           "sequential": [
            [
             0,
             "#0d0887"
            ],
            [
             0.1111111111111111,
             "#46039f"
            ],
            [
             0.2222222222222222,
             "#7201a8"
            ],
            [
             0.3333333333333333,
             "#9c179e"
            ],
            [
             0.4444444444444444,
             "#bd3786"
            ],
            [
             0.5555555555555556,
             "#d8576b"
            ],
            [
             0.6666666666666666,
             "#ed7953"
            ],
            [
             0.7777777777777778,
             "#fb9f3a"
            ],
            [
             0.8888888888888888,
             "#fdca26"
            ],
            [
             1,
             "#f0f921"
            ]
           ],
           "sequentialminus": [
            [
             0,
             "#0d0887"
            ],
            [
             0.1111111111111111,
             "#46039f"
            ],
            [
             0.2222222222222222,
             "#7201a8"
            ],
            [
             0.3333333333333333,
             "#9c179e"
            ],
            [
             0.4444444444444444,
             "#bd3786"
            ],
            [
             0.5555555555555556,
             "#d8576b"
            ],
            [
             0.6666666666666666,
             "#ed7953"
            ],
            [
             0.7777777777777778,
             "#fb9f3a"
            ],
            [
             0.8888888888888888,
             "#fdca26"
            ],
            [
             1,
             "#f0f921"
            ]
           ]
          },
          "colorway": [
           "#636efa",
           "#EF553B",
           "#00cc96",
           "#ab63fa",
           "#FFA15A",
           "#19d3f3",
           "#FF6692",
           "#B6E880",
           "#FF97FF",
           "#FECB52"
          ],
          "font": {
           "color": "#2a3f5f"
          },
          "geo": {
           "bgcolor": "white",
           "lakecolor": "white",
           "landcolor": "#E5ECF6",
           "showlakes": true,
           "showland": true,
           "subunitcolor": "white"
          },
          "hoverlabel": {
           "align": "left"
          },
          "hovermode": "closest",
          "mapbox": {
           "style": "light"
          },
          "paper_bgcolor": "white",
          "plot_bgcolor": "#E5ECF6",
          "polar": {
           "angularaxis": {
            "gridcolor": "white",
            "linecolor": "white",
            "ticks": ""
           },
           "bgcolor": "#E5ECF6",
           "radialaxis": {
            "gridcolor": "white",
            "linecolor": "white",
            "ticks": ""
           }
          },
          "scene": {
           "xaxis": {
            "backgroundcolor": "#E5ECF6",
            "gridcolor": "white",
            "gridwidth": 2,
            "linecolor": "white",
            "showbackground": true,
            "ticks": "",
            "zerolinecolor": "white"
           },
           "yaxis": {
            "backgroundcolor": "#E5ECF6",
            "gridcolor": "white",
            "gridwidth": 2,
            "linecolor": "white",
            "showbackground": true,
            "ticks": "",
            "zerolinecolor": "white"
           },
           "zaxis": {
            "backgroundcolor": "#E5ECF6",
            "gridcolor": "white",
            "gridwidth": 2,
            "linecolor": "white",
            "showbackground": true,
            "ticks": "",
            "zerolinecolor": "white"
           }
          },
          "shapedefaults": {
           "line": {
            "color": "#2a3f5f"
           }
          },
          "ternary": {
           "aaxis": {
            "gridcolor": "white",
            "linecolor": "white",
            "ticks": ""
           },
           "baxis": {
            "gridcolor": "white",
            "linecolor": "white",
            "ticks": ""
           },
           "bgcolor": "#E5ECF6",
           "caxis": {
            "gridcolor": "white",
            "linecolor": "white",
            "ticks": ""
           }
          },
          "title": {
           "x": 0.05
          },
          "xaxis": {
           "automargin": true,
           "gridcolor": "white",
           "linecolor": "white",
           "ticks": "",
           "title": {
            "standoff": 15
           },
           "zerolinecolor": "white",
           "zerolinewidth": 2
          },
          "yaxis": {
           "automargin": true,
           "gridcolor": "white",
           "linecolor": "white",
           "ticks": "",
           "title": {
            "standoff": 15
           },
           "zerolinecolor": "white",
           "zerolinewidth": 2
          }
         }
        },
        "title": {
         "text": "Hair-Plate mediated reflex circuit"
        }
       }
      },
      "text/html": [
       "<div>                            <div id=\"3c045f60-44fe-4e1f-bc78-5e42f01d4cac\" class=\"plotly-graph-div\" style=\"height:525px; width:100%;\"></div>            <script type=\"text/javascript\">                require([\"plotly\"], function(Plotly) {                    window.PLOTLYENV=window.PLOTLYENV || {};                                    if (document.getElementById(\"3c045f60-44fe-4e1f-bc78-5e42f01d4cac\")) {                    Plotly.newPlot(                        \"3c045f60-44fe-4e1f-bc78-5e42f01d4cac\",                        [{\"arrangement\": \"snap\", \"link\": {\"color\": [\"rgba(237,28,36,0.5)\", \"rgba(237,28,36,0.5)\", \"rgba(237,28,36,0.5)\", \"rgba(237,28,36,0.5)\", \"rgba(237,28,36,0.5)\", \"rgba(237,28,36,0.5)\", \"rgba(237,28,36,0.5)\", \"rgba(237,28,36,0.5)\", \"rgba(237,28,36,0.5)\", \"rgba(237,28,36,0.5)\", \"rgba(237,28,36,0.5)\", \"rgba(237,28,36,0.5)\", \"rgba(237,28,36,0.5)\", \"rgba(237,28,36,0.5)\", \"rgba(28,117,188,0.5)\", \"rgba(28,117,188,0.5)\", \"rgba(28,117,188,0.5)\", \"rgba(28,117,188,0.5)\", \"rgba(28,117,188,0.5)\", \"rgba(28,117,188,0.5)\", \"rgba(28,117,188,0.5)\", \"rgba(28,117,188,0.5)\", \"rgba(28,117,188,0.5)\", \"rgba(28,117,188,0.5)\", \"rgba(28,117,188,0.5)\", \"rgba(28,117,188,0.5)\", \"rgba(28,117,188,0.5)\", \"rgba(28,117,188,0.5)\", \"rgba(28,117,188,0.5)\", \"rgba(28,117,188,0.5)\", \"rgba(28,117,188,0.5)\", \"rgba(28,117,188,0.5)\", \"rgba(28,117,188,0.5)\", \"rgba(28,117,188,0.5)\", \"rgba(28,117,188,0.5)\", \"rgba(28,117,188,0.5)\", \"rgba(28,117,188,0.5)\", \"rgba(28,117,188,0.5)\", \"rgba(237,28,36,0.5)\", \"rgba(237,28,36,0.5)\", \"rgba(28,117,188,0.5)\", \"rgba(237,28,36,0.5)\", \"rgba(237,28,36,0.5)\", \"rgba(237,28,36,0.5)\", \"rgba(237,28,36,0.5)\", \"rgba(28,117,188,0.5)\", \"rgba(28,117,188,0.5)\", \"rgba(28,117,188,0.5)\", \"rgba(28,117,188,0.5)\", \"rgba(28,117,188,0.5)\", \"rgba(28,117,188,0.5)\", \"rgba(28,117,188,0.5)\", \"rgba(28,117,188,0.5)\", \"rgba(237,28,36,0.5)\", \"rgba(237,28,36,0.5)\", \"rgba(237,28,36,0.5)\", \"rgba(237,28,36,0.5)\", \"rgba(237,28,36,0.5)\", \"rgba(237,28,36,0.5)\", \"rgba(237,28,36,0.5)\", \"rgba(237,28,36,0.5)\", \"rgba(237,28,36,0.5)\", \"rgba(237,28,36,0.5)\", \"rgba(28,117,188,0.5)\", \"rgba(28,117,188,0.5)\", \"rgba(28,117,188,0.5)\"], \"source\": [0, 0, 0, 0, 0, 0, 0, 0, 0, 0, 0, 0, 0, 0, 2, 2, 2, 2, 2, 2, 2, 2, 3, 3, 3, 3, 3, 3, 4, 4, 5, 5, 5, 5, 5, 6, 6, 6, 7, 7, 8, 9, 9, 9, 9, 10, 10, 10, 10, 10, 10, 10, 10, 11, 11, 12, 12, 12, 12, 12, 12, 12, 13, 14, 14, 14], \"target\": [1, 2, 3, 4, 5, 6, 7, 8, 9, 10, 11, 12, 13, 14, 15, 16, 17, 18, 19, 20, 21, 1, 15, 17, 18, 19, 20, 21, 22, 21, 23, 16, 24, 22, 20, 17, 19, 21, 23, 21, 1, 15, 16, 17, 1, 23, 15, 16, 17, 18, 24, 21, 1, 16, 21, 23, 15, 16, 17, 24, 20, 1, 21, 15, 17, 1], \"value\": [288, 200, 973, 239, 46, 69, 54, 597, 131, 578, 28, 88, 89, 33, 109, 25, 22, 13, 206, 17, 449, 150, 366, 571, 153, 743, 181, 1538, 17, 392, 32, 57, 875, 14, 26, 249, 46, 305, 23, 37, 98, 468, 642, 98, 148, 61, 522, 1152, 465, 360, 662, 1136, 2613, 51, 890, 539, 137, 120, 252, 301, 415, 242, 28, 55, 19, 381]}, \"node\": {\"color\": [\"gray\", \"gray\", \"gray\", \"gray\", \"gray\", \"gray\", \"gray\", \"gray\", \"gray\", \"gray\", \"gray\", \"gray\", \"gray\", \"gray\", \"gray\", \"gray\", \"gray\", \"gray\", \"gray\", \"gray\", \"gray\", \"gray\", \"gray\", \"gray\", \"gray\"], \"label\": [\"TrHP7\", \"trochanter_flex\", \"12B\", \"13A\", \"13B\", \"14A\", \"16B\", \"17A\", \"19A\", \"20A\", \"21A\", \"22A\", \"3A\", \"7B\", \"9A\", \"coxa_promote\", \"coxa_rotate_adduct\", \"femur_reduct\", \"ltm_B\", \"tibia_extend\", \"tibia_ta_flex_C\", \"trochanter_extend\", \"tibia_ta_flex_B\", \"coxa_posterior\", \"tibia_ta_flex_A\"], \"line\": {\"color\": \"gray\", \"width\": 0.5}, \"pad\": 15, \"thickness\": 20, \"x\": [0.1, 0.9, 0.5, 0.5, 0.5, 0.5, 0.5, 0.5, 0.5, 0.5, 0.5, 0.5, 0.5, 0.5, 0.5, 0.9, 0.9, 0.9, 0.9, 0.9, 0.9, 0.9, 0.9, 0.9, 0.9], \"y\": [0.5, 0.33999999999999997, 0.5, 0.5666666666666667, 0.6333333333333333, 0.7, 0.7666666666666666, 0.23333333333333334, 0.8333333333333333, 0.30000000000000004, 0.9, 0.3666666666666667, 0.1, 0.16666666666666669, 0.43333333333333335, 0.18, 0.1, 0.5, 0.9, 0.82, 0.74, 0.42000000000000004, 0.66, 0.26, 0.58]}, \"type\": \"sankey\"}],                        {\"font\": {\"family\": \"Arial Bold\", \"size\": 16}, \"template\": {\"data\": {\"bar\": [{\"error_x\": {\"color\": \"#2a3f5f\"}, \"error_y\": {\"color\": \"#2a3f5f\"}, \"marker\": {\"line\": {\"color\": \"#E5ECF6\", \"width\": 0.5}}, \"type\": \"bar\"}], \"barpolar\": [{\"marker\": {\"line\": {\"color\": \"#E5ECF6\", \"width\": 0.5}}, \"type\": \"barpolar\"}], \"carpet\": [{\"aaxis\": {\"endlinecolor\": \"#2a3f5f\", \"gridcolor\": \"white\", \"linecolor\": \"white\", \"minorgridcolor\": \"white\", \"startlinecolor\": \"#2a3f5f\"}, \"baxis\": {\"endlinecolor\": \"#2a3f5f\", \"gridcolor\": \"white\", \"linecolor\": \"white\", \"minorgridcolor\": \"white\", \"startlinecolor\": \"#2a3f5f\"}, \"type\": \"carpet\"}], \"choropleth\": [{\"colorbar\": {\"outlinewidth\": 0, \"ticks\": \"\"}, \"type\": \"choropleth\"}], \"contour\": [{\"colorbar\": {\"outlinewidth\": 0, \"ticks\": \"\"}, \"colorscale\": [[0.0, \"#0d0887\"], [0.1111111111111111, \"#46039f\"], [0.2222222222222222, \"#7201a8\"], [0.3333333333333333, \"#9c179e\"], [0.4444444444444444, \"#bd3786\"], [0.5555555555555556, \"#d8576b\"], [0.6666666666666666, \"#ed7953\"], [0.7777777777777778, \"#fb9f3a\"], [0.8888888888888888, \"#fdca26\"], [1.0, \"#f0f921\"]], \"type\": \"contour\"}], \"contourcarpet\": [{\"colorbar\": {\"outlinewidth\": 0, \"ticks\": \"\"}, \"type\": \"contourcarpet\"}], \"heatmap\": [{\"colorbar\": {\"outlinewidth\": 0, \"ticks\": \"\"}, \"colorscale\": [[0.0, \"#0d0887\"], [0.1111111111111111, \"#46039f\"], [0.2222222222222222, \"#7201a8\"], [0.3333333333333333, \"#9c179e\"], [0.4444444444444444, \"#bd3786\"], [0.5555555555555556, \"#d8576b\"], [0.6666666666666666, \"#ed7953\"], [0.7777777777777778, \"#fb9f3a\"], [0.8888888888888888, \"#fdca26\"], [1.0, \"#f0f921\"]], \"type\": \"heatmap\"}], \"heatmapgl\": [{\"colorbar\": {\"outlinewidth\": 0, \"ticks\": \"\"}, \"colorscale\": [[0.0, \"#0d0887\"], [0.1111111111111111, \"#46039f\"], [0.2222222222222222, \"#7201a8\"], [0.3333333333333333, \"#9c179e\"], [0.4444444444444444, \"#bd3786\"], [0.5555555555555556, \"#d8576b\"], [0.6666666666666666, \"#ed7953\"], [0.7777777777777778, \"#fb9f3a\"], [0.8888888888888888, \"#fdca26\"], [1.0, \"#f0f921\"]], \"type\": \"heatmapgl\"}], \"histogram\": [{\"marker\": {\"colorbar\": {\"outlinewidth\": 0, \"ticks\": \"\"}}, \"type\": \"histogram\"}], \"histogram2d\": [{\"colorbar\": {\"outlinewidth\": 0, \"ticks\": \"\"}, \"colorscale\": [[0.0, \"#0d0887\"], [0.1111111111111111, \"#46039f\"], [0.2222222222222222, \"#7201a8\"], [0.3333333333333333, \"#9c179e\"], [0.4444444444444444, \"#bd3786\"], [0.5555555555555556, \"#d8576b\"], [0.6666666666666666, \"#ed7953\"], [0.7777777777777778, \"#fb9f3a\"], [0.8888888888888888, \"#fdca26\"], [1.0, \"#f0f921\"]], \"type\": \"histogram2d\"}], \"histogram2dcontour\": [{\"colorbar\": {\"outlinewidth\": 0, \"ticks\": \"\"}, \"colorscale\": [[0.0, \"#0d0887\"], [0.1111111111111111, \"#46039f\"], [0.2222222222222222, \"#7201a8\"], [0.3333333333333333, \"#9c179e\"], [0.4444444444444444, \"#bd3786\"], [0.5555555555555556, \"#d8576b\"], [0.6666666666666666, \"#ed7953\"], [0.7777777777777778, \"#fb9f3a\"], [0.8888888888888888, \"#fdca26\"], [1.0, \"#f0f921\"]], \"type\": \"histogram2dcontour\"}], \"mesh3d\": [{\"colorbar\": {\"outlinewidth\": 0, \"ticks\": \"\"}, \"type\": \"mesh3d\"}], \"parcoords\": [{\"line\": {\"colorbar\": {\"outlinewidth\": 0, \"ticks\": \"\"}}, \"type\": \"parcoords\"}], \"pie\": [{\"automargin\": true, \"type\": \"pie\"}], \"scatter\": [{\"marker\": {\"colorbar\": {\"outlinewidth\": 0, \"ticks\": \"\"}}, \"type\": \"scatter\"}], \"scatter3d\": [{\"line\": {\"colorbar\": {\"outlinewidth\": 0, \"ticks\": \"\"}}, \"marker\": {\"colorbar\": {\"outlinewidth\": 0, \"ticks\": \"\"}}, \"type\": \"scatter3d\"}], \"scattercarpet\": [{\"marker\": {\"colorbar\": {\"outlinewidth\": 0, \"ticks\": \"\"}}, \"type\": \"scattercarpet\"}], \"scattergeo\": [{\"marker\": {\"colorbar\": {\"outlinewidth\": 0, \"ticks\": \"\"}}, \"type\": \"scattergeo\"}], \"scattergl\": [{\"marker\": {\"colorbar\": {\"outlinewidth\": 0, \"ticks\": \"\"}}, \"type\": \"scattergl\"}], \"scattermapbox\": [{\"marker\": {\"colorbar\": {\"outlinewidth\": 0, \"ticks\": \"\"}}, \"type\": \"scattermapbox\"}], \"scatterpolar\": [{\"marker\": {\"colorbar\": {\"outlinewidth\": 0, \"ticks\": \"\"}}, \"type\": \"scatterpolar\"}], \"scatterpolargl\": [{\"marker\": {\"colorbar\": {\"outlinewidth\": 0, \"ticks\": \"\"}}, \"type\": \"scatterpolargl\"}], \"scatterternary\": [{\"marker\": {\"colorbar\": {\"outlinewidth\": 0, \"ticks\": \"\"}}, \"type\": \"scatterternary\"}], \"surface\": [{\"colorbar\": {\"outlinewidth\": 0, \"ticks\": \"\"}, \"colorscale\": [[0.0, \"#0d0887\"], [0.1111111111111111, \"#46039f\"], [0.2222222222222222, \"#7201a8\"], [0.3333333333333333, \"#9c179e\"], [0.4444444444444444, \"#bd3786\"], [0.5555555555555556, \"#d8576b\"], [0.6666666666666666, \"#ed7953\"], [0.7777777777777778, \"#fb9f3a\"], [0.8888888888888888, \"#fdca26\"], [1.0, \"#f0f921\"]], \"type\": \"surface\"}], \"table\": [{\"cells\": {\"fill\": {\"color\": \"#EBF0F8\"}, \"line\": {\"color\": \"white\"}}, \"header\": {\"fill\": {\"color\": \"#C8D4E3\"}, \"line\": {\"color\": \"white\"}}, \"type\": \"table\"}]}, \"layout\": {\"annotationdefaults\": {\"arrowcolor\": \"#2a3f5f\", \"arrowhead\": 0, \"arrowwidth\": 1}, \"autotypenumbers\": \"strict\", \"coloraxis\": {\"colorbar\": {\"outlinewidth\": 0, \"ticks\": \"\"}}, \"colorscale\": {\"diverging\": [[0, \"#8e0152\"], [0.1, \"#c51b7d\"], [0.2, \"#de77ae\"], [0.3, \"#f1b6da\"], [0.4, \"#fde0ef\"], [0.5, \"#f7f7f7\"], [0.6, \"#e6f5d0\"], [0.7, \"#b8e186\"], [0.8, \"#7fbc41\"], [0.9, \"#4d9221\"], [1, \"#276419\"]], \"sequential\": [[0.0, \"#0d0887\"], [0.1111111111111111, \"#46039f\"], [0.2222222222222222, \"#7201a8\"], [0.3333333333333333, \"#9c179e\"], [0.4444444444444444, \"#bd3786\"], [0.5555555555555556, \"#d8576b\"], [0.6666666666666666, \"#ed7953\"], [0.7777777777777778, \"#fb9f3a\"], [0.8888888888888888, \"#fdca26\"], [1.0, \"#f0f921\"]], \"sequentialminus\": [[0.0, \"#0d0887\"], [0.1111111111111111, \"#46039f\"], [0.2222222222222222, \"#7201a8\"], [0.3333333333333333, \"#9c179e\"], [0.4444444444444444, \"#bd3786\"], [0.5555555555555556, \"#d8576b\"], [0.6666666666666666, \"#ed7953\"], [0.7777777777777778, \"#fb9f3a\"], [0.8888888888888888, \"#fdca26\"], [1.0, \"#f0f921\"]]}, \"colorway\": [\"#636efa\", \"#EF553B\", \"#00cc96\", \"#ab63fa\", \"#FFA15A\", \"#19d3f3\", \"#FF6692\", \"#B6E880\", \"#FF97FF\", \"#FECB52\"], \"font\": {\"color\": \"#2a3f5f\"}, \"geo\": {\"bgcolor\": \"white\", \"lakecolor\": \"white\", \"landcolor\": \"#E5ECF6\", \"showlakes\": true, \"showland\": true, \"subunitcolor\": \"white\"}, \"hoverlabel\": {\"align\": \"left\"}, \"hovermode\": \"closest\", \"mapbox\": {\"style\": \"light\"}, \"paper_bgcolor\": \"white\", \"plot_bgcolor\": \"#E5ECF6\", \"polar\": {\"angularaxis\": {\"gridcolor\": \"white\", \"linecolor\": \"white\", \"ticks\": \"\"}, \"bgcolor\": \"#E5ECF6\", \"radialaxis\": {\"gridcolor\": \"white\", \"linecolor\": \"white\", \"ticks\": \"\"}}, \"scene\": {\"xaxis\": {\"backgroundcolor\": \"#E5ECF6\", \"gridcolor\": \"white\", \"gridwidth\": 2, \"linecolor\": \"white\", \"showbackground\": true, \"ticks\": \"\", \"zerolinecolor\": \"white\"}, \"yaxis\": {\"backgroundcolor\": \"#E5ECF6\", \"gridcolor\": \"white\", \"gridwidth\": 2, \"linecolor\": \"white\", \"showbackground\": true, \"ticks\": \"\", \"zerolinecolor\": \"white\"}, \"zaxis\": {\"backgroundcolor\": \"#E5ECF6\", \"gridcolor\": \"white\", \"gridwidth\": 2, \"linecolor\": \"white\", \"showbackground\": true, \"ticks\": \"\", \"zerolinecolor\": \"white\"}}, \"shapedefaults\": {\"line\": {\"color\": \"#2a3f5f\"}}, \"ternary\": {\"aaxis\": {\"gridcolor\": \"white\", \"linecolor\": \"white\", \"ticks\": \"\"}, \"baxis\": {\"gridcolor\": \"white\", \"linecolor\": \"white\", \"ticks\": \"\"}, \"bgcolor\": \"#E5ECF6\", \"caxis\": {\"gridcolor\": \"white\", \"linecolor\": \"white\", \"ticks\": \"\"}}, \"title\": {\"x\": 0.05}, \"xaxis\": {\"automargin\": true, \"gridcolor\": \"white\", \"linecolor\": \"white\", \"ticks\": \"\", \"title\": {\"standoff\": 15}, \"zerolinecolor\": \"white\", \"zerolinewidth\": 2}, \"yaxis\": {\"automargin\": true, \"gridcolor\": \"white\", \"linecolor\": \"white\", \"ticks\": \"\", \"title\": {\"standoff\": 15}, \"zerolinecolor\": \"white\", \"zerolinewidth\": 2}}}, \"title\": {\"text\": \"Hair-Plate mediated reflex circuit\"}},                        {\"responsive\": true}                    ).then(function(){\n",
       "                            \n",
       "var gd = document.getElementById('3c045f60-44fe-4e1f-bc78-5e42f01d4cac');\n",
       "var x = new MutationObserver(function (mutations, observer) {{\n",
       "        var display = window.getComputedStyle(gd).display;\n",
       "        if (!display || display === 'none') {{\n",
       "            console.log([gd, 'removed!']);\n",
       "            Plotly.purge(gd);\n",
       "            observer.disconnect();\n",
       "        }}\n",
       "}});\n",
       "\n",
       "// Listen for the removal of the full notebook cells\n",
       "var notebookContainer = gd.closest('#notebook-container');\n",
       "if (notebookContainer) {{\n",
       "    x.observe(notebookContainer, {childList: true});\n",
       "}}\n",
       "\n",
       "// Listen for the clearing of the current output cell\n",
       "var outputEl = gd.closest('.output');\n",
       "if (outputEl) {{\n",
       "    x.observe(outputEl, {childList: true});\n",
       "}}\n",
       "\n",
       "                        })                };                });            </script>        </div>"
      ]
     },
     "metadata": {},
     "output_type": "display_data"
    }
   ],
   "source": [
    "'''Sankey Plot -- feed forward reflex circuit'''\n",
    "iin_order = ['6A', '8A', '9A', '12B', '13A', '13B', '14A', '16B', '19A', '21A']\n",
    "ein_order = ['1A', '3A', '4B', '7B', '12A', '17A', '19B', '20A', '22A', '23B']\n",
    "# set node positons along x\n",
    "layer_position = []\n",
    "for j in identity_array:\n",
    "    if j in Lhp_names:\n",
    "        layer_position.append(0.1)\n",
    "    elif j in in_ids:\n",
    "        layer_position.append(0.5)\n",
    "    else:\n",
    "        layer_position.append(0.9)\n",
    "                \n",
    "# determine the vertical positions\n",
    "vertical_positions = np.zeros(len(layer_position))\n",
    "    \n",
    "# set sensory neuron vertical position - single neurons\n",
    "sn_indices = np.where(np.array(layer_position) == 0.1)[0]\n",
    "vertical_positions[sn_indices[0]] = 0.5\n",
    "\n",
    "# layer 1 indices\n",
    "# reorder by leg segement\n",
    "layer_1_indices = np.where(np.array(layer_position) == 0.5)[0]\n",
    "layer_1_labels = np.array(identity_array)[layer_1_indices]\n",
    "prefered_label_order = np.concatenate((ein_order, iin_order))\n",
    "\n",
    "# just care about the index swapping\n",
    "idx_store = []\n",
    "for j in range(len(prefered_label_order)):\n",
    "    if prefered_label_order[j] in layer_1_labels.tolist():\n",
    "        idx = np.where(layer_1_labels == prefered_label_order[j])[0][0]\n",
    "        idx_store.append(idx)\n",
    "\n",
    "vertical_positions[layer_1_indices[np.array(idx_store)]] = np.linspace(0.1, 0.9, len(idx_store))\n",
    "\n",
    "# repeat the protocal above, but for indirect motor modules\n",
    "# reorder by leg segement\n",
    "layer_2_indices = np.where(np.array(layer_position) == 0.9)[0]\n",
    "layer_2_labels = np.array(identity_array)[layer_2_indices]\n",
    "prefered_label_order = ['coxa_anterior', 'coxa_rotate_adduct','coxa_promote', 'coxa_posterior', 'trochanter_flex', 'trochanter_extend', \n",
    "                        'femur_reduct', 'tibia_ta_flex_A', 'tibia_ta_flex_B', \n",
    "                        'tibia_ta_flex_C', 'tibia_extend','tarsus_depress_medial', 'tarsus_depress_ventralU',\n",
    "                        'ltm_A', 'ltm_B']\n",
    "\n",
    "# just care about the index swapping\n",
    "idx_store = []\n",
    "for j in range(len(prefered_label_order)):\n",
    "    if prefered_label_order[j] in layer_2_labels.tolist():\n",
    "        idx = np.where(layer_2_labels == prefered_label_order[j])[0][0]\n",
    "        idx_store.append(idx)\n",
    "\n",
    "vertical_positions[layer_2_indices[np.array(idx_store)]] = np.linspace(0.1, 0.9, len(idx_store))\n",
    "vertical_positions = vertical_positions\n",
    "\n",
    "# sankey plot\n",
    "import plotly.graph_objects as go\n",
    "\n",
    "fig = go.Figure(data=[go.Sankey(\n",
    "      arrangement='snap',\n",
    "      node = dict(\n",
    "      pad = 15,\n",
    "      thickness = 20,\n",
    "      line = dict(color = \"gray\", width = 0.5),\n",
    "      label = identity_array,\n",
    "      color = np.repeat(np.array(['gray']), len(identity_array)).tolist(),\n",
    "      x = layer_position,\n",
    "      y = vertical_positions\n",
    "    ),\n",
    "    link = dict(\n",
    "      source = source_num,\n",
    "      target = target_num,\n",
    "      value = source_target_synapses, # synapse number\n",
    "#       value = np.log(source_target_synapses),\n",
    "      color = source_color\n",
    "  ))])\n",
    "\n",
    "fig.update_layout(title_text=\"Hair-Plate mediated reflex circuit\", font_size=16, font_family = 'Arial Bold')\n",
    "fig.show()\n",
    "\n",
    "fig.write_image(str(save_dir.joinpath(f'{node_name}_reflex.png')), scale=2)\n",
    "fig.write_image(str(save_dir.joinpath(f'{node_name}_reflex.svg')), scale=2)\n",
    "# fig.write_image(save_path + node_name + '_reflex.pdf', scale=2)\n"
   ]
  },
  {
   "cell_type": "markdown",
   "id": "6d029fff",
   "metadata": {},
   "source": [
    "#### Cell counts within nodes"
   ]
  },
  {
   "cell_type": "code",
   "execution_count": 197,
   "id": "e3fb07cd",
   "metadata": {},
   "outputs": [
    {
     "ename": "IndexError",
     "evalue": "list index out of range",
     "output_type": "error",
     "traceback": [
      "\u001b[1;31m---------------------------------------------------------------------------\u001b[0m",
      "\u001b[1;31mIndexError\u001b[0m                                Traceback (most recent call last)",
      "\u001b[1;32m~\\AppData\\Local\\Temp/ipykernel_17560/2307553241.py\u001b[0m in \u001b[0;36m<module>\u001b[1;34m\u001b[0m\n\u001b[0;32m      1\u001b[0m \u001b[0min_idx\u001b[0m \u001b[1;33m=\u001b[0m \u001b[1;36m13\u001b[0m\u001b[1;33m\u001b[0m\u001b[0m\n\u001b[1;32m----> 2\u001b[1;33m \u001b[0mprint\u001b[0m\u001b[1;33m(\u001b[0m\u001b[1;34mf'Interneuron: {in_name_filtered[in_idx]}'\u001b[0m\u001b[1;33m)\u001b[0m\u001b[1;33m\u001b[0m\u001b[0m\n\u001b[0m\u001b[0;32m      3\u001b[0m \u001b[0mprint\u001b[0m\u001b[1;33m(\u001b[0m\u001b[1;34mf'Number of Cells: {len(np.unique(in_ids_filtered[in_idx]))}'\u001b[0m\u001b[1;33m)\u001b[0m\u001b[1;33m\u001b[0m\u001b[0m\n",
      "\u001b[1;31mIndexError\u001b[0m: list index out of range"
     ]
    }
   ],
   "source": [
    "in_idx = 13\n",
    "print(f'Interneuron: {in_name_filtered[in_idx]}')\n",
    "print(f'Number of Cells: {len(np.unique(in_ids_filtered[in_idx]))}')"
   ]
  },
  {
   "cell_type": "code",
   "execution_count": 199,
   "id": "fd5c5424",
   "metadata": {},
   "outputs": [],
   "source": [
    "all_mm_names = []\n",
    "neuro_loc = []\n",
    "for mm in np.unique(store_mm_ids):\n",
    "    if mm in mod_ids:\n",
    "        all_mm_names.append(mod_names[mm == mod_ids][0])\n",
    "#         neuro_loc.append(neuropil_assc[mm == mod_ids][0])"
   ]
  },
  {
   "cell_type": "code",
   "execution_count": 200,
   "id": "bc9defff",
   "metadata": {},
   "outputs": [],
   "source": [
    "names, cnts = np.unique(all_mm_names, return_counts=True)"
   ]
  },
  {
   "cell_type": "code",
   "execution_count": 212,
   "id": "d9565065",
   "metadata": {},
   "outputs": [
    {
     "ename": "IndexError",
     "evalue": "index 11 is out of bounds for axis 0 with size 11",
     "output_type": "error",
     "traceback": [
      "\u001b[1;31m---------------------------------------------------------------------------\u001b[0m",
      "\u001b[1;31mIndexError\u001b[0m                                Traceback (most recent call last)",
      "\u001b[1;32m~\\AppData\\Local\\Temp/ipykernel_17560/1091432004.py\u001b[0m in \u001b[0;36m<module>\u001b[1;34m\u001b[0m\n\u001b[0;32m      1\u001b[0m \u001b[0mmn_idx\u001b[0m \u001b[1;33m=\u001b[0m \u001b[1;36m11\u001b[0m\u001b[1;33m\u001b[0m\u001b[0m\n\u001b[1;32m----> 2\u001b[1;33m \u001b[0mprint\u001b[0m\u001b[1;33m(\u001b[0m\u001b[1;34mf'Motor Neuron: {names[mn_idx]}'\u001b[0m\u001b[1;33m)\u001b[0m\u001b[1;33m\u001b[0m\u001b[0m\n\u001b[0m\u001b[0;32m      3\u001b[0m \u001b[0mprint\u001b[0m\u001b[1;33m(\u001b[0m\u001b[1;34mf'Number of Cells: {cnts[mn_idx]}'\u001b[0m\u001b[1;33m)\u001b[0m\u001b[1;33m\u001b[0m\u001b[0m\n",
      "\u001b[1;31mIndexError\u001b[0m: index 11 is out of bounds for axis 0 with size 11"
     ]
    }
   ],
   "source": [
    "mn_idx = 11\n",
    "print(f'Motor Neuron: {names[mn_idx]}')\n",
    "print(f'Number of Cells: {cnts[mn_idx]}')"
   ]
  },
  {
   "cell_type": "markdown",
   "id": "acae134f",
   "metadata": {},
   "source": [
    "### Proportion of indirect excitatory and inhibitory input onto motor modules"
   ]
  },
  {
   "cell_type": "code",
   "execution_count": 167,
   "id": "06d6370f",
   "metadata": {},
   "outputs": [],
   "source": [
    "mm_indices = np.where((np.array(layer_position) == 0.9))[0]\n",
    "mm_names = np.array(identity_array)[mm_indices]"
   ]
  },
  {
   "cell_type": "code",
   "execution_count": 168,
   "id": "6b6d5e90",
   "metadata": {},
   "outputs": [],
   "source": [
    "# iterate through each motor modules\n",
    "ei_syns = np.zeros((2, len(mm_indices)))  # row 1 - excitatory, row 2 - inhibitory\n",
    "for i, j in enumerate(mm_indices):\n",
    "    target_idxs = np.where(np.array(target_num) == j)[0]\n",
    "    sources = np.array(source_num)[target_idxs]\n",
    "    weights = source_target_synapses[target_idxs]\n",
    "    colors = np.array(source_color)[target_idxs]\n",
    "    ei_syns[0, i] = np.sum(weights[(sources != 0) & (colors == 'rgba(237,28,36,0.5)')])\n",
    "    ei_syns[1, i] = np.sum(weights[(sources != 0) & (colors != 'rgba(237,28,36,0.5)')])"
   ]
  },
  {
   "cell_type": "code",
   "execution_count": 169,
   "id": "1a020b77",
   "metadata": {},
   "outputs": [],
   "source": [
    "# sorted total synapses \n",
    "sort_syns = np.argsort(np.sum(ei_syns, axis=0))[::-1]\n",
    "ei_syns_sorted = ei_syns[:, sort_syns]\n",
    "mm_names_sorted = mm_names[sort_syns]"
   ]
  },
  {
   "cell_type": "code",
   "execution_count": 171,
   "id": "81928372",
   "metadata": {},
   "outputs": [
    {
     "data": {
      "image/png": "[encoded data removed]",
      "text/plain": [
       "<Figure size 360x360 with 1 Axes>"
      ]
     },
     "metadata": {
      "needs_background": "light"
     },
     "output_type": "display_data"
    }
   ],
   "source": [
    "# stacked bar plot\n",
    "fig = plt.figure(1, figsize=[5,5])\n",
    "plt.bar(mm_names_sorted, ei_syns_sorted[0, :], color=(237/256, 28/256, 36/256, 0.5))\n",
    "plt.bar(mm_names_sorted, ei_syns_sorted[1, :], bottom=ei_syns_sorted[0, :], color=(28/256, 117/256, 188/256, 0.5))\n",
    "plt.xticks(rotation=90)\n",
    "plt.ylim([0,1800])\n",
    "plt.xlabel('motor modules', fontsize=14)\n",
    "plt.ylabel('indirect synapses (#)', fontsize=14)\n",
    "plt.legend(['excitatory', 'inhibitory'], fontsize=12)\n",
    "plt.tight_layout()\n",
    "plt.show()\n",
    "\n",
    "fig.savefig(save_dir.joinpath('cxhp8_indirect_motor_inputs.png'))\n",
    "fig.savefig(save_dir.joinpath('cxhp8_indirect_motor_inputs.pdf'))"
   ]
  },
  {
   "cell_type": "markdown",
   "id": "135eb740",
   "metadata": {},
   "source": [
    "### Motor impact scores - 2 hop network"
   ]
  },
  {
   "cell_type": "code",
   "execution_count": 31,
   "id": "e8b0dcee",
   "metadata": {},
   "outputs": [],
   "source": [
    "# extract out motor module connectivity matrix\n",
    "hp_premotor_mat = downstream_connectivity_matrix[:, cat_in_ids]   # set rows to all for premotor connectivity of every hp\n",
    "premotor_ids = np.array(downstream_ids)[cat_in_ids]\n",
    "premotor_sign = np.ones(len(premotor_ids))\n",
    "premotor_sign[len(ein_id_order)::] = -1  # -1 sign for all inhibitory interneurons"
   ]
  },
  {
   "cell_type": "code",
   "execution_count": 32,
   "id": "f7ef2c25",
   "metadata": {},
   "outputs": [],
   "source": [
    "# Query connectivity\n",
    "interneuron_input_df = client.materialize.synapse_query(post_ids=premotor_ids)  # query the number of input synapses\n",
    "neuropil_table = client.materialize.query_table('leg_mn_neuropil_reftable_v0')"
   ]
  },
  {
   "cell_type": "code",
   "execution_count": 33,
   "id": "a77c7ccb",
   "metadata": {},
   "outputs": [],
   "source": [
    "# Motor module matrix for all hair plates (collapse for each motor module)\n",
    "t1l_mns = module_table[neuropil_table['tag'] == 'left_t1']\n",
    "# mms = np.unique(t1l_mns['tag'])  # motor module names -- unsorted\n",
    "mms = ['coxa_rotate_adduct','coxa_promote', 'coxa_posterior', \n",
    " 'trochanter_flex', 'trochanter_extend', 'femur_reduct', \n",
    " 'tibia_ta_flex_A', 'tibia_ta_flex_B', 'tibia_ta_flex_C', \n",
    " 'tibia_extend','tarsus_depress_medial', 'tarsus_depress_ventralU',\n",
    " 'ltm_A', 'ltm_B']\n",
    "tot_mm_inputs = np.zeros(len(mms))\n",
    "for i, mm in enumerate(mms):\n",
    "    curr_mm_ids = t1l_mns['pt_root_id'][t1l_mns['tag'] == mm].values.tolist()\n",
    "    tot_mm_inputs[i] = len(client.materialize.synapse_query(post_ids=curr_mm_ids))"
   ]
  },
  {
   "cell_type": "code",
   "execution_count": 34,
   "id": "eb0763b2",
   "metadata": {},
   "outputs": [],
   "source": [
    "# hair plates onto motor modules\n",
    "hp_mm_mat = np.zeros((len(Lhp_names), len(mms)))\n",
    "for j, hp in enumerate(Lhp_names):\n",
    "    for i, mm in enumerate(mms):\n",
    "        if mm in mm_name_store.tolist():\n",
    "            mm_idxs = np.where(np.array(mm_name_store) == mm)[0]\n",
    "            hp_mm_mat[j, i] = np.sum(downstream_connectivity_matrix[j, id_order[mm_idxs]])/tot_mm_inputs[i]"
   ]
  },
  {
   "cell_type": "code",
   "execution_count": 35,
   "id": "b9bbfecf",
   "metadata": {},
   "outputs": [],
   "source": [
    "# Premotor matrix for all hair plates\n",
    "hp_premotor_mat = downstream_connectivity_matrix[:, cat_in_ids]   # set rows to all for premotor connectivity of every hp\n",
    "premotor_ids = np.array(downstream_ids)[cat_in_ids]\n",
    "premotor_sign = np.ones(len(premotor_ids))\n",
    "premotor_sign[len(ein_id_order)::] = -1  # -1 sign for all inhibitory interneurons\n",
    "tot_premotor_inputs = interneuron_input_df.groupby('post_pt_root_id')['post_pt_root_id'].count().reset_index(name=\"number_of_synapses\")\n",
    "for i, segid in enumerate(premotor_ids):\n",
    "    tot_synapses = tot_premotor_inputs['number_of_synapses'][tot_premotor_inputs['post_pt_root_id'] == segid].values[0]\n",
    "    hp_premotor_mat[:, i] = hp_premotor_mat[:, i]/tot_synapses"
   ]
  },
  {
   "cell_type": "code",
   "execution_count": 36,
   "id": "63657328",
   "metadata": {},
   "outputs": [],
   "source": [
    "# Premotor to module matrix\n",
    "in_mm_mat = np.zeros((len(premotor_ids), len(mms)))\n",
    "for j, premotor_id in enumerate(premotor_ids):\n",
    "    interneuron_output_df = client.materialize.synapse_query(pre_ids=premotor_ids[j])\n",
    "    dwn_synapses = interneuron_output_df.groupby(['post_pt_root_id'])['post_pt_root_id'].count().reset_index(name=\"number_of_synapses\").sort_values(by=['number_of_synapses'], ascending=False).reset_index(drop=True)\n",
    "    dwn_synapses = dwn_synapses[dwn_synapses['number_of_synapses'] > syn_threshold]\n",
    "    dwn_ids = dwn_synapses['post_pt_root_id'].values\n",
    "    n_synapes = dwn_synapses['number_of_synapses'].values\n",
    "    \n",
    "    # check for motor module input\n",
    "    for i, mm in enumerate(mms):\n",
    "        curr_mm_ids = t1l_mns['pt_root_id'][t1l_mns['tag'] == mm].values.tolist()\n",
    "        cum_syn = 0\n",
    "        for k, mn_id in enumerate(curr_mm_ids):\n",
    "            if mn_id in dwn_ids:\n",
    "                cum_syn += n_synapes[np.where(mn_id == dwn_ids)[0]]\n",
    "        \n",
    "        # fractional input of interneuron onto motor module\n",
    "        in_mm_mat[j, i] = premotor_sign[j] * (cum_syn/tot_mm_inputs[i])\n",
    "    "
   ]
  },
  {
   "cell_type": "code",
   "execution_count": 42,
   "id": "4ebe4f73",
   "metadata": {},
   "outputs": [],
   "source": [
    "# compute motor impact score\n",
    "mean_motor_impact = np.zeros((len(hps), len(mms)))\n",
    "for j, hp in enumerate(hps):\n",
    "    hp_idxs = np.where(np.array(Lhp_names) == hp)[0]\n",
    "    \n",
    "    for i, mm in enumerate(mms):\n",
    "        # Direct\n",
    "        direct_synapes = np.mean(hp_mm_mat[hp_idxs[0]:hp_idxs[-1]+1, i])\n",
    "        \n",
    "        # Indirect\n",
    "        indirect_synapses = np.mean(np.sum(hp_premotor_mat[hp_idxs[0]:hp_idxs[-1]+1, :] * in_mm_mat[:, i], axis=1))\n",
    "        \n",
    "        # Motor impact\n",
    "        mean_motor_impact[j, i] = direct_synapes + indirect_synapses\n",
    "        "
   ]
  },
  {
   "cell_type": "code",
   "execution_count": 45,
   "id": "81ed4787",
   "metadata": {},
   "outputs": [
    {
     "data": {
      "image/png": "[encoded data removed]",
      "text/plain": [
       "<Figure size 1080x720 with 2 Axes>"
      ]
     },
     "metadata": {
      "needs_background": "light"
     },
     "output_type": "display_data"
    }
   ],
   "source": [
    "# plot motor impact\n",
    "# visualize connectivity matrix\n",
    "fig = plt.figure(1, figsize = [15,10])\n",
    "ax = sea.heatmap(mean_motor_impact, xticklabels=mms, yticklabels=hps.tolist(), cmap='coolwarm',vmin=-0.005, vmax=0.005) # ,vmin=0, vmax=40\n",
    "cbar = ax.collections[0].colorbar\n",
    "cbar.ax.tick_params(labelsize=14)\n",
    "cbar.set_label(label = 'mean motor impact score', size=20, fontname ='Arial')\n",
    "plt.xlabel('Motor Module', fontsize =16, fontname ='Arial')\n",
    "plt.ylabel('Hair Plate', fontsize =16, fontname ='Arial')\n",
    "plt.yticks(fontsize = 12, fontname = 'Arial')\n",
    "plt.xticks(fontsize = 12, fontname = 'Arial')\n",
    "plt.show()\n",
    "\n",
    "fig.savefig(save_dir.joinpath('04132025_motor_impact_score.png'), dpi = 300, bbox_inches = 'tight')\n",
    "fig.savefig(save_dir.joinpath('04132025_motor_impact_score.pdf'), dpi = 300, bbox_inches = 'tight')"
   ]
  },
  {
   "cell_type": "markdown",
   "id": "4505389a",
   "metadata": {},
   "source": [
    "### connectivity matrix of local premotor, local non-premotor, intersegmental, leg motor neurons, ascending, descending, sensory neurons "
   ]
  },
  {
   "cell_type": "code",
   "execution_count": 19,
   "id": "eaf7e5da",
   "metadata": {},
   "outputs": [],
   "source": [
    "# create color map\n",
    "from matplotlib.colors import LinearSegmentedColormap\n",
    "# 0.0, 0.0, 0.0 # black background == 0 synapses\n",
    "# 1,1,1: white background\n",
    "cm_data = [[1.0, 1.0, 1.0],\n",
    "[0.2444, 0.1534, 0.6728],\n",
    "[0.2464, 0.1569, 0.6847],\n",
    "[0.2484, 0.1607, 0.6961],\n",
    "[0.2503, 0.1648, 0.7071],\n",
    "[0.2522, 0.1689, 0.7179],\n",
    "[0.254, 0.1732, 0.7286],\n",
    "[0.2558, 0.1773, 0.7393],\n",
    "[0.2576, 0.1814, 0.7501],\n",
    "[0.2594, 0.1854, 0.761],\n",
    "[0.2611, 0.1893, 0.7719],\n",
    "[0.2628, 0.1932, 0.7828],\n",
    "[0.2645, 0.1972, 0.7937],\n",
    "[0.2661, 0.2011, 0.8043],\n",
    "[0.2676, 0.2052, 0.8148],\n",
    "[0.2691, 0.2094, 0.8249],\n",
    "[0.2704, 0.2138, 0.8346],\n",
    "[0.2717, 0.2184, 0.8439],\n",
    "[0.2729, 0.2231, 0.8528],\n",
    "[0.274, 0.228, 0.8612],\n",
    "[0.2749, 0.233, 0.8692],\n",
    "[0.2758, 0.2382, 0.8767],\n",
    "[0.2766, 0.2435, 0.884],\n",
    "[0.2774, 0.2489, 0.8908],\n",
    "[0.2781, 0.2543, 0.8973],\n",
    "[0.2788, 0.2598, 0.9035],\n",
    "[0.2794, 0.2653, 0.9094],\n",
    "[0.2798, 0.2708, 0.915],\n",
    "[0.2802, 0.2764, 0.9204],\n",
    "[0.2806, 0.2819, 0.9255],\n",
    "[0.2809, 0.2875, 0.9305],\n",
    "[0.2811, 0.293, 0.9352],\n",
    "[0.2813, 0.2985, 0.9397],\n",
    "[0.2814, 0.304, 0.9441],\n",
    "[0.2814, 0.3095, 0.9483],\n",
    "[0.2813, 0.315, 0.9524],\n",
    "[0.2811, 0.3204, 0.9563],\n",
    "[0.2809, 0.3259, 0.96],\n",
    "[0.2807, 0.3313, 0.9636],\n",
    "[0.2803, 0.3367, 0.967],\n",
    "[0.2798, 0.3421, 0.9702],\n",
    "[0.2791, 0.3475, 0.9733],\n",
    "[0.2784, 0.3529, 0.9763],\n",
    "[0.2776, 0.3583, 0.9791],\n",
    "[0.2766, 0.3638, 0.9817],\n",
    "[0.2754, 0.3693, 0.984],\n",
    "[0.2741, 0.3748, 0.9862],\n",
    "[0.2726, 0.3804, 0.9881],\n",
    "[0.271, 0.386, 0.9898],\n",
    "[0.2691, 0.3916, 0.9912],\n",
    "[0.267, 0.3973, 0.9924],\n",
    "[0.2647, 0.403, 0.9935],\n",
    "[0.2621, 0.4088, 0.9946],\n",
    "[0.2591, 0.4145, 0.9955],\n",
    "[0.2556, 0.4203, 0.9965],\n",
    "[0.2517, 0.4261, 0.9974],\n",
    "[0.2473, 0.4319, 0.9983],\n",
    "[0.2424, 0.4378, 0.9991],\n",
    "[0.2369, 0.4437, 0.9996],\n",
    "[0.2311, 0.4497, 0.9995],\n",
    "[0.225, 0.4559, 0.9985],\n",
    "[0.2189, 0.462, 0.9968],\n",
    "[0.2128, 0.4682, 0.9948],\n",
    "[0.2066, 0.4743, 0.9926],\n",
    "[0.2006, 0.4803, 0.9906],\n",
    "[0.195, 0.4861, 0.9887],\n",
    "[0.1903, 0.4919, 0.9867],\n",
    "[0.1869, 0.4975, 0.9844],\n",
    "[0.1847, 0.503, 0.9819],\n",
    "[0.1831, 0.5084, 0.9793],\n",
    "[0.1818, 0.5138, 0.9766],\n",
    "[0.1806, 0.5191, 0.9738],\n",
    "[0.1795, 0.5244, 0.9709],\n",
    "[0.1785, 0.5296, 0.9677],\n",
    "[0.1778, 0.5349, 0.9641],\n",
    "[0.1773, 0.5401, 0.9602],\n",
    "[0.1768, 0.5452, 0.956],\n",
    "[0.1764, 0.5504, 0.9516],\n",
    "[0.1755, 0.5554, 0.9473],\n",
    "[0.174, 0.5605, 0.9432],\n",
    "[0.1716, 0.5655, 0.9393],\n",
    "[0.1686, 0.5705, 0.9357],\n",
    "[0.1649, 0.5755, 0.9323],\n",
    "[0.161, 0.5805, 0.9289],\n",
    "[0.1573, 0.5854, 0.9254],\n",
    "[0.154, 0.5902, 0.9218],\n",
    "[0.1513, 0.595, 0.9182],\n",
    "[0.1492, 0.5997, 0.9147],\n",
    "[0.1475, 0.6043, 0.9113],\n",
    "[0.1461, 0.6089, 0.908],\n",
    "[0.1446, 0.6135, 0.905],\n",
    "[0.1429, 0.618, 0.9022],\n",
    "[0.1408, 0.6226, 0.8998],\n",
    "[0.1383, 0.6272, 0.8975],\n",
    "[0.1354, 0.6317, 0.8953],\n",
    "[0.1321, 0.6363, 0.8932],\n",
    "[0.1288, 0.6408, 0.891],\n",
    "[0.1253, 0.6453, 0.8887],\n",
    "[0.1219, 0.6497, 0.8862],\n",
    "[0.1185, 0.6541, 0.8834],\n",
    "[0.1152, 0.6584, 0.8804],\n",
    "[0.1119, 0.6627, 0.877],\n",
    "[0.1085, 0.6669, 0.8734],\n",
    "[0.1048, 0.671, 0.8695],\n",
    "[0.1009, 0.675, 0.8653],\n",
    "[0.0964, 0.6789, 0.8609],\n",
    "[0.0914, 0.6828, 0.8562],\n",
    "[0.0855, 0.6865, 0.8513],\n",
    "[0.0789, 0.6902, 0.8462],\n",
    "[0.0713, 0.6938, 0.8409],\n",
    "[0.0628, 0.6972, 0.8355],\n",
    "[0.0535, 0.7006, 0.8299],\n",
    "[0.0433, 0.7039, 0.8242],\n",
    "[0.0328, 0.7071, 0.8183],\n",
    "[0.0234, 0.7103, 0.8124],\n",
    "[0.0155, 0.7133, 0.8064],\n",
    "[0.0091, 0.7163, 0.8003],\n",
    "[0.0046, 0.7192, 0.7941],\n",
    "[0.0019, 0.722, 0.7878],\n",
    "[0.0009, 0.7248, 0.7815],\n",
    "[0.0018, 0.7275, 0.7752],\n",
    "[0.0046, 0.7301, 0.7688],\n",
    "[0.0094, 0.7327, 0.7623],\n",
    "[0.0162, 0.7352, 0.7558],\n",
    "[0.0253, 0.7376, 0.7492],\n",
    "[0.0369, 0.74, 0.7426],\n",
    "[0.0504, 0.7423, 0.7359],\n",
    "[0.0638, 0.7446, 0.7292],\n",
    "[0.077, 0.7468, 0.7224],\n",
    "[0.0899, 0.7489, 0.7156],\n",
    "[0.1023, 0.751, 0.7088],\n",
    "[0.1141, 0.7531, 0.7019],\n",
    "[0.1252, 0.7552, 0.695],\n",
    "[0.1354, 0.7572, 0.6881],\n",
    "[0.1448, 0.7593, 0.6812],\n",
    "[0.1532, 0.7614, 0.6741],\n",
    "[0.1609, 0.7635, 0.6671],\n",
    "[0.1678, 0.7656, 0.6599],\n",
    "[0.1741, 0.7678, 0.6527],\n",
    "[0.1799, 0.7699, 0.6454],\n",
    "[0.1853, 0.7721, 0.6379],\n",
    "[0.1905, 0.7743, 0.6303],\n",
    "[0.1954, 0.7765, 0.6225],\n",
    "[0.2003, 0.7787, 0.6146],\n",
    "[0.2061, 0.7808, 0.6065],\n",
    "[0.2118, 0.7828, 0.5983],\n",
    "[0.2178, 0.7849, 0.5899],\n",
    "[0.2244, 0.7869, 0.5813],\n",
    "[0.2318, 0.7887, 0.5725],\n",
    "[0.2401, 0.7905, 0.5636],\n",
    "[0.2491, 0.7922, 0.5546],\n",
    "[0.2589, 0.7937, 0.5454],\n",
    "[0.2695, 0.7951, 0.536],\n",
    "[0.2809, 0.7964, 0.5266],\n",
    "[0.2929, 0.7975, 0.517],\n",
    "[0.3052, 0.7985, 0.5074],\n",
    "[0.3176, 0.7994, 0.4975],\n",
    "[0.3301, 0.8002, 0.4876],\n",
    "[0.3424, 0.8009, 0.4774],\n",
    "[0.3548, 0.8016, 0.4669],\n",
    "[0.3671, 0.8021, 0.4563],\n",
    "[0.3795, 0.8026, 0.4454],\n",
    "[0.3921, 0.8029, 0.4344],\n",
    "[0.405, 0.8031, 0.4233],\n",
    "[0.4184, 0.803, 0.4122],\n",
    "[0.4322, 0.8028, 0.4013],\n",
    "[0.4463, 0.8024, 0.3904],\n",
    "[0.4608, 0.8018, 0.3797],\n",
    "[0.4753, 0.8011, 0.3691],\n",
    "[0.4899, 0.8002, 0.3586],\n",
    "[0.5044, 0.7993, 0.348],\n",
    "[0.5187, 0.7982, 0.3374],\n",
    "[0.5329, 0.797, 0.3267],\n",
    "[0.547, 0.7957, 0.3159],\n",
    "[0.5609, 0.7943, 0.305],\n",
    "[0.5748, 0.7929, 0.2941],\n",
    "[0.5886, 0.7913, 0.2833],\n",
    "[0.6024, 0.7896, 0.2726],\n",
    "[0.6161, 0.7878, 0.2622],\n",
    "[0.6297, 0.7859, 0.2521],\n",
    "[0.6433, 0.7839, 0.2423],\n",
    "[0.6567, 0.7818, 0.2329],\n",
    "[0.6701, 0.7796, 0.2239],\n",
    "[0.6833, 0.7773, 0.2155],\n",
    "[0.6963, 0.775, 0.2075],\n",
    "[0.7091, 0.7727, 0.1998],\n",
    "[0.7218, 0.7703, 0.1924],\n",
    "[0.7344, 0.7679, 0.1852],\n",
    "[0.7468, 0.7654, 0.1782],\n",
    "[0.759, 0.7629, 0.1717],\n",
    "[0.771, 0.7604, 0.1658],\n",
    "[0.7829, 0.7579, 0.1608],\n",
    "[0.7945, 0.7554, 0.157],\n",
    "[0.806, 0.7529, 0.1546],\n",
    "[0.8172, 0.7505, 0.1535],\n",
    "[0.8281, 0.7481, 0.1536],\n",
    "[0.8389, 0.7457, 0.1546],\n",
    "[0.8495, 0.7435, 0.1564],\n",
    "[0.86, 0.7413, 0.1587],\n",
    "[0.8703, 0.7392, 0.1615],\n",
    "[0.8804, 0.7372, 0.165],\n",
    "[0.8903, 0.7353, 0.1695],\n",
    "[0.9, 0.7336, 0.1749],\n",
    "[0.9093, 0.7321, 0.1815],\n",
    "[0.9184, 0.7308, 0.189],\n",
    "[0.9272, 0.7298, 0.1973],\n",
    "[0.9357, 0.729, 0.2061],\n",
    "[0.944, 0.7285, 0.2151],\n",
    "[0.9523, 0.7284, 0.2237],\n",
    "[0.9606, 0.7285, 0.2312],\n",
    "[0.9689, 0.7292, 0.2373],\n",
    "[0.977, 0.7304, 0.2418],\n",
    "[0.9842, 0.733, 0.2446],\n",
    "[0.99, 0.7365, 0.2429],\n",
    "[0.9946, 0.7407, 0.2394],\n",
    "[0.9966, 0.7458, 0.2351],\n",
    "[0.9971, 0.7513, 0.2309],\n",
    "[0.9972, 0.7569, 0.2267],\n",
    "[0.9971, 0.7626, 0.2224],\n",
    "[0.9969, 0.7683, 0.2181],\n",
    "[0.9966, 0.774, 0.2138],\n",
    "[0.9962, 0.7798, 0.2095],\n",
    "[0.9957, 0.7856, 0.2053],\n",
    "[0.9949, 0.7915, 0.2012],\n",
    "[0.9938, 0.7974, 0.1974],\n",
    "[0.9923, 0.8034, 0.1939],\n",
    "[0.9906, 0.8095, 0.1906],\n",
    "[0.9885, 0.8156, 0.1875],\n",
    "[0.9861, 0.8218, 0.1846],\n",
    "[0.9835, 0.828, 0.1817],\n",
    "[0.9807, 0.8342, 0.1787],\n",
    "[0.9778, 0.8404, 0.1757],\n",
    "[0.9748, 0.8467, 0.1726],\n",
    "[0.972, 0.8529, 0.1695],\n",
    "[0.9694, 0.8591, 0.1665],\n",
    "[0.9671, 0.8654, 0.1636],\n",
    "[0.9651, 0.8716, 0.1608],\n",
    "[0.9634, 0.8778, 0.1582],\n",
    "[0.9619, 0.884, 0.1557],\n",
    "[0.9608, 0.8902, 0.1532],\n",
    "[0.9601, 0.8963, 0.1507],\n",
    "[0.9596, 0.9023, 0.148],\n",
    "[0.9595, 0.9084, 0.145],\n",
    "[0.9597, 0.9143, 0.1418],\n",
    "[0.9601, 0.9203, 0.1382],\n",
    "[0.9608, 0.9262, 0.1344],\n",
    "[0.9618, 0.932, 0.1304],\n",
    "[0.9629, 0.9379, 0.1261],\n",
    "[0.9642, 0.9437, 0.1216],\n",
    "[0.9657, 0.9494, 0.1168],\n",
    "[0.9674, 0.9552, 0.1116],\n",
    "[0.9692, 0.9609, 0.1061],\n",
    "[0.9711, 0.9667, 0.1001],\n",
    "[0.973, 0.9724, 0.0938],\n",
    "[0.9749, 0.9782, 0.0872],\n",
    "[0.9769, 0.9839, 0.0805]]\n",
    "\n",
    "parula_map = LinearSegmentedColormap.from_list('parula', cm_data)"
   ]
  },
  {
   "cell_type": "code",
   "execution_count": 20,
   "id": "ae69ccbb",
   "metadata": {},
   "outputs": [],
   "source": [
    "# Hierarchical clustering of similarity matrix\n",
    "from scipy.cluster.hierarchy import dendrogram\n",
    "from sklearn.cluster import AgglomerativeClustering\n",
    "\n",
    "def plot_dendrogram(model, **kwargs):\n",
    "    # Create linkage matrix and then plot the dendrogram\n",
    "\n",
    "    # create the counts of samples under each node\n",
    "    counts = np.zeros(model.children_.shape[0])\n",
    "    n_samples = len(model.labels_)\n",
    "    for i, merge in enumerate(model.children_):\n",
    "        current_count = 0\n",
    "        for child_idx in merge:\n",
    "            if child_idx < n_samples:\n",
    "                current_count += 1  # leaf node\n",
    "            else:\n",
    "                current_count += counts[child_idx - n_samples]\n",
    "        counts[i] = current_count\n",
    "\n",
    "    linkage_matrix = np.column_stack(\n",
    "        [model.children_, model.distances_, counts]\n",
    "    ).astype(float)\n",
    "\n",
    "    # Plot the corresponding dendrogram\n",
    "    dendrogram(linkage_matrix, **kwargs)\n",
    "    dend_dict = dendrogram(linkage_matrix, **kwargs)\n",
    "    \n",
    "    # sorted order of indices found through clustering\n",
    "    clustered_order = dend_dict['ivl']\n",
    "    plt.close()\n",
    "    \n",
    "    return clustered_order"
   ]
  },
  {
   "cell_type": "code",
   "execution_count": 21,
   "id": "31ce17a8",
   "metadata": {},
   "outputs": [
    {
     "data": {
      "text/plain": [
       "['orphan fragment',\n",
       " 'orphan fragment',\n",
       " 'orphan fragment',\n",
       " 'orphan fragment',\n",
       " 'orphan fragment',\n",
       " 'orphan fragment',\n",
       " 'orphan fragment',\n",
       " 'orphan fragment',\n",
       " 'orphan fragment',\n",
       " 'orphan fragment',\n",
       " 'orphan fragment',\n",
       " 'orphan fragment',\n",
       " 'orphan fragment',\n",
       " 'orphan fragment',\n",
       " 'orphan fragment',\n",
       " 'orphan fragment',\n",
       " 'orphan fragment',\n",
       " 'orphan fragment',\n",
       " 'orphan fragment',\n",
       " 'orphan fragment',\n",
       " 'orphan fragment',\n",
       " 'orphan fragment',\n",
       " 'orphan fragment',\n",
       " 'orphan fragment',\n",
       " 'orphan fragment',\n",
       " 'orphan fragment',\n",
       " 'orphan fragment',\n",
       " 'intersegmental',\n",
       " 'local',\n",
       " 'orphan fragment',\n",
       " 'leg motor neuron',\n",
       " 'orphan fragment',\n",
       " 'descending',\n",
       " 'intersegmental',\n",
       " 'local',\n",
       " 'orphan fragment',\n",
       " 'orphan fragment',\n",
       " 'intersegmental',\n",
       " 'local',\n",
       " 'glia',\n",
       " 'intersegmental',\n",
       " 'intersegmental',\n",
       " 'orphan fragment',\n",
       " 'sensory neuron',\n",
       " 'local',\n",
       " 'sensory neuron',\n",
       " 'intersegmental',\n",
       " 'local',\n",
       " 'sensory neuron',\n",
       " 'ascending',\n",
       " 'sensory neuron',\n",
       " 'ascending',\n",
       " 'local',\n",
       " 'local',\n",
       " 'ascending',\n",
       " 'local',\n",
       " 'glia',\n",
       " 'orphan fragment',\n",
       " 'glia',\n",
       " 'orphan fragment',\n",
       " 'leg motor neuron',\n",
       " 'orphan fragment',\n",
       " 'local',\n",
       " 'local',\n",
       " 'ascending',\n",
       " 'orphan fragment',\n",
       " 'local?',\n",
       " 'leg motor neuron',\n",
       " 'orphan fragment',\n",
       " 'orphan fragment',\n",
       " 'intersegmental',\n",
       " 'sensory neuron',\n",
       " 'intersegmental',\n",
       " 'intersegmental',\n",
       " 'local',\n",
       " 'intersegmental',\n",
       " 'orphan fragment',\n",
       " 'leg motor neuron',\n",
       " 'local',\n",
       " 'intersegmental',\n",
       " 'leg motor neuron',\n",
       " 'ascending',\n",
       " 'leg motor neuron',\n",
       " 'leg motor neuron',\n",
       " 'local',\n",
       " 'local',\n",
       " 'orphan fragment',\n",
       " 'orphan fragment',\n",
       " 'orphan fragment',\n",
       " 'orphan fragment',\n",
       " 'local',\n",
       " 'orphan fragment',\n",
       " 'ascending',\n",
       " 'local',\n",
       " 'local',\n",
       " 'descending',\n",
       " 'ascending',\n",
       " 'local',\n",
       " 'sensory neuron',\n",
       " 'local',\n",
       " 'local',\n",
       " 'intersegmental',\n",
       " 'orphan fragment',\n",
       " 'local',\n",
       " 'local',\n",
       " 'orphan fragment',\n",
       " 'orphan fragment',\n",
       " 'local',\n",
       " 'ascending',\n",
       " 'intersegmental',\n",
       " 'orphan fragment',\n",
       " 'intersegmental',\n",
       " 'local',\n",
       " 'local',\n",
       " 'orphan fragment',\n",
       " 'local',\n",
       " 'intersegmental',\n",
       " 'local',\n",
       " 'local',\n",
       " 'local',\n",
       " 'sensory neuron',\n",
       " 'orphan fragment',\n",
       " 'intersegmental',\n",
       " 'local',\n",
       " 'local',\n",
       " 'leg motor neuron',\n",
       " 'local',\n",
       " 'local',\n",
       " 'ascending',\n",
       " 'intersegmental',\n",
       " 'leg motor neuron',\n",
       " 'orphan fragment',\n",
       " 'intersegmental',\n",
       " 'local',\n",
       " 'ascending',\n",
       " 'glia',\n",
       " 'local',\n",
       " 'ascending',\n",
       " 'orphan fragment',\n",
       " 'intersegmental',\n",
       " 'orphan fragment',\n",
       " 'local',\n",
       " 'local',\n",
       " 'ascending',\n",
       " 'orphan fragment',\n",
       " 'local',\n",
       " 'intersegmental',\n",
       " 'orphan fragment',\n",
       " 'orphan fragment',\n",
       " 'local',\n",
       " 'orphan fragment',\n",
       " 'descending',\n",
       " 'intersegmental',\n",
       " 'intersegmental',\n",
       " 'local',\n",
       " 'orphan fragment',\n",
       " 'ascending',\n",
       " 'sensory neuron',\n",
       " 'intersegmental',\n",
       " 'local',\n",
       " 'descending',\n",
       " 'glia',\n",
       " 'local',\n",
       " 'intersegmental',\n",
       " 'local',\n",
       " 'intersegmental',\n",
       " 'intersegmental',\n",
       " 'local',\n",
       " 'intersegmental',\n",
       " 'leg motor neuron',\n",
       " 'local',\n",
       " 'local',\n",
       " 'orphan fragment',\n",
       " 'intersegmental',\n",
       " 'leg motor neuron',\n",
       " 'intersegmental',\n",
       " 'orphan fragment',\n",
       " 'orphan fragment',\n",
       " 'local',\n",
       " 'ascending',\n",
       " 'leg motor neuron',\n",
       " 'intersegmental',\n",
       " 'intersegmental',\n",
       " 'local',\n",
       " 'local',\n",
       " 'local',\n",
       " 'leg motor neuron',\n",
       " 'intersegmental',\n",
       " 'local',\n",
       " 'local',\n",
       " 'intersegmental',\n",
       " 'leg motor neuron',\n",
       " 'local',\n",
       " 'local',\n",
       " 'local',\n",
       " 'sensory neuron',\n",
       " 'local',\n",
       " 'sensory neuron',\n",
       " 'local',\n",
       " 'leg motor neuron',\n",
       " 'glia',\n",
       " 'leg motor neuron',\n",
       " 'intersegmental',\n",
       " 'orphan fragment',\n",
       " 'sensory neuron',\n",
       " 'ascending',\n",
       " 'orphan fragment',\n",
       " 'intersegmental',\n",
       " 'local',\n",
       " 'local',\n",
       " 'glia',\n",
       " 'intersegmental',\n",
       " 'intersegmental',\n",
       " 'intersegmental',\n",
       " 'local',\n",
       " 'local',\n",
       " 'intersegmental',\n",
       " 'local',\n",
       " 'sensory neuron',\n",
       " 'glia',\n",
       " 'local',\n",
       " 'local',\n",
       " 'local',\n",
       " 'leg motor neuron',\n",
       " 'local',\n",
       " 'intersegmental',\n",
       " 'local',\n",
       " 'local',\n",
       " 'intersegmental',\n",
       " 'intersegmental',\n",
       " 'ascending',\n",
       " 'local',\n",
       " 'intersegmental',\n",
       " 'intersegmental',\n",
       " 'local',\n",
       " 'intersegmental',\n",
       " 'local',\n",
       " 'intersegmental',\n",
       " 'orphan fragment',\n",
       " 'intersegmental',\n",
       " 'local',\n",
       " 'local',\n",
       " 'local',\n",
       " 'leg motor neuron',\n",
       " 'local',\n",
       " 'intersegmental',\n",
       " 'local',\n",
       " 'local',\n",
       " 'local',\n",
       " 'orphan fragment',\n",
       " 'local',\n",
       " 'local',\n",
       " 'orphan fragment',\n",
       " 'local',\n",
       " 'local',\n",
       " 'leg motor neuron',\n",
       " 'intersegmental',\n",
       " 'local',\n",
       " 'leg motor neuron',\n",
       " 'intersegmental',\n",
       " 'intersegmental',\n",
       " 'orphan fragment',\n",
       " 'intersegmental',\n",
       " 'local',\n",
       " 'local',\n",
       " 'local',\n",
       " 'local',\n",
       " 'intersegmental',\n",
       " 'intersegmental',\n",
       " 'local',\n",
       " 'ascending',\n",
       " 'local',\n",
       " 'ascending',\n",
       " 'ascending',\n",
       " 'intersegmental',\n",
       " 'intersegmental',\n",
       " 'local',\n",
       " 'ascending',\n",
       " 'intersegmental',\n",
       " 'intersegmental',\n",
       " 'local',\n",
       " 'local',\n",
       " 'intersegmental',\n",
       " 'local',\n",
       " 'ascending',\n",
       " 'leg motor neuron',\n",
       " 'leg motor neuron',\n",
       " 'local',\n",
       " 'intersegmental',\n",
       " 'intersegmental',\n",
       " 'intersegmental',\n",
       " 'local',\n",
       " 'intersegmental',\n",
       " 'intersegmental',\n",
       " 'orphan fragment',\n",
       " 'orphan fragment',\n",
       " 'orphan fragment',\n",
       " 'intersegmental',\n",
       " 'local',\n",
       " 'intersegmental',\n",
       " 'ascending',\n",
       " 'local',\n",
       " 'local',\n",
       " 'local',\n",
       " 'intersegmental',\n",
       " 'descending',\n",
       " 'local',\n",
       " 'intersegmental',\n",
       " 'local',\n",
       " 'local',\n",
       " 'local',\n",
       " 'intersegmental',\n",
       " 'orphan fragment',\n",
       " 'local',\n",
       " 'sensory neuron',\n",
       " 'intersegmental',\n",
       " 'orphan fragment',\n",
       " 'local',\n",
       " 'local',\n",
       " 'glia',\n",
       " 'local',\n",
       " 'glia',\n",
       " 'local',\n",
       " 'ascending',\n",
       " 'intersegmental',\n",
       " 'orphan fragment',\n",
       " 'orphan fragment',\n",
       " 'local',\n",
       " 'glia',\n",
       " 'leg motor neuron',\n",
       " 'local',\n",
       " 'local',\n",
       " 'leg motor neuron',\n",
       " 'orphan fragment',\n",
       " 'local',\n",
       " 'ascending',\n",
       " 'local',\n",
       " 'local',\n",
       " 'local',\n",
       " 'local',\n",
       " 'local',\n",
       " 'local',\n",
       " 'intersegmental',\n",
       " 'orphan fragment',\n",
       " 'sensory neuron',\n",
       " 'intersegmental',\n",
       " 'intersegmental',\n",
       " 'local',\n",
       " 'intersegmental',\n",
       " 'local',\n",
       " 'intersegmental',\n",
       " 'local',\n",
       " 'local',\n",
       " 'glia',\n",
       " 'intersegmental',\n",
       " 'local',\n",
       " 'intersegmental',\n",
       " 'local',\n",
       " 'orphan fragment',\n",
       " 'local',\n",
       " 'descending',\n",
       " 'intersegmental',\n",
       " 'leg motor neuron',\n",
       " 'local',\n",
       " 'local',\n",
       " 'local',\n",
       " 'leg motor neuron',\n",
       " 'sensory neuron',\n",
       " 'local',\n",
       " 'intersegmental',\n",
       " 'intersegmental',\n",
       " 'local',\n",
       " 'local',\n",
       " 'orphan fragment',\n",
       " 'local',\n",
       " 'local',\n",
       " 'local',\n",
       " 'intersegmental',\n",
       " 'orphan fragment',\n",
       " 'local',\n",
       " 'intersegmental',\n",
       " 'intersegmental',\n",
       " 'glia',\n",
       " 'local',\n",
       " 'local',\n",
       " 'local',\n",
       " 'ascending',\n",
       " 'local',\n",
       " 'local',\n",
       " 'orphan fragment',\n",
       " 'local',\n",
       " 'leg motor neuron',\n",
       " 'local',\n",
       " 'local',\n",
       " 'orphan fragment',\n",
       " 'local',\n",
       " 'local',\n",
       " 'intersegmental',\n",
       " 'local',\n",
       " 'intersegmental',\n",
       " 'sensory neuron',\n",
       " 'local',\n",
       " 'local',\n",
       " 'local',\n",
       " 'orphan fragment',\n",
       " 'local',\n",
       " 'intersegmental',\n",
       " 'local',\n",
       " 'local',\n",
       " 'intersegmental',\n",
       " 'local',\n",
       " 'local',\n",
       " 'local',\n",
       " 'intersegmental',\n",
       " 'leg motor neuron',\n",
       " 'local',\n",
       " 'local',\n",
       " 'ascending',\n",
       " 'local',\n",
       " 'local',\n",
       " 'leg motor neuron',\n",
       " 'local',\n",
       " 'local',\n",
       " 'leg motor neuron',\n",
       " 'local',\n",
       " 'local',\n",
       " 'leg motor neuron',\n",
       " 'leg motor neuron',\n",
       " 'local',\n",
       " 'local',\n",
       " 'local',\n",
       " 'orphan fragment',\n",
       " 'orphan fragment',\n",
       " 'local',\n",
       " 'intersegmental',\n",
       " 'intersegmental',\n",
       " 'intersegmental',\n",
       " 'local',\n",
       " 'local',\n",
       " 'local',\n",
       " 'local',\n",
       " 'intersegmental',\n",
       " 'orphan fragment',\n",
       " 'local',\n",
       " 'intersegmental',\n",
       " 'local',\n",
       " 'local',\n",
       " 'local',\n",
       " 'local',\n",
       " 'local',\n",
       " 'local',\n",
       " 'local',\n",
       " 'local',\n",
       " 'sensory neuron',\n",
       " 'sensory neuron',\n",
       " 'intersegmental',\n",
       " 'local',\n",
       " 'orphan fragment',\n",
       " 'glia',\n",
       " 'intersegmental',\n",
       " 'orphan fragment',\n",
       " 'intersegmental',\n",
       " 'orphan fragment',\n",
       " 'local',\n",
       " 'leg motor neuron',\n",
       " 'intersegmental',\n",
       " 'leg motor neuron',\n",
       " 'local',\n",
       " 'local',\n",
       " 'local',\n",
       " 'leg motor neuron',\n",
       " 'local',\n",
       " 'intersegmental',\n",
       " 'local',\n",
       " 'local',\n",
       " 'local',\n",
       " 'intersegmental',\n",
       " 'glia',\n",
       " 'local',\n",
       " 'leg motor neuron',\n",
       " 'local',\n",
       " 'local',\n",
       " 'leg motor neuron',\n",
       " 'intersegmental',\n",
       " 'intersegmental',\n",
       " 'sensory neuron',\n",
       " 'local',\n",
       " 'local',\n",
       " 'local',\n",
       " 'local',\n",
       " 'local']"
      ]
     },
     "execution_count": 21,
     "metadata": {},
     "output_type": "execute_result"
    }
   ],
   "source": [
    "downstream_ids = np.array(downstream_ids)[np.array(downstream_cell_class)!='unknown'].tolist()\n",
    "downstream_hemilineage = np.array(downstream_hemilineage)[np.array(downstream_cell_class)!='unknown'].tolist()\n",
    "downstream_EI = np.array(downstream_EI)[np.array(downstream_cell_class)!='unknown'].tolist()\n",
    "downstream_connectivity_matrix = downstream_connectivity_matrix[:,np.array(downstream_cell_class)!='unknown']\n",
    "downstream_cell_class"
   ]
  },
  {
   "cell_type": "code",
   "execution_count": 59,
   "id": "639d3150",
   "metadata": {},
   "outputs": [],
   "source": [
    "# reorder connectivity matrix so that CxHP4 comes before CxHP3\n",
    "swap_idx = np.arange(downstream_connectivity_matrix.shape[0])\n",
    "swap_idx[0:4] = np.array([3,4,5,6])\n",
    "swap_idx[4:7] = np.array([0,1,2])\n",
    "downstream_connectivity_matrix = downstream_connectivity_matrix[swap_idx,:] # reorder so that CxHP4 comes first"
   ]
  },
  {
   "cell_type": "code",
   "execution_count": 32,
   "id": "fac4619b",
   "metadata": {},
   "outputs": [],
   "source": [
    "# iterate through cell classes and perform agglomartive clustering\n",
    "cell_classes = ['leg motor neuron', 'local premotor', 'local','intersegmental', 'ascending','descending', 'sensory neuron']\n",
    "n_Neurons = np.zeros(len(cell_classes))\n",
    "cnt = -1\n",
    "store_mat = []\n",
    "for j in cell_classes:\n",
    "    cnt+=1\n",
    "    class_idxs = np.where(np.array(downstream_cell_class) == j)[0]\n",
    "    \n",
    "    # isolate that part of the connectivity matrix\n",
    "    filt_con_mat = downstream_connectivity_matrix[:,class_idxs]\n",
    "    \n",
    "    # cosine similarity to find structure\n",
    "    sim_mat_2 = cosine_similarity(np.transpose(filt_con_mat))\n",
    "    model = AgglomerativeClustering(distance_threshold=0, n_clusters=None).fit(sim_mat_2)\n",
    "    clustered_order_2 = plot_dendrogram(model, truncate_mode=\"level\", p=filt_con_mat.shape[1]) # p truncate mode\n",
    "    clustered_order_2 = np.array(clustered_order_2).astype(int) # convert strins into integers\n",
    "\n",
    "    # reorder hairplate and motor neuron matrix\n",
    "    reordered_mat = filt_con_mat[:, clustered_order_2]\n",
    "    \n",
    "    n_Neurons[cnt] = reordered_mat.shape[1]\n",
    "    store_mat.append(reordered_mat)\n",
    "    \n",
    "    # horizontally stack arrays\n",
    "    if cnt == 0:\n",
    "        whole_mat = reordered_mat\n",
    "    else:\n",
    "        whole_mat = np.hstack ((whole_mat, reordered_mat))\n",
    "    "
   ]
  },
  {
   "cell_type": "code",
   "execution_count": 33,
   "id": "dd8e49b0",
   "metadata": {},
   "outputs": [
    {
     "data": {
      "image/png": "[encoded data removed]",
      "text/plain": [
       "<Figure size 2160x720 with 2 Axes>"
      ]
     },
     "metadata": {
      "needs_background": "light"
     },
     "output_type": "display_data"
    }
   ],
   "source": [
    "# visualize connectivity matrix\n",
    "cat_colors = ['red', 'blue', 'gold', 'green', 'cyan','gray', 'magenta']\n",
    "fig = plt.figure(1, figsize = [30,10])\n",
    "ax = sea.heatmap(whole_mat, yticklabels=np.array(Lhp_names)[swap_idx].tolist(), cmap=parula_map,vmin=0, vmax=200) # yticklabels=np.array(Lhp_names)[clustered_order_1].tolist()\n",
    "cbar = ax.collections[0].colorbar\n",
    "# iterate and plot\n",
    "st = 0\n",
    "for i in range(len(n_Neurons)):\n",
    "    ei = st+n_Neurons[i]\n",
    "    plt.plot(np.array([st, ei]), np.array([33, 33]), color = cat_colors[i], alpha = 0.5, linewidth =10)\n",
    "    st = ei+1\n",
    "\n",
    "cbar.ax.tick_params(labelsize=14)\n",
    "cbar.set_label(label = 'Number of Synapses', size=20, fontname ='Arial')\n",
    "plt.xlabel('Downstream Neurons', fontsize =16, fontname ='Arial')\n",
    "plt.ylabel('Hair Plate Neurons', fontsize =16, fontname ='Arial')\n",
    "plt.yticks(fontsize = 12, fontname = 'Arial')\n",
    "plt.xticks([])\n",
    "plt.show()\n",
    "# fig.savefig(save_path+'hp_mn_connectivity_matrix.png', dpi = 300, bbox_inches = 'tight')\n",
    "# fig.savefig(save_path+'hp_mn_connectivity_matrix.svg', dpi = 300, bbox_inches = 'tight')"
   ]
  },
  {
   "cell_type": "markdown",
   "id": "40f0db8f",
   "metadata": {},
   "source": [
    "### Motor module connections"
   ]
  },
  {
   "cell_type": "code",
   "execution_count": 18,
   "id": "fdb83442",
   "metadata": {},
   "outputs": [],
   "source": [
    "# sort motor modules (~MNs) along the proximal-distal axis of the leg\n",
    "\n",
    "'''Lines are commented below because it is already done'''\n",
    "# mm_order = ['coxa_posterior', 'coxa_promotion', 'coxa_rotator_adductor', 'trochanter_flex', \n",
    "#            'trochanter_extend', 'femur_reduct', 'tibia_ta_flex_A', 'tibia_ta_flex_B', 'tibia_ta_flex_C',\n",
    "#            'tibia_extend', 'tarsus_depressor_ventralU']\n",
    "# # mm_idxs = np.where(np.array(downstream_cell_class) == 'leg motor neuron')[0]\n",
    "# mm_names = np.array(downstream_hemilineage)[mm_idxs]\n",
    "\n",
    "for j in range(len(mm_order)):\n",
    "    curr_mm_ids = np.where(np.array(downstream_hemilineage) == mm_order[j])[0]\n",
    "    if len(curr_mm_ids)>1:\n",
    "        temp_mat = downstream_connectivity_matrix[:, curr_mm_ids]\n",
    "        # cosine similarity to find structure\n",
    "        sim_mat = cosine_similarity(np.transpose(temp_mat))\n",
    "        model = AgglomerativeClustering(distance_threshold=0, n_clusters=None).fit(sim_mat)\n",
    "        clustered_order = plot_dendrogram(model, truncate_mode=\"level\", p=temp_mat.shape[1]) # p truncate mode\n",
    "        clustered_order = np.array(clustered_order).astype(int) # convert strins into integers\n",
    "    \n",
    "        if j ==0:\n",
    "            id_order = curr_mm_ids[clustered_order]\n",
    "            mm_name_store = np.repeat(mm_order[j], len(curr_mm_ids))\n",
    "        else:\n",
    "            id_order = np.concatenate((id_order, curr_mm_ids[clustered_order]))\n",
    "            mm_name_store = np.concatenate((mm_name_store, np.repeat(mm_order[j], len(curr_mm_ids))))\n",
    "    else:\n",
    "        if j ==0:\n",
    "            id_order = curr_mm_ids\n",
    "            mm_name_store = np.repeat(mm_order[j], len(curr_mm_ids))\n",
    "        else:\n",
    "            id_order = np.concatenate((id_order, curr_mm_ids))\n",
    "            mm_name_store = np.concatenate((mm_name_store, np.repeat(mm_order[j], len(curr_mm_ids))))"
   ]
  },
  {
   "cell_type": "code",
   "execution_count": null,
   "id": "8b3d4042",
   "metadata": {},
   "outputs": [],
   "source": [
    "# visualize connectivity matrix\n",
    "# reorder connectivity matrix so that CxHP4 comes before CxHP3\n",
    "swap_idx = np.arange(downstream_connectivity_matrix.shape[0])\n",
    "swap_idx[0:4] = np.array([3,4,5,6])\n",
    "swap_idx[4:7] = np.array([0,1,2])\n",
    "swapped_downstream_connectivity_matrix = downstream_connectivity_matrix[swap_idx,:] # reorder so that CxHP4 comes first\n",
    "\n",
    "# filter the hair plate to motor module\n",
    "swapped_mm_mat = swapped_downstream_connectivity_matrix[:, id_order]\n",
    "\n",
    "fig = plt.figure(1, figsize = [15,10])\n",
    "ax = sea.heatmap(mm_mat_filt, xticklabels=filt_mm_name.tolist(), yticklabels=np.array(Lhp_names)[swap_idx].tolist(), cmap='Greys', vmin=0, vmax=40) #parula_map \n",
    "cbar = ax.collections[0].colorbar\n",
    "cbar.ax.tick_params(labelsize=14)\n",
    "cbar.set_label(label = 'Number of Synapses', size=20, fontname ='Arial')\n",
    "plt.xlabel('Motor Module', fontsize =16, fontname ='Arial')\n",
    "plt.ylabel('Hair Plate Neurons', fontsize =16, fontname ='Arial')\n",
    "plt.yticks(fontsize = 12, fontname = 'Arial')\n",
    "plt.xticks(fontsize = 12, fontname = 'Arial')\n",
    "plt.show()\n",
    "# fig.savefig(save_dir.joinpath('03302025_hp_motor_module_connectivity_matrix.png'), dpi = 300, bbox_inches = 'tight')\n",
    "# fig.savefig(save_dir.joinpath('03302025_hp_motor_module_connectivity_matrix.pdf'), dpi = 300, bbox_inches = 'tight')"
   ]
  },
  {
   "cell_type": "code",
   "execution_count": 203,
   "id": "cf03db7d",
   "metadata": {},
   "outputs": [
    {
     "data": {
      "image/png": "[encoded data removed]",
      "text/plain": [
       "<Figure size 1080x720 with 2 Axes>"
      ]
     },
     "metadata": {
      "needs_background": "light"
     },
     "output_type": "display_data"
    }
   ],
   "source": [
    "# extract out motor module connectivity matrix\n",
    "mm_mat = downstream_connectivity_matrix[:, id_order]\n",
    "\n",
    "# visualize connectivity matrix\n",
    "fig = plt.figure(1, figsize = [15,10])\n",
    "ax = sea.heatmap(mm_mat, xticklabels=mm_name_store.tolist(), yticklabels=np.array(Lhp_names)[swap_idx].tolist(), cmap=parula_map,vmin=0, vmax=105) # \n",
    "cbar = ax.collections[0].colorbar\n",
    "cbar.ax.tick_params(labelsize=14)\n",
    "cbar.set_label(label = 'Number of Synapses', size=20, fontname ='Arial')\n",
    "plt.xlabel('Motor Module', fontsize =16, fontname ='Arial')\n",
    "plt.ylabel('Hair Plate Neurons', fontsize =16, fontname ='Arial')\n",
    "plt.yticks(fontsize = 12, fontname = 'Arial')\n",
    "plt.xticks(fontsize = 12, fontname = 'Arial')\n",
    "plt.show()\n",
    "fig.savefig(save_path+'motor_module_connectivity_matrix.png', dpi = 300, bbox_inches = 'tight')\n",
    "fig.savefig(save_path+'motor_module_connectivity_matrix.svg', dpi = 300, bbox_inches = 'tight')"
   ]
  },
  {
   "cell_type": "markdown",
   "id": "d3e2c162",
   "metadata": {},
   "source": [
    "### IIN premotor neurons"
   ]
  },
  {
   "cell_type": "code",
   "execution_count": 34,
   "id": "37d052cf",
   "metadata": {},
   "outputs": [],
   "source": [
    "# seperate inhibitory and excitatory premotor neurons\n",
    "syn_threshold = 20\n",
    "# inhibitory\n",
    "iin_order = ['6A', '8A', '9A', '12B', '13A', '13B', '14A', '16B', '19A', '21A']\n",
    "iin_pre_idxs = np.where(np.logical_and(np.array(downstream_cell_class) == 'local premotor', np.array(downstream_EI) == 'I') == True)[0]\n",
    "iin_names = np.array(downstream_hemilineage)[iin_pre_idxs]\n",
    "\n",
    "for j in range(len(iin_order)):\n",
    "    curr_ids = iin_pre_idxs[np.where(np.array(iin_names) == iin_order[j])[0]]\n",
    "    if len(curr_ids)>1:\n",
    "        temp_mat = downstream_connectivity_matrix[:, curr_ids]\n",
    "        # cosine similarity to find structure\n",
    "        sim_mat = cosine_similarity(np.transpose(temp_mat))\n",
    "        model = AgglomerativeClustering(distance_threshold=0, n_clusters=None).fit(sim_mat)\n",
    "        clustered_order = plot_dendrogram(model, truncate_mode=\"level\", p=temp_mat.shape[1]) # p truncate mode\n",
    "        clustered_order = np.array(clustered_order).astype(int) # convert strins into integers\n",
    "\n",
    "        if j ==0:\n",
    "            iin_id_order = curr_ids[clustered_order]\n",
    "            iin_name_store = np.repeat(iin_order[j], len(curr_ids))\n",
    "            cnt = 1\n",
    "        else:\n",
    "            iin_id_order = np.concatenate((iin_id_order, curr_ids[clustered_order]))\n",
    "            iin_name_store = np.concatenate((iin_name_store, np.repeat(iin_order[j], len(curr_ids))))\n",
    "    else:\n",
    "        if j ==0:\n",
    "            iin_id_order = curr_ids\n",
    "            iin_name_store = np.repeat(iin_order[j], len(curr_ids))\n",
    "            cnt = 1\n",
    "        else:\n",
    "            iin_id_order = np.concatenate((iin_id_order, curr_ids))\n",
    "            iin_name_store = np.concatenate((iin_name_store, np.repeat(iin_order[j], len(curr_ids))))\n",
    "\n",
    "\n",
    "# excitatory\n",
    "ein_order = ['1A', '3A', '4B', '7B', '17A', '19B', '20A', '22A', '23B']\n",
    "ein_pre_idxs = np.where(np.logical_and(np.array(downstream_cell_class) == 'local premotor', np.array(downstream_EI) == 'E') == True)[0]\n",
    "ein_names = np.array(downstream_hemilineage)[ein_pre_idxs]\n",
    "for j in range(len(ein_order)):\n",
    "    curr_ids = ein_pre_idxs[np.where(np.array(ein_names) == ein_order[j])[0]]\n",
    "    if len(curr_ids)>1:\n",
    "        temp_mat = downstream_connectivity_matrix[:, curr_ids]\n",
    "        # cosine similarity to find structure\n",
    "        sim_mat = cosine_similarity(np.transpose(temp_mat))\n",
    "        model = AgglomerativeClustering(distance_threshold=0, n_clusters=None).fit(sim_mat)\n",
    "        clustered_order = plot_dendrogram(model, truncate_mode=\"level\", p=temp_mat.shape[1]) # p truncate mode\n",
    "        clustered_order = np.array(clustered_order).astype(int) # convert strins into integers\n",
    "\n",
    "        if j ==0:\n",
    "            ein_id_order = curr_ids[clustered_order]\n",
    "            ein_name_store = np.repeat(ein_order[j], len(curr_ids))\n",
    "            cnt = 1\n",
    "        else:\n",
    "            ein_id_order = np.concatenate((ein_id_order, curr_ids[clustered_order]))\n",
    "            ein_name_store = np.concatenate((ein_name_store, np.repeat(ein_order[j], len(curr_ids))))\n",
    "    else:\n",
    "        if j ==0:\n",
    "            ein_id_order = curr_ids\n",
    "            ein_name_store = np.repeat(ein_order[j], len(curr_ids))\n",
    "            cnt = 1\n",
    "        else:\n",
    "            ein_id_order = np.concatenate((ein_id_order, curr_ids))\n",
    "            ein_name_store = np.concatenate((ein_name_store, np.repeat(ein_order[j], len(curr_ids))))"
   ]
  },
  {
   "cell_type": "markdown",
   "id": "e597ea43",
   "metadata": {},
   "source": [
    "### CxHP8 premotor connectivity"
   ]
  },
  {
   "cell_type": "code",
   "execution_count": 59,
   "id": "8110d886",
   "metadata": {},
   "outputs": [
    {
     "data": {
      "image/png": "[encoded data removed]",
      "text/plain": [
       "<Figure size 1440x576 with 2 Axes>"
      ]
     },
     "metadata": {
      "needs_background": "light"
     },
     "output_type": "display_data"
    }
   ],
   "source": [
    "# combine ein and iin matrices and visualize\n",
    "cat_in_ids = np.concatenate((ein_id_order, iin_id_order))\n",
    "cat_in_names = np.concatenate((ein_name_store, iin_name_store))\n",
    "\n",
    "# extract out motor module connectivity matrix\n",
    "in_mat = downstream_connectivity_matrix[7:15, cat_in_ids]\n",
    "\n",
    "# filter matrix\n",
    "synapse_threshold = 4\n",
    "f_idxs = np.where(np.sum(in_mat, axis = 0) > synapse_threshold)[0]\n",
    "f_premat = in_mat[:, f_idxs]\n",
    "\n",
    "# visualize connectivity matrix\n",
    "fig = plt.figure(1, figsize = [20,8])\n",
    "ax = sea.heatmap(f_premat, xticklabels = cat_in_names[f_idxs].tolist(), yticklabels=np.array(Lhp_names)[7:15].tolist(), cmap=parula_map,vmin=0, vmax=120) #\n",
    "cbar = ax.collections[0].colorbar\n",
    "cbar.ax.tick_params(labelsize=14)\n",
    "cbar.set_label(label = 'Number of Synapses', size=20, fontname ='Arial')\n",
    "plt.xlabel('Premotor INs', fontsize =16, fontname ='Arial')\n",
    "plt.ylabel('Hair Plate Neurons', fontsize =16, fontname ='Arial')\n",
    "plt.yticks(fontsize = 12, fontname = 'Arial')\n",
    "plt.xticks(fontsize = 12, fontname = 'Arial')\n",
    "plt.show()\n",
    "fig.savefig(save_path+'cxhp8_premotor_connectivity_matrix.png', dpi = 300, bbox_inches = 'tight')\n",
    "fig.savefig(save_path+'cxhp8_premotor_connectivity_matrix.svg', dpi = 300, bbox_inches = 'tight')"
   ]
  },
  {
   "cell_type": "markdown",
   "id": "a9b9a88b",
   "metadata": {},
   "source": [
    "### All hair-plates"
   ]
  },
  {
   "cell_type": "code",
   "execution_count": 35,
   "id": "bae426c8",
   "metadata": {},
   "outputs": [
    {
     "data": {
      "image/png": "[encoded data removed]",
      "text/plain": [
       "<Figure size 1800x720 with 2 Axes>"
      ]
     },
     "metadata": {
      "needs_background": "light"
     },
     "output_type": "display_data"
    }
   ],
   "source": [
    "# combine ein and iin matrices and visualize\n",
    "cat_in_ids = np.concatenate((ein_id_order, iin_id_order))\n",
    "cat_in_names = np.concatenate((ein_name_store, iin_name_store))\n",
    "\n",
    "# extract out motor module connectivity matrix\n",
    "in_mat = downstream_connectivity_matrix[:, cat_in_ids]\n",
    "\n",
    "# visualize connectivity matrix\n",
    "fig = plt.figure(1, figsize = [25,10])\n",
    "ax = sea.heatmap(in_mat, xticklabels = cat_in_names.tolist(), yticklabels=np.array(Lhp_names)[swap_idx].tolist(), cmap=parula_map,vmin=0, vmax=200) #\n",
    "cbar = ax.collections[0].colorbar\n",
    "cbar.ax.tick_params(labelsize=14)\n",
    "cbar.set_label(label = 'Number of Synapses', size=20, fontname ='Arial')\n",
    "plt.xlabel('Premotor INs', fontsize =16, fontname ='Arial')\n",
    "plt.ylabel('Hair Plate Neurons', fontsize =16, fontname ='Arial')\n",
    "plt.yticks(fontsize = 12, fontname = 'Arial')\n",
    "plt.xticks(fontsize = 7, fontname = 'Arial')\n",
    "plt.show()\n",
    "# fig.savefig(save_path+'premotor_connectivity_matrix.png', dpi = 300, bbox_inches = 'tight')\n",
    "# fig.savefig(save_path+'premotor_connectivity_matrix.svg', dpi = 300, bbox_inches = 'tight')"
   ]
  }
 ],
 "metadata": {
  "kernelspec": {
   "display_name": "Python [conda env:fanc_analysis]",
   "language": "python",
   "name": "conda-env-fanc_analysis-py"
  },
  "language_info": {
   "codemirror_mode": {
    "name": "ipython",
    "version": 3
   },
   "file_extension": ".py",
   "mimetype": "text/x-python",
   "name": "python",
   "nbconvert_exporter": "python",
   "pygments_lexer": "ipython3",
   "version": "3.7.0"
  }
 },
 "nbformat": 4,
 "nbformat_minor": 5
}
