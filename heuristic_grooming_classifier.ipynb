{
 "cells": [
  {
   "cell_type": "markdown",
   "id": "78f5205d",
   "metadata": {},
   "source": [
    "# Heuristic T1 grooming classification\n",
    "\n",
    "### Brandon Pratt\n",
    "\n",
    "Refined grooming classifier: 1st pass - use the random forest classifier. 2nd pass - heuristic classifier that uses contact distances. \n",
    "\n",
    "Dyrad repository: DOI: 10.5061/dryad.fxpnvx153"
   ]
  },
  {
   "cell_type": "code",
   "execution_count": 1,
   "id": "5864390e",
   "metadata": {},
   "outputs": [],
   "source": [
    "# python libraries\n",
    "import pathlib\n",
    "import numpy as np\n",
    "import pandas as pd\n",
    "import matplotlib.pyplot as plt\n",
    "import seaborn\n",
    "import pickle \n",
    "from sklearn import preprocessing\n",
    "from scipy.ndimage import gaussian_filter1d\n",
    "from tqdm import tqdm"
   ]
  },
  {
   "cell_type": "code",
   "execution_count": 2,
   "id": "5be6f5e7",
   "metadata": {},
   "outputs": [],
   "source": [
    "# load data and model\n",
    "new_filename = 'R48A07AD_R20C06DBD_GtACR1.pq'\n",
    "data_path = pathlib.Path.cwd()\n",
    "data = pd.read_parquet(data_path.joinpath(new_filename), engine='pyarrow')"
   ]
  },
  {
   "cell_type": "code",
   "execution_count": 3,
   "id": "74b17883",
   "metadata": {},
   "outputs": [],
   "source": [
    "def add_stim_col(df):\n",
    "    df['stim_on_off'] = 0\n",
    "    df.loc[(df['stimlen'] == 1) & (df['fnum'] >= 150) & (df['fnum'] < 450), 'stim_on_off'] = 1\n",
    "    return df"
   ]
  },
  {
   "cell_type": "code",
   "execution_count": 4,
   "id": "f9f08feb",
   "metadata": {},
   "outputs": [],
   "source": [
    "data = add_stim_col(data)"
   ]
  },
  {
   "cell_type": "markdown",
   "id": "23f21443",
   "metadata": {},
   "source": [
    "### 1) Random forest classification 2) Heuristic classifier"
   ]
  },
  {
   "cell_type": "code",
   "execution_count": 5,
   "id": "f1be9414",
   "metadata": {},
   "outputs": [],
   "source": [
    "def contact_grooming_classifier(\n",
    "    ref_joint: str, \n",
    "    intraleg_joint: str, \n",
    "    interleg_joints: list,\n",
    "    bout_mask: bool,\n",
    "    n_bout_frames: int\n",
    "):\n",
    "    ref_pos = data[[ref_joint + '_x', ref_joint + '_y', ref_joint + '_z']][bout_mask].values\n",
    "    joint_comparisons = interleg_joints\n",
    "    joint_comparisons.append(intraleg_joint)\n",
    "    n_joint_comparisons = len(joint_comparisons)\n",
    "    joint_distances = np.zeros((n_bout_frames, n_joint_comparisons))\n",
    "    for j, joint in enumerate(joint_comparisons):\n",
    "        joint_pos = data[[joint + '_x', joint + '_y', joint + '_z']][bout_mask].values\n",
    "        joint_distances[:, j] = np.linalg.norm(joint_pos - ref_pos, axis=1)  # relative distances between ref and other joints\n",
    "\n",
    "    # joints with min distances\n",
    "    min_joint_idxs = np.argmin(joint_distances, axis=1)\n",
    "    dist_grooming_classification = min_joint_idxs != (n_joint_comparisons - 1)\n",
    "    \n",
    "    return dist_grooming_classification\n"
   ]
  },
  {
   "cell_type": "code",
   "execution_count": 6,
   "id": "ad84c747",
   "metadata": {},
   "outputs": [],
   "source": [
    "def leg_velocity_classifier(\n",
    "    leg_name: str,\n",
    "    bout_mask: bool,\n",
    "    fs: int,\n",
    "    clip_dt=0.02\n",
    "):\n",
    "    clip_samples = int(fs * clip_dt)\n",
    "    leg_vel = np.abs(data[f'{leg_name}_velo'][bout_mask].values)\n",
    "    leg_vel[0:clip_samples] = 0\n",
    "    leg_vel[-clip_samples::] = 0\n",
    "    leg_vel_smoothed = gaussian_filter1d(leg_vel, 5)\n",
    "    \n",
    "    return leg_vel_smoothed"
   ]
  },
  {
   "cell_type": "code",
   "execution_count": 7,
   "id": "99f82f9f",
   "metadata": {},
   "outputs": [],
   "source": [
    "# new transforms - abduction and flexion are swapped and rotation angle is already corrected for\n",
    "def transform_rotation_angle(df):\n",
    "    # transform coordinate system into Chris'\n",
    "    df['L1A_rot'] = df['L1A_rot'].values - 90\n",
    "\n",
    "    return df\n",
    "\n",
    "def transform_flexion_angle(df):\n",
    "\n",
    "    # covert to full polar from half polar representation\n",
    "    df['L1A_abduct'][df['L1A_abduct'] > 180] = df['L1A_abduct'][df['L1A_abduct'] > 180].values - 360\n",
    "\n",
    "    # transform coordinate system into Chris'\n",
    "    idxs_1 = np.logical_and(df['L1A_abduct'] >= 0, df['L1A_abduct'] <= 180) \n",
    "    idxs_2 = np.logical_and(df['L1A_abduct'] < 0, df['L1A_abduct'] >= -180) \n",
    "    df['L1A_abduct'][idxs_1] = 180 - df['L1A_abduct'][idxs_1].values \n",
    "    df['L1A_abduct'][idxs_2] = df['L1A_abduct'][idxs_2].values + 180\n",
    "    \n",
    "    return df"
   ]
  },
  {
   "cell_type": "code",
   "execution_count": 8,
   "id": "b32ea796",
   "metadata": {},
   "outputs": [
    {
     "name": "stderr",
     "output_type": "stream",
     "text": [
      "C:\\Users\\pratt\\AppData\\Local\\Temp\\ipykernel_2796\\1752106566.py:11: SettingWithCopyWarning: \n",
      "A value is trying to be set on a copy of a slice from a DataFrame\n",
      "\n",
      "See the caveats in the documentation: https://pandas.pydata.org/pandas-docs/stable/user_guide/indexing.html#returning-a-view-versus-a-copy\n",
      "  df['L1A_abduct'][df['L1A_abduct'] > 180] = df['L1A_abduct'][df['L1A_abduct'] > 180].values - 360\n",
      "C:\\Users\\pratt\\AppData\\Local\\Temp\\ipykernel_2796\\1752106566.py:16: SettingWithCopyWarning: \n",
      "A value is trying to be set on a copy of a slice from a DataFrame\n",
      "\n",
      "See the caveats in the documentation: https://pandas.pydata.org/pandas-docs/stable/user_guide/indexing.html#returning-a-view-versus-a-copy\n",
      "  df['L1A_abduct'][idxs_1] = 180 - df['L1A_abduct'][idxs_1].values\n",
      "C:\\Users\\pratt\\AppData\\Local\\Temp\\ipykernel_2796\\1752106566.py:17: SettingWithCopyWarning: \n",
      "A value is trying to be set on a copy of a slice from a DataFrame\n",
      "\n",
      "See the caveats in the documentation: https://pandas.pydata.org/pandas-docs/stable/user_guide/indexing.html#returning-a-view-versus-a-copy\n",
      "  df['L1A_abduct'][idxs_2] = df['L1A_abduct'][idxs_2].values + 180\n"
     ]
    }
   ],
   "source": [
    "# transform joint angles\n",
    "data = transform_rotation_angle(data)\n",
    "data = transform_flexion_angle(data)"
   ]
  },
  {
   "cell_type": "code",
   "execution_count": 9,
   "id": "f7c23c60",
   "metadata": {},
   "outputs": [],
   "source": [
    "# find grooming bouts \n",
    "def find_grooming_bouts(refined_grooming_classification, grooming_nframe_threshold):\n",
    "    grooming_frames = np.where(refined_grooming_classification)[0]\n",
    "    diff_grooming_frames = np.diff(grooming_frames)\n",
    "    start_idx = [0]\n",
    "    end_idx = []\n",
    "    for i, val in enumerate(diff_grooming_frames):\n",
    "        if val != 1:\n",
    "            end_idx.append(i)\n",
    "            start_idx.append(i + 1)\n",
    "        elif i == (len(diff_grooming_frames) - 1):\n",
    "            end_idx.append(i + 1)\n",
    "\n",
    "    # refined grooming bouts\n",
    "    start_array = np.array(start_idx)\n",
    "    end_array = np.array(end_idx)\n",
    "    if len(start_array) != len(end_array):\n",
    "        start_array = start_array[0:len(end_array)]\n",
    "        \n",
    "    # filter based on frames\n",
    "    bout_lengths = end_array - start_array\n",
    "    filt_start_frames = grooming_frames[start_array][bout_lengths >= grooming_nframe_threshold]\n",
    "    filt_end_frames = grooming_frames[end_array][bout_lengths >= grooming_nframe_threshold]\n",
    "    filt_grooming_frames = np.stack((filt_start_frames, filt_end_frames))\n",
    "    \n",
    "    return filt_grooming_frames"
   ]
  },
  {
   "cell_type": "code",
   "execution_count": 10,
   "id": "d2f82065",
   "metadata": {},
   "outputs": [
    {
     "name": "stderr",
     "output_type": "stream",
     "text": [
      "541it [36:59,  4.10s/it]\n"
     ]
    }
   ],
   "source": [
    "# coxa joint angles during grooming -- stim on and off\n",
    "stim_on_angles = [[], [], []]\n",
    "stim_off_angles = [[], [], []]\n",
    "stim_fly_info = []\n",
    "nostim_fly_info = []\n",
    "\n",
    "# global variables\n",
    "fs = 300\n",
    "grooming_nframe_threshold = fs * 0.1  # 100 ms\n",
    "\n",
    "# t1 grooming bouts\n",
    "t1_grooming_bouts = data['t1_grooming_bout_number'].unique()\n",
    "t1_grooming_bouts = t1_grooming_bouts[~np.isnan(t1_grooming_bouts)]\n",
    "\n",
    "# contraint thresholds\n",
    "vf_threshold = 5  # mm/s\n",
    "vr_threshold = 5  # deg/s \n",
    "\n",
    "# leg tip velocity threshold\n",
    "leg_vel_threshold = 1  # px/s?\n",
    "\n",
    "# joints for distance metric\n",
    "ref_joint = 'L1E'\n",
    "intraleg_joint = 'L1D'\n",
    "interleg_joints = ['R1A', 'R1B', 'R1C', 'R1D', 'R1E']\n",
    "\n",
    "# iterate through grooming bouts\n",
    "for i, bout in tqdm(enumerate(t1_grooming_bouts)):  # [t1_grooming_bouts[2]]\n",
    "    bout_mask = data['t1_grooming_bout_number'] == bout\n",
    "#     print(data['fullfile'][bout_mask].values[0])\n",
    "    bout_stim = data['stim_on_off'][bout_mask].values\n",
    "    n_bout_frames = bout_stim.shape[0]\n",
    "    \n",
    "    # grooming classification heuristics\n",
    "    # relative joint distances\n",
    "    dist_grooming_classification = contact_grooming_classifier(ref_joint, intraleg_joint, interleg_joints, bout_mask, n_bout_frames)\n",
    "    \n",
    "    # R1 and L1 velocity\n",
    "    l1_vel = leg_velocity_classifier('L1', bout_mask, fs)\n",
    "    r1_vel = leg_velocity_classifier('R1', bout_mask, fs)\n",
    "    l1_vel_classifier = l1_vel >= leg_vel_threshold\n",
    "    r1_vel_classifier = r1_vel >= leg_vel_threshold\n",
    "    \n",
    "    # forward ball velocity -- classify for no ball movement\n",
    "    vf = np.abs(data['fictrac_delta_rot_lab_y_mms'][bout_mask].values)\n",
    "    vf_smoothed = gaussian_filter1d(vf, 5)\n",
    "    vf_classifier = vf_smoothed <= vf_threshold\n",
    "    \n",
    "    # rotational velocity -- no ball movement\n",
    "    vr = np.abs(data['fictrac_delta_rot_lab_z_deg/s'][bout_mask].values)\n",
    "    vr_smoothed = gaussian_filter1d(vr, 5)\n",
    "    vr_classifier = vr_smoothed <= vr_threshold\n",
    "    \n",
    "    # refine grooming classification \n",
    "    refined_grooming_classification = np.logical_and.reduce((\n",
    "                                            dist_grooming_classification,\n",
    "                                            l1_vel_classifier,\n",
    "                                            r1_vel_classifier,\n",
    "                                            vf_classifier,\n",
    "                                            vr_classifier\n",
    "                                        ))\n",
    "    \n",
    "    # only analyze if there are grooming frames\n",
    "    if np.any(refined_grooming_classification):\n",
    "    \n",
    "        # remove short grooming bouts\n",
    "        filt_grooming_frames = find_grooming_bouts(refined_grooming_classification, grooming_nframe_threshold)\n",
    "        \n",
    "        # grooming frames after filtering\n",
    "        if len(filt_grooming_frames) > 0:\n",
    "\n",
    "            # seperate angles based on stim\n",
    "            n_subbouts = filt_grooming_frames.shape[1]\n",
    "            for j in range(n_subbouts):\n",
    "                start_frame = filt_grooming_frames[0, j]\n",
    "                end_frame = filt_grooming_frames[1, j] + 1\n",
    "\n",
    "                # stim condition\n",
    "                stim_array = bout_stim[start_frame: end_frame]\n",
    "\n",
    "                # angles\n",
    "                L1A_flex = data['L1A_abduct'][bout_mask].values[start_frame:end_frame]\n",
    "                L1A_abduct = data['L1A_flex'][bout_mask].values[start_frame:end_frame]\n",
    "                L1A_rot = data['L1A_rot'][bout_mask].values[start_frame:end_frame]\n",
    "                fly_info = data['flyid'][bout_mask].values[start_frame:end_frame]\n",
    "\n",
    "                # number of stim on and off frames\n",
    "                stim_on_nframes = len(np.where(stim_array == 1)[0])\n",
    "                stim_off_nframes = len(np.where(stim_array == 0)[0])\n",
    "\n",
    "                # append frames\n",
    "                if stim_on_nframes > 0:\n",
    "                    stim_on_idxs = np.where(stim_array == 1)[0]\n",
    "                    stim_on_angles[0].append(L1A_flex[stim_on_idxs])\n",
    "                    stim_on_angles[1].append(L1A_abduct[stim_on_idxs])\n",
    "                    stim_on_angles[2].append(L1A_rot[stim_on_idxs])\n",
    "                    stim_fly_info.append(fly_info[stim_on_idxs])\n",
    "\n",
    "\n",
    "                if stim_off_nframes > 0:\n",
    "                    stim_off_idxs = np.where(stim_array == 0)[0]\n",
    "                    stim_off_angles[0].append(L1A_flex[stim_off_idxs])\n",
    "                    stim_off_angles[1].append(L1A_abduct[stim_off_idxs])\n",
    "                    stim_off_angles[2].append(L1A_rot[stim_off_idxs])\n",
    "                    nostim_fly_info.append(fly_info[stim_off_idxs])\n"
   ]
  },
  {
   "cell_type": "code",
   "execution_count": 11,
   "id": "d748f523",
   "metadata": {},
   "outputs": [
    {
     "name": "stdout",
     "output_type": "stream",
     "text": [
      "Stim on bouts: 130\n",
      "Stim on frames: 9743\n",
      "Stim off bouts: 224\n",
      "Stim off frames: 15879\n"
     ]
    }
   ],
   "source": [
    "# unpack list of lists of coxa joint angles for stim on and off conditions\n",
    "'''stim on'''\n",
    "stim_on_coxa_flex = np.array([item for sublist in stim_on_angles[0] for item in sublist])\n",
    "stim_on_coxa_abduct = np.array([item for sublist in stim_on_angles[1] for item in sublist])\n",
    "stim_on_coxa_rot = np.array([item for sublist in stim_on_angles[2] for item in sublist])\n",
    "stim_flies = np.array([item for sublist in stim_fly_info for item in sublist])\n",
    "stim_on_bouts = len(stim_on_angles[0])\n",
    "stim_on_frames = len(stim_on_coxa_rot)\n",
    "print(f'Stim on bouts: {stim_on_bouts}')\n",
    "print(f'Stim on frames: {stim_on_frames}')\n",
    "\n",
    "'''stim off'''\n",
    "stim_off_coxa_flex = np.array([item for sublist in stim_off_angles[0] for item in sublist])\n",
    "stim_off_coxa_abduct = np.array([item for sublist in stim_off_angles[1] for item in sublist])\n",
    "stim_off_coxa_rot = np.array([item for sublist in stim_off_angles[2] for item in sublist])\n",
    "stim_off_flies = np.array([item for sublist in nostim_fly_info for item in sublist])\n",
    "stim_off_bouts = len(stim_off_angles[0])\n",
    "stim_off_frames = len(stim_off_coxa_rot)\n",
    "print(f'Stim off bouts: {stim_off_bouts}')\n",
    "print(f'Stim off frames: {stim_off_frames}')"
   ]
  },
  {
   "cell_type": "code",
   "execution_count": 12,
   "id": "5869c13d",
   "metadata": {},
   "outputs": [],
   "source": [
    "import pathlib"
   ]
  },
  {
   "cell_type": "code",
   "execution_count": 13,
   "id": "951af78d",
   "metadata": {},
   "outputs": [],
   "source": [
    "# results_path = pathlib.Path.cwd().parent.joinpath('figures')\n",
    "results_path = pathlib.Path.cwd()"
   ]
  },
  {
   "cell_type": "code",
   "execution_count": 14,
   "id": "90b670c2",
   "metadata": {},
   "outputs": [
    {
     "data": {
      "image/png": "[encoded data removed]",
      "text/plain": [
       "<Figure size 1440x288 with 3 Axes>"
      ]
     },
     "metadata": {
      "needs_background": "light"
     },
     "output_type": "display_data"
    }
   ],
   "source": [
    "# plot joint angles during grooming\n",
    "joint_labels = ['Rotation', 'Abduction', 'Flexion']\n",
    "joint_xlims = [[100, 200], [-30, 30], [0, 60]]\n",
    "joints_stim_on = [stim_on_coxa_rot, stim_on_coxa_abduct, stim_on_coxa_flex]\n",
    "joints_stim_off = [stim_off_coxa_rot, stim_off_coxa_abduct, stim_off_coxa_flex]\n",
    "n_joints = len(joints_stim_on)\n",
    "\n",
    "fig, axs = plt.subplots(1,3, figsize =[20,4], sharex=False, sharey=True)\n",
    "for i in range(n_joints):\n",
    "    seaborn.kdeplot(ax=axs[i], data=joints_stim_off[i], bw_adjust=1, color='gray', linewidth=3, cut=0, label=f'stim off; N = {stim_off_bouts}; n = {stim_off_frames}')\n",
    "    seaborn.kdeplot(ax=axs[i], data=joints_stim_on[i], bw_adjust=1, color='mediumseagreen', linewidth=3, cut=0, label=f'stim on; N = {stim_on_bouts}; n = {stim_on_frames}')\n",
    "    axs[i].set_xlabel(f'Body-Coxa {joint_labels[i]} ($^\\circ$)', fontsize=18)\n",
    "    axs[i].tick_params(axis='both', labelsize=14)\n",
    "    axs[i].set_ylim(-0.01, 0.15)\n",
    "    axs[i].set_xlim(joint_xlims[i][0], joint_xlims[i][1])\n",
    "    \n",
    "# format plots\n",
    "axs[0].set_ylabel('PDF', fontsize=18)\n",
    "plt.legend()\n",
    "plt.tight_layout()\n",
    "plt.show()\n",
    "    \n",
    "# fig.savefig(results_path.joinpath('t1_grooming_joint_angles_20241230.jpg'), dpi =200)\n",
    "# fig.savefig(results_path.joinpath('t1_grooming_joint_angles_20241230.pdf'), dpi =200)"
   ]
  },
  {
   "cell_type": "markdown",
   "id": "a79b2ed3",
   "metadata": {},
   "source": [
    "## Statistics"
   ]
  },
  {
   "cell_type": "markdown",
   "id": "bab3f362",
   "metadata": {},
   "source": [
    "### Linear Mixed-Effects Model"
   ]
  },
  {
   "cell_type": "code",
   "execution_count": null,
   "id": "0cb409ad",
   "metadata": {},
   "outputs": [],
   "source": [
    "flexion = np.concatenate((stim_on_coxa_flex, stim_off_coxa_flex))\n",
    "abduction = np.concatenate((stim_on_coxa_abduct, stim_off_coxa_abduct))\n",
    "rotation = np.concatenate((stim_on_coxa_rot, stim_off_coxa_rot))\n",
    "cat_flies = np.concatenate((stim_flies, stim_off_flies))\n",
    "laser_state = np.concatenate((np.ones(len(stim_on_coxa_flex)), np.zeros(len(stim_off_coxa_flex))))"
   ]
  },
  {
   "cell_type": "code",
   "execution_count": null,
   "id": "f703debf",
   "metadata": {},
   "outputs": [],
   "source": [
    "import statsmodels.api as sm\n",
    "import statsmodels.formula.api as smf"
   ]
  },
  {
   "cell_type": "code",
   "execution_count": null,
   "id": "87fbea2b",
   "metadata": {},
   "outputs": [],
   "source": [
    "angle = rotation\n",
    "model_data = pd.DataFrame({\n",
    "    'angle': angle, \n",
    "    'fly': cat_flies,\n",
    "    'condition': laser_state\n",
    "})"
   ]
  },
  {
   "cell_type": "code",
   "execution_count": null,
   "id": "546c062e",
   "metadata": {},
   "outputs": [],
   "source": [
    "model = smf.mixedlm(\"angle ~ C(condition)\", model_data, groups=model_data['fly'])\n",
    "results = model.fit()\n",
    "print(results.summary())\n",
    "print(results.pvalues)"
   ]
  },
  {
   "cell_type": "markdown",
   "id": "efd71996",
   "metadata": {},
   "source": [
    "### Population Stats"
   ]
  },
  {
   "cell_type": "code",
   "execution_count": 16,
   "id": "d3198f5a",
   "metadata": {},
   "outputs": [],
   "source": [
    "from scipy import stats\n",
    "def bootstrap_stats(n_bootstraps, pval_thresh, bon_correction, pop1, pop2, plotting, comparasion):\n",
    "    print(comparasion)\n",
    "    n_pop1 = len(pop1)\n",
    "    n_pop2 = len(pop2)\n",
    "    mean_pop_diff = np.mean(pop2) - np.mean(pop1) # BL\n",
    "    pooled_pop = np.concatenate((pop1, pop2))\n",
    "\n",
    "    # bootstraping \n",
    "    mean_stat_diff = np.zeros(n_bootstraps)\n",
    "    for j in range(n_bootstraps):\n",
    "        resample_pop1 = np.random.permutation(pooled_pop)[0:n_pop1] # randomly permute from a uniform distribution\n",
    "        resample_pop2 = np.random.permutation(pooled_pop)[n_pop1::]\n",
    "        mean_stat_diff[j] = np.mean(resample_pop2) - np.mean(resample_pop1)\n",
    "\n",
    "    if plotting:\n",
    "        plt.figure(1, figsize =[5,5])\n",
    "        hist, bin_edges = np.histogram(mean_stat_diff, bins=30, density=True)\n",
    "        plt.hist(mean_stat_diff, bins = 30, color='k', density = True)\n",
    "        plt.plot(np.array([mean_pop_diff, mean_pop_diff]), np.array([0,max(hist)]), color ='r')\n",
    "\n",
    "    # compute p-value\n",
    "    if mean_pop_diff> 0:\n",
    "        n_sig_samples = len(np.where(mean_stat_diff>=mean_pop_diff)[0])\n",
    "    else:\n",
    "        n_sig_samples = len(np.where(mean_stat_diff<=mean_pop_diff)[0])\n",
    "    pvalue = n_sig_samples/n_bootstraps\n",
    "    if pvalue == 0: # correct for the number of bootstraps\n",
    "        pvalue = 1/n_bootstraps\n",
    "    print('p value = ', pvalue)\n",
    "\n",
    "    # significance threshold with bonferroni correction\n",
    "    if pvalue <= (pval_thresh/bon_correction):\n",
    "        print('Statistically Significant')\n",
    "    else:\n",
    "        print('Not Statistically Significant')"
   ]
  },
  {
   "cell_type": "code",
   "execution_count": 20,
   "id": "3551bc7d",
   "metadata": {},
   "outputs": [
    {
     "name": "stdout",
     "output_type": "stream",
     "text": [
      "flexion\n",
      "p value =  0.0002\n",
      "Statistically Significant\n",
      "p critical =  0.05\n",
      "Mann Whitney U p =  0.002349179500832402\n",
      "Kruskal Wallis p =  0.002349172711325398\n",
      "t-test p =  0.004866354214695901\n"
     ]
    }
   ],
   "source": [
    "#define bootstrapping parameters\n",
    "n_bootstraps = 5000\n",
    "pval_thresh = 0.05\n",
    "bon_correction = 1\n",
    "plotting = False\n",
    "\n",
    "# Bootstrap\n",
    "comparasion = 'flexion'\n",
    "i=2\n",
    "pop1 = joints_stim_off[i]\n",
    "pop2 = joints_stim_on[i]\n",
    "bootstrap_stats(n_bootstraps, pval_thresh, bon_correction, pop1, pop2, plotting, comparasion)\n",
    "\n",
    "# Other statistical tests\n",
    "print('p critical = ', pval_thresh/bon_correction)\n",
    "print('Mann Whitney U p = ', stats.mannwhitneyu(pop1, pop2)[1])\n",
    "print('Kruskal Wallis p = ', stats.kruskal(pop1, pop2)[1])\n",
    "print('t-test p = ', stats.ttest_ind(pop1, pop2, equal_var = False)[1]) # identical averages"
   ]
  }
 ],
 "metadata": {
  "kernelspec": {
   "display_name": "Python 3 (ipykernel)",
   "language": "python",
   "name": "python3"
  },
  "language_info": {
   "codemirror_mode": {
    "name": "ipython",
    "version": 3
   },
   "file_extension": ".py",
   "mimetype": "text/x-python",
   "name": "python",
   "nbconvert_exporter": "python",
   "pygments_lexer": "ipython3",
   "version": "3.9.12"
  }
 },
 "nbformat": 4,
 "nbformat_minor": 5
}
